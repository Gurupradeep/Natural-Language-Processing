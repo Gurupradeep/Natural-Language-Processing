{
  "nbformat": 4,
  "nbformat_minor": 0,
  "metadata": {
    "colab": {
      "name": "Copy of week4-seq2seq.ipynb",
      "version": "0.3.2",
      "provenance": []
    },
    "kernelspec": {
      "name": "python3",
      "display_name": "Python 3"
    },
    "accelerator": "GPU"
  },
  "cells": [
    {
      "metadata": {
        "id": "8nFyD1XgOan_",
        "colab_type": "text"
      },
      "cell_type": "markdown",
      "source": [
        "# Learn to calculate with seq2seq model\n",
        "\n",
        "In this assignment, you will learn how to use neural networks to solve sequence-to-sequence prediction tasks. Seq2Seq models are very popular these days because they achieve great results in Machine Translation, Text Summarization, Conversational Modeling and more.\n",
        "\n",
        "Using sequence-to-sequence modeling you are going to build a calculator for evaluating arithmetic expressions, by taking an equation as an input to the neural network and producing an answer as it's output.\n",
        "\n",
        "The resulting solution for this problem will be based on state-of-the-art approaches for sequence-to-sequence learning and you should be able to easily adapt it to solve other tasks. However, if you want to train your own machine translation system or intellectual chat bot, it would be useful to have access to compute resources like GPU, and be patient, because training of such systems is usually time consuming. \n",
        "\n",
        "### Libraries\n",
        "\n",
        "For this task you will need the following libraries:\n",
        " - [TensorFlow](https://www.tensorflow.org) — an open-source software library for Machine Intelligence.\n",
        " - [scikit-learn](http://scikit-learn.org/stable/index.html) — a tool for data mining and data analysis.\n",
        " \n",
        "If you have never worked with TensorFlow, you will probably want to read some tutorials during your work on this assignment, e.g. [Neural Machine Translation](https://www.tensorflow.org/tutorials/seq2seq) tutorial deals with very similar task and can explain some concepts to you. "
      ]
    },
    {
      "metadata": {
        "id": "QOk8lriiOaoC",
        "colab_type": "text"
      },
      "cell_type": "markdown",
      "source": [
        "### Data\n",
        "\n",
        "One benefit of this task is that you don't need to download any data — you will generate it on your own! We will use two operators (addition and subtraction) and work with positive integer numbers in some range. Here are examples of correct inputs and outputs:\n",
        "\n",
        "    Input: '1+2'\n",
        "    Output: '3'\n",
        "    \n",
        "    Input: '0-99'\n",
        "    Output: '-99'\n",
        "\n",
        "*Note, that there are no spaces between operators and operands.*\n",
        "\n",
        "\n",
        "Now you need to implement the function *generate_equations*, which will be used to generate the data."
      ]
    },
    {
      "metadata": {
        "id": "ddlc8t0AOeQv",
        "colab_type": "code",
        "colab": {
          "base_uri": "https://localhost:8080/",
          "height": 204
        },
        "outputId": "da85d627-9519-4e6d-b694-930e1a076afa"
      },
      "cell_type": "code",
      "source": [
        "! wget https://raw.githubusercontent.com/hse-aml/natural-language-processing/master/setup_google_colab.py -O setup_google_colab.py\n",
        "import setup_google_colab\n",
        "# please, uncomment the week you're working on\n",
        "# setup_google_colab.setup_week1()  \n",
        "# setup_google_colab.setup_week2()\n",
        "# setup_google_colab.setup_week3()\n",
        "setup_google_colab.setup_week4()\n",
        "# setup_google_colab.setup_project()\n",
        "# setup_google_colab.setup_honor()"
      ],
      "execution_count": 1,
      "outputs": [
        {
          "output_type": "stream",
          "text": [
            "--2018-10-15 11:36:40--  https://raw.githubusercontent.com/hse-aml/natural-language-processing/master/setup_google_colab.py\n",
            "Resolving raw.githubusercontent.com (raw.githubusercontent.com)... 151.101.0.133, 151.101.64.133, 151.101.128.133, ...\n",
            "Connecting to raw.githubusercontent.com (raw.githubusercontent.com)|151.101.0.133|:443... connected.\n",
            "HTTP request sent, awaiting response... 200 OK\n",
            "Length: 2330 (2.3K) [text/plain]\n",
            "Saving to: ‘setup_google_colab.py’\n",
            "\n",
            "\rsetup_google_colab.   0%[                    ]       0  --.-KB/s               \rsetup_google_colab. 100%[===================>]   2.28K  --.-KB/s    in 0s      \n",
            "\n",
            "2018-10-15 11:36:41 (33.6 MB/s) - ‘setup_google_colab.py’ saved [2330/2330]\n",
            "\n"
          ],
          "name": "stdout"
        }
      ]
    },
    {
      "metadata": {
        "id": "ele-rUMrOaoE",
        "colab_type": "code",
        "colab": {}
      },
      "cell_type": "code",
      "source": [
        "import random"
      ],
      "execution_count": 0,
      "outputs": []
    },
    {
      "metadata": {
        "id": "9NOAwxVcR6_c",
        "colab_type": "code",
        "colab": {
          "base_uri": "https://localhost:8080/",
          "height": 102
        },
        "outputId": "a63eb668-7e7f-43b1-940e-a0776013a1e5"
      },
      "cell_type": "code",
      "source": [
        "help(random.randint)"
      ],
      "execution_count": 3,
      "outputs": [
        {
          "output_type": "stream",
          "text": [
            "Help on method randint in module random:\n",
            "\n",
            "randint(a, b) method of random.Random instance\n",
            "    Return random integer in range [a, b], including both end points.\n",
            "\n"
          ],
          "name": "stdout"
        }
      ]
    },
    {
      "metadata": {
        "id": "LfU5no4YOaoK",
        "colab_type": "code",
        "colab": {}
      },
      "cell_type": "code",
      "source": [
        "def generate_equations(allowed_operators, dataset_size, min_value, max_value):\n",
        "    \"\"\"Generates pairs of equations and solutions to them.\n",
        "    \n",
        "       Each equation has a form of two integers with an operator in between.\n",
        "       Each solution is an integer with the result of the operaion.\n",
        "    \n",
        "        allowed_operators: list of strings, allowed operators.\n",
        "        dataset_size: an integer, number of equations to be generated.\n",
        "        min_value: an integer, min value of each operand.\n",
        "        max_value: an integer, max value of each operand.\n",
        "\n",
        "        result: a list of tuples of strings (equation, solution).\n",
        "    \"\"\"\n",
        "    sample = []\n",
        "    for _ in range(dataset_size):\n",
        "        ######################################\n",
        "        ######### YOUR CODE HERE #############\n",
        "        ######################################\n",
        "        operand_1 = random.randint( 0, 100)\n",
        "        operand_2 = random.randint( 0, 100)\n",
        "        operator = random.choice(allowed_operators)\n",
        "        if(operator == '+') :\n",
        "          sample.append((str(operand_1) + operator + str(operand_2), str(operand_1 + operand_2)))\n",
        "        else :\n",
        "          sample.append((str(operand_1) + operator + str(operand_2), str(operand_1 - operand_2)))\n",
        "    return sample"
      ],
      "execution_count": 0,
      "outputs": []
    },
    {
      "metadata": {
        "id": "f1356EGQOaoP",
        "colab_type": "text"
      },
      "cell_type": "markdown",
      "source": [
        "To check the correctness of your implementation, use *test_generate_equations* function:"
      ]
    },
    {
      "metadata": {
        "id": "7EKbJ7GaOaoQ",
        "colab_type": "code",
        "colab": {}
      },
      "cell_type": "code",
      "source": [
        "def test_generate_equations():\n",
        "    allowed_operators = ['+', '-']\n",
        "    dataset_size = 10\n",
        "    for (input_, output_) in generate_equations(allowed_operators, dataset_size, 0, 100):\n",
        "        if not (type(input_) is str and type(output_) is str):\n",
        "            return \"Both parts should be strings.\"\n",
        "        if eval(input_) != int(output_):\n",
        "            return \"The (equation: {!r}, solution: {!r}) pair is incorrect.\".format(input_, output_)\n",
        "    return \"Tests passed.\""
      ],
      "execution_count": 0,
      "outputs": []
    },
    {
      "metadata": {
        "id": "TrGYbcXXOaoT",
        "colab_type": "code",
        "colab": {
          "base_uri": "https://localhost:8080/",
          "height": 34
        },
        "outputId": "08d84283-8f66-443d-9263-0e090fd14f87"
      },
      "cell_type": "code",
      "source": [
        "print(test_generate_equations())"
      ],
      "execution_count": 6,
      "outputs": [
        {
          "output_type": "stream",
          "text": [
            "Tests passed.\n"
          ],
          "name": "stdout"
        }
      ]
    },
    {
      "metadata": {
        "id": "rTEdWw_IOaoX",
        "colab_type": "text"
      },
      "cell_type": "markdown",
      "source": [
        "Finally, we are ready to generate the train and test data for the neural network:"
      ]
    },
    {
      "metadata": {
        "id": "qEa0LrVkOaoY",
        "colab_type": "code",
        "colab": {}
      },
      "cell_type": "code",
      "source": [
        "from sklearn.model_selection import train_test_split"
      ],
      "execution_count": 0,
      "outputs": []
    },
    {
      "metadata": {
        "id": "7gXLYj8MOaob",
        "colab_type": "code",
        "colab": {}
      },
      "cell_type": "code",
      "source": [
        "allowed_operators = ['+', '-']\n",
        "dataset_size = 100000\n",
        "data = generate_equations(allowed_operators, dataset_size, min_value=0, max_value=9999)\n",
        "\n",
        "train_set, test_set = train_test_split(data, test_size=0.2, random_state=42)"
      ],
      "execution_count": 0,
      "outputs": []
    },
    {
      "metadata": {
        "id": "dFa6OdPsOaoe",
        "colab_type": "text"
      },
      "cell_type": "markdown",
      "source": [
        "## Prepare data for the neural network\n",
        "\n",
        "The next stage of data preparation is creating mappings of the characters to their indices in some vocabulary. Since in our task we already know which symbols will appear in the inputs and outputs, generating the vocabulary is a simple step.\n",
        "\n",
        "#### How to create dictionaries for other task\n",
        "\n",
        "First of all, you need to understand what is the basic unit of the sequence in your task. In our case, we operate on symbols and the basic unit is a symbol. The number of symbols is small, so we don't need to think about filtering/normalization steps. However, in other tasks, the basic unit is often a word, and in this case the mapping would be *word $\\to$ integer*. The number of words might be huge, so it would be reasonable to filter them, for example, by frequency and leave only the frequent ones. Other strategies that your should consider are: data normalization (lowercasing, tokenization, how to consider punctuation marks), separate vocabulary for input and for output (e.g. for machine translation), some specifics of the task."
      ]
    },
    {
      "metadata": {
        "id": "ci-6jH-hOaof",
        "colab_type": "code",
        "colab": {}
      },
      "cell_type": "code",
      "source": [
        "word2id = {symbol:i for i, symbol in enumerate('#^$+-1234567890')}\n",
        "id2word = {i:symbol for symbol, i in word2id.items()}"
      ],
      "execution_count": 0,
      "outputs": []
    },
    {
      "metadata": {
        "id": "rI1ViZypOaoj",
        "colab_type": "text"
      },
      "cell_type": "markdown",
      "source": [
        "#### Special symbols"
      ]
    },
    {
      "metadata": {
        "id": "jkcjiuaoOaol",
        "colab_type": "code",
        "colab": {}
      },
      "cell_type": "code",
      "source": [
        "start_symbol = '^'\n",
        "end_symbol = '$'\n",
        "padding_symbol = '#'"
      ],
      "execution_count": 0,
      "outputs": []
    },
    {
      "metadata": {
        "id": "ke80MUiSe31d",
        "colab_type": "code",
        "colab": {
          "base_uri": "https://localhost:8080/",
          "height": 34
        },
        "outputId": "6258e4a8-69cd-48fe-d880-4d21884d951d"
      },
      "cell_type": "code",
      "source": [
        "word2id[end_symbol]"
      ],
      "execution_count": 11,
      "outputs": [
        {
          "output_type": "execute_result",
          "data": {
            "text/plain": [
              "2"
            ]
          },
          "metadata": {
            "tags": []
          },
          "execution_count": 11
        }
      ]
    },
    {
      "metadata": {
        "id": "Cl_Bs_R5e_A9",
        "colab_type": "code",
        "colab": {
          "base_uri": "https://localhost:8080/",
          "height": 34
        },
        "outputId": "3ebc5dca-ecdd-45bd-a64e-4dd261f64f13"
      },
      "cell_type": "code",
      "source": [
        "word2id[padding_symbol]"
      ],
      "execution_count": 12,
      "outputs": [
        {
          "output_type": "execute_result",
          "data": {
            "text/plain": [
              "0"
            ]
          },
          "metadata": {
            "tags": []
          },
          "execution_count": 12
        }
      ]
    },
    {
      "metadata": {
        "id": "AjUl42iTOaop",
        "colab_type": "text"
      },
      "cell_type": "markdown",
      "source": [
        "You could notice that we have added 3 special symbols: '^', '\\$' and '#':\n",
        "- '^' symbol will be passed to the network to indicate the beginning of the decoding procedure. We will discuss this one later in more details.\n",
        "- '\\$' symbol will be used to indicate the *end of a string*, both for input and output sequences. \n",
        "- '#' symbol will be used as a *padding* character to make lengths of all strings equal within one training batch.\n",
        "\n",
        "People have a bit different habits when it comes to special symbols in encoder-decoder networks, so don't get too much confused if you come across other variants in tutorials you read. "
      ]
    },
    {
      "metadata": {
        "id": "ymWacEiyOaoq",
        "colab_type": "text"
      },
      "cell_type": "markdown",
      "source": [
        "#### Padding"
      ]
    },
    {
      "metadata": {
        "id": "3ZWNr6ADOaor",
        "colab_type": "text"
      },
      "cell_type": "markdown",
      "source": [
        "When vocabularies are ready, we need to be able to convert a sentence to a list of vocabulary word indices and back. At the same time, let's care about padding. We are going to preprocess each sequence from the input (and output ground truth) in such a way that:\n",
        "- it has a predefined length *padded_len*\n",
        "- it is probably cut off or padded with the *padding symbol* '#'\n",
        "- it *always* ends with the *end symbol* '$'\n",
        "\n",
        "We will treat the original characters of the sequence **and the end symbol** as the valid part of the input. We will store *the actual length* of the sequence, which includes the end symbol, but does not include the padding symbols. "
      ]
    },
    {
      "metadata": {
        "id": "2aHaqJ81Oaos",
        "colab_type": "text"
      },
      "cell_type": "markdown",
      "source": [
        " Now you need to implement the function *sentence_to_ids* that does the described job. "
      ]
    },
    {
      "metadata": {
        "id": "qOaRUetxOaot",
        "colab_type": "code",
        "colab": {}
      },
      "cell_type": "code",
      "source": [
        "def sentence_to_ids(sentence, word2id, padded_len):\n",
        "    \"\"\" Converts a sequence of symbols to a padded sequence of their ids.\n",
        "    \n",
        "      sentence: a string, input/output sequence of symbols.\n",
        "      word2id: a dict, a mapping from original symbols to ids.\n",
        "      padded_len: an integer, a desirable length of the sequence.\n",
        "\n",
        "      result: a tuple of (a list of ids, an actual length of sentence).\n",
        "    \"\"\"\n",
        "    sent_ids = [word2id[end_symbol] for i in range(padded_len)]\n",
        "    length = padded_len-1 if padded_len-1 < len(sentence) else len(sentence)\n",
        "    for i in range(length):\n",
        "        sent_ids[i] = word2id[sentence[i]]\n",
        "    for i in range(length+1,padded_len):\n",
        "        sent_ids[i] = word2id[padding_symbol]\n",
        "    \n",
        "    \n",
        "    return sent_ids, length + 1"
      ],
      "execution_count": 0,
      "outputs": []
    },
    {
      "metadata": {
        "id": "plPLckInOaow",
        "colab_type": "text"
      },
      "cell_type": "markdown",
      "source": [
        "Check that your implementation is correct:"
      ]
    },
    {
      "metadata": {
        "id": "04CRvfCLOaow",
        "colab_type": "code",
        "colab": {}
      },
      "cell_type": "code",
      "source": [
        "def test_sentence_to_ids():\n",
        "    sentences = [(\"123+123\", 7), (\"123+123\", 8), (\"123+123\", 10)]\n",
        "    expected_output = [([5, 6, 7, 3, 5, 6, 2], 7), \n",
        "                       ([5, 6, 7, 3, 5, 6, 7, 2], 8), \n",
        "                       ([5, 6, 7, 3, 5, 6, 7, 2, 0, 0], 8)] \n",
        "    for (sentence, padded_len), (sentence_ids, expected_length) in zip(sentences, expected_output):\n",
        "        output, length = sentence_to_ids(sentence, word2id, padded_len)\n",
        "        if output != sentence_ids:\n",
        "            return(\"Convertion of '{}' for padded_len={} to {} is incorrect.\".format(\n",
        "                sentence, padded_len, output))\n",
        "        if length != expected_length:\n",
        "            return(\"Convertion of '{}' for padded_len={} has incorrect actual length {}.\".format(\n",
        "                sentence, padded_len, length))\n",
        "    return(\"Tests passed.\")"
      ],
      "execution_count": 0,
      "outputs": []
    },
    {
      "metadata": {
        "id": "ZFk3aiRXOaoz",
        "colab_type": "code",
        "colab": {
          "base_uri": "https://localhost:8080/",
          "height": 34
        },
        "outputId": "c314e7d9-6cce-4de5-bff6-ccc834bb6e2c"
      },
      "cell_type": "code",
      "source": [
        "print(test_sentence_to_ids())"
      ],
      "execution_count": 15,
      "outputs": [
        {
          "output_type": "stream",
          "text": [
            "Tests passed.\n"
          ],
          "name": "stdout"
        }
      ]
    },
    {
      "metadata": {
        "id": "L4pQGRorOao2",
        "colab_type": "text"
      },
      "cell_type": "markdown",
      "source": [
        "We also need to be able to get back from indices to symbols:"
      ]
    },
    {
      "metadata": {
        "id": "LepKXheQOao2",
        "colab_type": "code",
        "colab": {}
      },
      "cell_type": "code",
      "source": [
        "def ids_to_sentence(ids, id2word):\n",
        "    \"\"\" Converts a sequence of ids to a sequence of symbols.\n",
        "    \n",
        "          ids: a list, indices for the padded sequence.\n",
        "          id2word:  a dict, a mapping from ids to original symbols.\n",
        "\n",
        "          result: a list of symbols.\n",
        "    \"\"\"\n",
        " \n",
        "    return [id2word[i] for i in ids] "
      ],
      "execution_count": 0,
      "outputs": []
    },
    {
      "metadata": {
        "id": "40MvCzP7Oao6",
        "colab_type": "text"
      },
      "cell_type": "markdown",
      "source": [
        "#### Generating batches"
      ]
    },
    {
      "metadata": {
        "id": "QgPJh-VDOao7",
        "colab_type": "text"
      },
      "cell_type": "markdown",
      "source": [
        "The final step of data preparation is a function that transforms a batch of sentences to a list of lists of indices. "
      ]
    },
    {
      "metadata": {
        "id": "vZRq1ZgPOao9",
        "colab_type": "code",
        "colab": {}
      },
      "cell_type": "code",
      "source": [
        "def batch_to_ids(sentences, word2id, max_len):\n",
        "    \"\"\"Prepares batches of indices. \n",
        "    \n",
        "       Sequences are padded to match the longest sequence in the batch,\n",
        "       if it's longer than max_len, then max_len is used instead.\n",
        "\n",
        "        sentences: a list of strings, original sequences.\n",
        "        word2id: a dict, a mapping from original symbols to ids.\n",
        "        max_len: an integer, max len of sequences allowed.\n",
        "\n",
        "        result: a list of lists of ids, a list of actual lengths.\n",
        "    \"\"\"\n",
        "    \n",
        "    max_len_in_batch = min(max(len(s) for s in sentences) + 1, max_len)\n",
        "    batch_ids, batch_ids_len = [], []\n",
        "    for sentence in sentences:\n",
        "        ids, ids_len = sentence_to_ids(sentence, word2id, max_len_in_batch)\n",
        "        batch_ids.append(ids)\n",
        "        batch_ids_len.append(ids_len)\n",
        "    return batch_ids, batch_ids_len"
      ],
      "execution_count": 0,
      "outputs": []
    },
    {
      "metadata": {
        "id": "JAgYM69KOapJ",
        "colab_type": "text"
      },
      "cell_type": "markdown",
      "source": [
        "The function *generate_batches* will help to generate batches with defined size from given samples."
      ]
    },
    {
      "metadata": {
        "id": "Cb5g3TcjOapL",
        "colab_type": "code",
        "colab": {}
      },
      "cell_type": "code",
      "source": [
        "def generate_batches(samples, batch_size=64):\n",
        "    X, Y = [], []\n",
        "    for i, (x, y) in enumerate(samples, 1):\n",
        "        X.append(x)\n",
        "        Y.append(y)\n",
        "        if i % batch_size == 0:\n",
        "            yield X, Y\n",
        "            X, Y = [], []\n",
        "    if X and Y:\n",
        "        yield X, Y"
      ],
      "execution_count": 0,
      "outputs": []
    },
    {
      "metadata": {
        "id": "abfhHJ-kOapR",
        "colab_type": "text"
      },
      "cell_type": "markdown",
      "source": [
        "To illustrate the result of the implemented functions, run the following cell:"
      ]
    },
    {
      "metadata": {
        "id": "p6vnPY61OapT",
        "colab_type": "code",
        "colab": {
          "base_uri": "https://localhost:8080/",
          "height": 68
        },
        "outputId": "4c62771e-decd-4517-873f-b411086c81c7"
      },
      "cell_type": "code",
      "source": [
        "sentences = train_set[0]\n",
        "ids, sent_lens = batch_to_ids(sentences, word2id, max_len=10)\n",
        "print('Input:', sentences)\n",
        "print('Ids: {}\\nSentences lengths: {}'.format(ids, sent_lens))"
      ],
      "execution_count": 19,
      "outputs": [
        {
          "output_type": "stream",
          "text": [
            "Input: ('48+35', '83')\n",
            "Ids: [[8, 12, 3, 7, 9, 2], [12, 7, 2, 0, 0, 0]]\n",
            "Sentences lengths: [6, 3]\n"
          ],
          "name": "stdout"
        }
      ]
    },
    {
      "metadata": {
        "id": "1QAwSm_tOapV",
        "colab_type": "text"
      },
      "cell_type": "markdown",
      "source": [
        "## Encoder-Decoder architecture\n",
        "\n",
        "Encoder-Decoder is a successful architecture for Seq2Seq tasks with different lengths of input and output sequences. The main idea is to use two recurrent neural networks, where the first neural network *encodes* the input sequence into a real-valued vector and then the second neural network *decodes* this vector into the output sequence. While building the neural network, we will specify some particular characteristics of this architecture."
      ]
    },
    {
      "metadata": {
        "id": "7lKic6XmOapZ",
        "colab_type": "code",
        "colab": {}
      },
      "cell_type": "code",
      "source": [
        "import tensorflow as tf"
      ],
      "execution_count": 0,
      "outputs": []
    },
    {
      "metadata": {
        "id": "49o2ZENLOapc",
        "colab_type": "text"
      },
      "cell_type": "markdown",
      "source": [
        "Let us use TensorFlow building blocks to specify the network architecture."
      ]
    },
    {
      "metadata": {
        "id": "d0srEeOXOape",
        "colab_type": "code",
        "colab": {}
      },
      "cell_type": "code",
      "source": [
        "class Seq2SeqModel(object):\n",
        "    pass"
      ],
      "execution_count": 0,
      "outputs": []
    },
    {
      "metadata": {
        "id": "z-wDHx3GOaph",
        "colab_type": "text"
      },
      "cell_type": "markdown",
      "source": [
        "First, we need to create [placeholders](https://www.tensorflow.org/api_guides/python/io_ops#Placeholders) to specify what data we are going to feed into the network during the execution time. For this task we will need:\n",
        " - *input_batch* — sequences of sentences (the shape will equal to [batch_size, max_sequence_len_in_batch]);\n",
        " - *input_batch_lengths* — lengths of not padded sequences (the shape equals to [batch_size]);\n",
        " - *ground_truth* — sequences of groundtruth (the shape will equal to [batch_size, max_sequence_len_in_batch]);\n",
        " - *ground_truth_lengths* — lengths of not padded groundtruth sequences (the shape equals to [batch_size]);\n",
        " - *dropout_ph* — dropout keep probability; this placeholder has a predifined value 1;\n",
        " - *learning_rate_ph* — learning rate."
      ]
    },
    {
      "metadata": {
        "id": "jPctbnJvOapi",
        "colab_type": "code",
        "colab": {}
      },
      "cell_type": "code",
      "source": [
        "def declare_placeholders(self):\n",
        "    \"\"\"Specifies placeholders for the model.\"\"\"\n",
        "    \n",
        "    # Placeholders for input and its actual lengths.\n",
        "    self.input_batch = tf.placeholder(shape=(None, None), dtype=tf.int32, name='input_batch')\n",
        "    self.input_batch_lengths = tf.placeholder(shape=(None, ), dtype=tf.int32, name='input_batch_lengths')\n",
        "    \n",
        "    # Placeholders for groundtruth and its actual lengths.\n",
        "    self.ground_truth =  tf.placeholder(shape=(None, None), dtype=tf.int32, name='ground_truth') ######### YOUR CODE HERE #############\n",
        "    self.ground_truth_lengths = tf.placeholder(shape=(None, ), dtype=tf.int32, name='ground_truth_lengths') ######### YOUR CODE HERE #############\n",
        "        \n",
        "    self.dropout_ph = tf.placeholder_with_default(tf.cast(1.0, tf.float32), shape=[])\n",
        "    self.learning_rate_ph = tf.placeholder(shape = (), dtype = tf.float32)######### YOUR CODE HERE ############# "
      ],
      "execution_count": 0,
      "outputs": []
    },
    {
      "metadata": {
        "id": "rQTycN98Oapl",
        "colab_type": "code",
        "colab": {}
      },
      "cell_type": "code",
      "source": [
        "Seq2SeqModel.__declare_placeholders = classmethod(declare_placeholders)"
      ],
      "execution_count": 0,
      "outputs": []
    },
    {
      "metadata": {
        "id": "UlOyEh0XOapt",
        "colab_type": "text"
      },
      "cell_type": "markdown",
      "source": [
        "Now, let us specify the layers of the neural network. First, we need to prepare an embedding matrix. Since we use the same vocabulary for input and output, we need only one such matrix. For tasks with different vocabularies there would be multiple embedding layers.\n",
        "- Create embeddings matrix with [tf.Variable](https://www.tensorflow.org/api_docs/python/tf/Variable). Specify its name, type (tf.float32), and initialize with random values.\n",
        "- Perform [embeddings lookup](https://www.tensorflow.org/api_docs/python/tf/nn/embedding_lookup) for a given input batch."
      ]
    },
    {
      "metadata": {
        "id": "B0y_rg6fOapu",
        "colab_type": "code",
        "colab": {}
      },
      "cell_type": "code",
      "source": [
        "def create_embeddings(self, vocab_size, embeddings_size):\n",
        "    \"\"\"Specifies embeddings layer and embeds an input batch.\"\"\"\n",
        "     \n",
        "    random_initializer = tf.random_uniform((vocab_size, embeddings_size), -1.0, 1.0)\n",
        "    self.embeddings = tf.Variable(random_initializer)######### YOUR CODE HERE ############# \n",
        "    \n",
        "    # Perform embeddings lookup for self.input_batch. \n",
        "    self.input_batch_embedded = tf.nn.embedding_lookup(self.embeddings, self.input_batch)######### YOUR CODE HERE ############# "
      ],
      "execution_count": 0,
      "outputs": []
    },
    {
      "metadata": {
        "id": "TPbDKrioOapw",
        "colab_type": "code",
        "colab": {}
      },
      "cell_type": "code",
      "source": [
        "Seq2SeqModel.__create_embeddings = classmethod(create_embeddings)"
      ],
      "execution_count": 0,
      "outputs": []
    },
    {
      "metadata": {
        "id": "yiM9kQ9SOapz",
        "colab_type": "text"
      },
      "cell_type": "markdown",
      "source": [
        "#### Encoder\n",
        "\n",
        "The first RNN of the current architecture is called an *encoder* and serves for encoding an input sequence to a real-valued vector. Input of this RNN is an embedded input batch. Since sentences in the same batch could have different actual lengths, we also provide input lengths to avoid unnecessary computations. The final encoder state will be passed to the second RNN (decoder), which we will create soon. \n",
        "\n",
        "- TensorFlow provides a number of [RNN cells](https://www.tensorflow.org/api_guides/python/contrib.rnn#Core_RNN_Cells_for_use_with_TensorFlow_s_core_RNN_methods) ready for use. We suggest that you use [GRU cell](https://www.tensorflow.org/api_docs/python/tf/contrib/rnn/GRUCell), but you can also experiment with other types. \n",
        "- Wrap your cells with [DropoutWrapper](https://www.tensorflow.org/api_docs/python/tf/contrib/rnn/DropoutWrapper). Dropout is an important regularization technique for neural networks. Specify input keep probability using the dropout placeholder that we created before.\n",
        "- Combine the defined encoder cells with [Dynamic RNN](https://www.tensorflow.org/api_docs/python/tf/nn/dynamic_rnn). Use the embedded input batches and their lengths here.\n",
        "- Use *dtype=tf.float32* everywhere."
      ]
    },
    {
      "metadata": {
        "id": "AUHdKf2qOapz",
        "colab_type": "code",
        "colab": {}
      },
      "cell_type": "code",
      "source": [
        "def build_encoder(self, hidden_size):\n",
        "    \"\"\"Specifies encoder architecture and computes its output.\"\"\"\n",
        "    \n",
        "    # Create GRUCell with dropout.\n",
        "    encoder_cell =tf.nn.rnn_cell.DropoutWrapper(tf.nn.rnn_cell.GRUCell(hidden_size),\n",
        "                                                input_keep_prob=self.dropout_ph) ######### YOUR CODE HERE #############\n",
        "    \n",
        "    # Create RNN with the predefined cell.\n",
        "    _, self.final_encoder_state = tf.nn.dynamic_rnn(encoder_cell,\n",
        "                                                    self.input_batch_embedded,\n",
        "                                                    dtype=tf.float32,\n",
        "                                                    sequence_length=self.input_batch_lengths)######### YOUR CODE HERE #############"
      ],
      "execution_count": 0,
      "outputs": []
    },
    {
      "metadata": {
        "id": "31fLeh43Oap5",
        "colab_type": "code",
        "colab": {}
      },
      "cell_type": "code",
      "source": [
        "Seq2SeqModel.__build_encoder = classmethod(build_encoder)"
      ],
      "execution_count": 0,
      "outputs": []
    },
    {
      "metadata": {
        "id": "acP-JLWHOaqA",
        "colab_type": "text"
      },
      "cell_type": "markdown",
      "source": [
        "#### Decoder\n",
        "\n",
        "The second RNN is called a *decoder* and serves for generating the output sequence. In the simple seq2seq arcitecture, the input sequence is provided to the decoder only as the final state of the encoder. Obviously, it is a bottleneck and [Attention techniques](https://www.tensorflow.org/tutorials/seq2seq#background_on_the_attention_mechanism) can help to overcome it. So far, we do not need them to make our calculator work, but this would be a necessary ingredient for more advanced tasks. \n",
        "\n",
        "During training, decoder also uses information about the true output. It is feeded in as input symbol by symbol. However, during the prediction stage (which is called *inference* in this architecture), the decoder can only use its own generated output from the previous step to feed it in at the next step. Because of this difference (*training* vs *inference*), we will create two distinct instances, which will serve for the described scenarios.\n",
        "\n",
        "The picture below illustrates the point. It also shows our work with the special characters, e.g. look how the start symbol `^` is used. The transparent parts are ignored. In decoder, it is masked out in the loss computation. In encoder, the green state is considered as final and passed to the decoder. "
      ]
    },
    {
      "metadata": {
        "id": "xqhfSmZpOaqC",
        "colab_type": "text"
      },
      "cell_type": "markdown",
      "source": [
        "<img src=\"https://github.com/hse-aml/natural-language-processing/blob/master/week4/encoder-decoder-pic.png?raw=1\" style=\"width: 500px;\">"
      ]
    },
    {
      "metadata": {
        "id": "kAMrYna4OaqD",
        "colab_type": "text"
      },
      "cell_type": "markdown",
      "source": [
        "Now, it's time to implement the decoder:\n",
        " - First, we should create two [helpers](https://www.tensorflow.org/api_guides/python/contrib.seq2seq#Dynamic_Decoding). These classes help to determine the behaviour of the decoder. During the training time, we will use [TrainingHelper](https://www.tensorflow.org/api_docs/python/tf/contrib/seq2seq/TrainingHelper). For the inference we recommend to use [GreedyEmbeddingHelper](https://www.tensorflow.org/api_docs/python/tf/contrib/seq2seq/GreedyEmbeddingHelper).\n",
        " - To share all parameters during training and inference, we use one scope and set the flag 'reuse' to True at inference time. You might be interested to know more about how [variable scopes](https://www.tensorflow.org/programmers_guide/variables) work in TF. \n",
        " - To create the decoder itself, we will use [BasicDecoder](https://www.tensorflow.org/api_docs/python/tf/contrib/seq2seq/BasicDecoder) class. As previously, you should choose some RNN cell, e.g. GRU cell. To turn hidden states into logits, we will need a projection layer. One of the simple solutions is using [OutputProjectionWrapper](https://www.tensorflow.org/api_docs/python/tf/contrib/rnn/OutputProjectionWrapper).\n",
        " - For getting the predictions, it will be convinient to use [dynamic_decode](https://www.tensorflow.org/api_docs/python/tf/contrib/seq2seq/dynamic_decode). This function uses the provided decoder to perform decoding."
      ]
    },
    {
      "metadata": {
        "id": "-r4R8R3JOaqF",
        "colab_type": "code",
        "colab": {}
      },
      "cell_type": "code",
      "source": [
        "def build_decoder(self, hidden_size, vocab_size, max_iter, start_symbol_id, end_symbol_id):\n",
        "    \"\"\"Specifies decoder architecture and computes the output.\n",
        "    \n",
        "        Uses different helpers:\n",
        "          - for train: feeding ground truth\n",
        "          - for inference: feeding generated output\n",
        "\n",
        "        As a result, self.train_outputs and self.infer_outputs are created. \n",
        "        Each of them contains two fields:\n",
        "          rnn_output (predicted logits)\n",
        "          sample_id (predictions).\n",
        "\n",
        "    \"\"\"\n",
        "    \n",
        "    # Use start symbols as the decoder inputs at the first time step.\n",
        "    batch_size = tf.shape(self.input_batch)[0]\n",
        "    start_tokens = tf.fill([batch_size], start_symbol_id)\n",
        "    ground_truth_as_input = tf.concat([tf.expand_dims(start_tokens, 1), self.ground_truth], 1)\n",
        "    \n",
        "    # Use the embedding layer defined before to lookup embedings for ground_truth_as_input. \n",
        "    self.ground_truth_embedded = tf.nn.embedding_lookup(self.embeddings, ground_truth_as_input) ######### YOUR CODE HERE #############\n",
        "     \n",
        "    # Create TrainingHelper for the train stage.\n",
        "    train_helper = tf.contrib.seq2seq.TrainingHelper(self.ground_truth_embedded, \n",
        "                                                     self.ground_truth_lengths)\n",
        "    \n",
        "    # Create GreedyEmbeddingHelper for the inference stage.\n",
        "    # You should provide the embedding layer, start_tokens and index of the end symbol.\n",
        "    infer_helper = tf.contrib.seq2seq.GreedyEmbeddingHelper(self.embeddings,\n",
        "                                                            start_tokens, end_symbol_id) ######### YOUR CODE HERE #############\n",
        "    \n",
        "    def decode(helper, scope, reuse=None):\n",
        "        \"\"\"Creates decoder and return the results of the decoding with a given helper.\"\"\"\n",
        "        \n",
        "        with tf.variable_scope(scope, reuse=reuse):\n",
        "            # Create GRUCell with dropout. Do not forget to set the reuse flag properly.\n",
        "            decoder_cell = tf.nn.rnn_cell.DropoutWrapper(tf.nn.rnn_cell.GRUCell(hidden_size, reuse=reuse),\n",
        "                                                input_keep_prob=self.dropout_ph) ######### YOUR CODE HERE #############\n",
        "            \n",
        "            # Create a projection wrapper.\n",
        "            decoder_cell = tf.contrib.rnn.OutputProjectionWrapper(decoder_cell, vocab_size, reuse=reuse)\n",
        "            \n",
        "            # Create BasicDecoder, pass the defined cell, a helper, and initial state.\n",
        "            # The initial state should be equal to the final state of the encoder!\n",
        "            decoder = tf.contrib.seq2seq.BasicDecoder(decoder_cell, helper,\n",
        "                                                      self.final_encoder_state) ######### YOUR CODE HERE #############\n",
        "            \n",
        "            # The first returning argument of dynamic_decode contains two fields:\n",
        "            #   rnn_output (predicted logits)\n",
        "            #   sample_id (predictions)\n",
        "            outputs, _, _ = tf.contrib.seq2seq.dynamic_decode(decoder=decoder, maximum_iterations=max_iter, \n",
        "                                                              output_time_major=False, impute_finished=True)\n",
        "\n",
        "            return outputs\n",
        "        \n",
        "    self.train_outputs = decode(train_helper, 'decode')\n",
        "    self.infer_outputs = decode(infer_helper, 'decode', reuse=True)"
      ],
      "execution_count": 0,
      "outputs": []
    },
    {
      "metadata": {
        "id": "ylB5ycwjOaqK",
        "colab_type": "code",
        "colab": {}
      },
      "cell_type": "code",
      "source": [
        "Seq2SeqModel.__build_decoder = classmethod(build_decoder)"
      ],
      "execution_count": 0,
      "outputs": []
    },
    {
      "metadata": {
        "id": "pPWtk_vpOaqP",
        "colab_type": "text"
      },
      "cell_type": "markdown",
      "source": [
        "In this task we will use [sequence_loss](https://www.tensorflow.org/api_docs/python/tf/contrib/seq2seq/sequence_loss), which is a weighted cross-entropy loss for a sequence of logits. Take a moment to understand, what is your train logits and targets. Also note, that we do not want to take into account loss terms coming from padding symbols, so we will mask them out using weights.  "
      ]
    },
    {
      "metadata": {
        "id": "WFrFqiUsOaqR",
        "colab_type": "code",
        "colab": {}
      },
      "cell_type": "code",
      "source": [
        "def compute_loss(self):\n",
        "    \"\"\"Computes sequence loss (masked cross-entopy loss with logits).\"\"\"\n",
        "    \n",
        "    weights = tf.cast(tf.sequence_mask(self.ground_truth_lengths), dtype=tf.float32)\n",
        "    \n",
        "    self.loss = tf.contrib.seq2seq.sequence_loss(self.train_outputs.rnn_output, self.ground_truth, weights) ######### YOUR CODE HERE #############"
      ],
      "execution_count": 0,
      "outputs": []
    },
    {
      "metadata": {
        "id": "dxRTWCHZOaqV",
        "colab_type": "code",
        "colab": {}
      },
      "cell_type": "code",
      "source": [
        "Seq2SeqModel.__compute_loss = classmethod(compute_loss)"
      ],
      "execution_count": 0,
      "outputs": []
    },
    {
      "metadata": {
        "id": "5YnWMyjLOaqa",
        "colab_type": "text"
      },
      "cell_type": "markdown",
      "source": [
        "The last thing to specify is the optimization of the defined loss. \n",
        "We suggest that you use [optimize_loss](https://www.tensorflow.org/api_docs/python/tf/contrib/layers/optimize_loss) with Adam optimizer and a learning rate from the corresponding placeholder. You might also need to pass global step (e.g. as tf.train.get_global_step()) and clip gradients by 1.0."
      ]
    },
    {
      "metadata": {
        "id": "6AcE6tfIOaqc",
        "colab_type": "code",
        "colab": {}
      },
      "cell_type": "code",
      "source": [
        "def perform_optimization(self):\n",
        "    \"\"\"Specifies train_op that optimizes self.loss.\"\"\"\n",
        "    \n",
        "    self.train_op =  self.train_op = tf.contrib.layers.optimize_loss(\n",
        "        self.loss,\n",
        "        tf.train.get_global_step(),\n",
        "        self.learning_rate_ph,\n",
        "        'Adam',\n",
        "        clip_gradients=1.0)######### YOUR CODE HERE #############"
      ],
      "execution_count": 0,
      "outputs": []
    },
    {
      "metadata": {
        "id": "LA7bpANiOaqh",
        "colab_type": "code",
        "colab": {}
      },
      "cell_type": "code",
      "source": [
        "Seq2SeqModel.__perform_optimization = classmethod(perform_optimization)"
      ],
      "execution_count": 0,
      "outputs": []
    },
    {
      "metadata": {
        "id": "Nd0pwbFLOaqn",
        "colab_type": "text"
      },
      "cell_type": "markdown",
      "source": [
        "Congratulations! You have specified all the parts of your network. You may have noticed, that we didn't deal with any real data yet, so what you have written is just recipies on how the network should function.\n",
        "Now we will put them to the constructor of our Seq2SeqModel class to use it in the next section. "
      ]
    },
    {
      "metadata": {
        "id": "9MKnoXgnOaqo",
        "colab_type": "code",
        "colab": {}
      },
      "cell_type": "code",
      "source": [
        "def init_model(self, vocab_size, embeddings_size, hidden_size, \n",
        "               max_iter, start_symbol_id, end_symbol_id, padding_symbol_id):\n",
        "    \n",
        "    self.__declare_placeholders()\n",
        "    self.__create_embeddings(vocab_size, embeddings_size)\n",
        "    self.__build_encoder(hidden_size)\n",
        "    self.__build_decoder(hidden_size, vocab_size, max_iter, start_symbol_id, end_symbol_id)\n",
        "    \n",
        "    # Compute loss and back-propagate.\n",
        "    self.__compute_loss()\n",
        "    self.__perform_optimization()\n",
        "    \n",
        "    # Get predictions for evaluation.\n",
        "    self.train_predictions = self.train_outputs.sample_id\n",
        "    self.infer_predictions = self.infer_outputs.sample_id"
      ],
      "execution_count": 0,
      "outputs": []
    },
    {
      "metadata": {
        "id": "w3Tju2leOaqr",
        "colab_type": "code",
        "colab": {}
      },
      "cell_type": "code",
      "source": [
        "Seq2SeqModel.__init__ = classmethod(init_model)"
      ],
      "execution_count": 0,
      "outputs": []
    },
    {
      "metadata": {
        "id": "3_VHaFhtOaqt",
        "colab_type": "text"
      },
      "cell_type": "markdown",
      "source": [
        "## Train the network and predict output\n",
        "\n",
        "[Session.run](https://www.tensorflow.org/api_docs/python/tf/Session#run) is a point which initiates computations in the graph that we have defined. To train the network, we need to compute *self.train_op*. To predict output, we just need to compute *self.infer_predictions*. In any case, we need to feed actual data through the placeholders that we defined above. "
      ]
    },
    {
      "metadata": {
        "id": "noAcMuLZOaqv",
        "colab_type": "code",
        "colab": {}
      },
      "cell_type": "code",
      "source": [
        "def train_on_batch(self, session, X, X_seq_len, Y, Y_seq_len, learning_rate, dropout_keep_probability):\n",
        "    feed_dict = {\n",
        "            self.input_batch: X,\n",
        "            self.input_batch_lengths: X_seq_len,\n",
        "            self.ground_truth: Y,\n",
        "            self.ground_truth_lengths: Y_seq_len,\n",
        "            self.learning_rate_ph: learning_rate,\n",
        "            self.dropout_ph: dropout_keep_probability\n",
        "        }\n",
        "    pred, loss, _ = session.run([\n",
        "            self.train_predictions,\n",
        "            self.loss,\n",
        "            self.train_op], feed_dict=feed_dict)\n",
        "    return pred, loss"
      ],
      "execution_count": 0,
      "outputs": []
    },
    {
      "metadata": {
        "id": "UMxc66kdOaqz",
        "colab_type": "code",
        "colab": {}
      },
      "cell_type": "code",
      "source": [
        "Seq2SeqModel.train_on_batch = classmethod(train_on_batch)"
      ],
      "execution_count": 0,
      "outputs": []
    },
    {
      "metadata": {
        "id": "3HxHqWjROaq1",
        "colab_type": "text"
      },
      "cell_type": "markdown",
      "source": [
        "We implemented two prediction functions: *predict_for_batch* and *predict_for_batch_with_loss*. The first one allows only to predict output for some input sequence, while the second one could compute loss because we provide also ground truth values. Both these functions might be useful since the first one could be used for predicting only, and the second one is helpful for validating results on not-training data during the training."
      ]
    },
    {
      "metadata": {
        "id": "SpfT2dOrOaq3",
        "colab_type": "code",
        "colab": {}
      },
      "cell_type": "code",
      "source": [
        "def predict_for_batch(self, session, X, X_seq_len):\n",
        "    feed_dict =  {\n",
        "        self.input_batch: X,\n",
        "        self.input_batch_lengths: X_seq_len,\n",
        "    }\n",
        "    ######### YOUR CODE HERE #############\n",
        "    pred = session.run([\n",
        "            self.infer_predictions\n",
        "        ], feed_dict=feed_dict)[0]\n",
        "    return pred\n",
        "\n",
        "def predict_for_batch_with_loss(self, session, X, X_seq_len, Y, Y_seq_len):\n",
        "    feed_dict = {\n",
        "        self.input_batch: X,\n",
        "        self.input_batch_lengths: X_seq_len,\n",
        "        self.ground_truth: Y,\n",
        "        self.ground_truth_lengths: Y_seq_len,\n",
        "    } ######### YOUR CODE HERE #############\n",
        "    pred, loss = session.run([\n",
        "            self.infer_predictions,\n",
        "            self.loss,\n",
        "        ], feed_dict=feed_dict)\n",
        "    return pred, loss"
      ],
      "execution_count": 0,
      "outputs": []
    },
    {
      "metadata": {
        "id": "QA__EOsEOaq5",
        "colab_type": "code",
        "colab": {}
      },
      "cell_type": "code",
      "source": [
        "Seq2SeqModel.predict_for_batch = classmethod(predict_for_batch)\n",
        "Seq2SeqModel.predict_for_batch_with_loss = classmethod(predict_for_batch_with_loss)"
      ],
      "execution_count": 0,
      "outputs": []
    },
    {
      "metadata": {
        "id": "hFm5-FvROaq7",
        "colab_type": "text"
      },
      "cell_type": "markdown",
      "source": [
        "## Run your experiment\n",
        "\n",
        "Create *Seq2SeqModel* model with the following parameters:\n",
        " - *vocab_size* — number of tokens;\n",
        " - *embeddings_size* — dimension of embeddings, recommended value: 20;\n",
        " - *max_iter* — maximum number of steps in decoder, recommended value: 7;\n",
        " - *hidden_size* — size of hidden layers for RNN, recommended value: 512;\n",
        " - *start_symbol_id* — an index of the start token (`^`).\n",
        " - *end_symbol_id* — an index of the end token (`$`).\n",
        " - *padding_symbol_id* — an index of the padding token (`#`).\n",
        "\n",
        "Set hyperparameters. You might want to start with the following values and see how it works:\n",
        "- *batch_size*: 128;\n",
        "- at least 10 epochs;\n",
        "- value of *learning_rate*: 0.001\n",
        "- *dropout_keep_probability* equals to 0.5 for training (typical values for dropout probability are ranging from 0.1 to 1.0); larger values correspond smaler number of dropout units;\n",
        "- *max_len*: 20."
      ]
    },
    {
      "metadata": {
        "id": "PN4di-KIOaq7",
        "colab_type": "code",
        "colab": {}
      },
      "cell_type": "code",
      "source": [
        "tf.reset_default_graph()\n",
        "\n",
        "model = Seq2SeqModel(len(word2id), 20, 512, \n",
        "               7, word2id[start_symbol], word2id[end_symbol], word2id[padding_symbol])\n",
        "######### YOUR CODE HERE #############\n",
        "\n",
        "batch_size = 128 #128 ######### YOUR CODE HERE #############\n",
        "n_epochs = 10 ######### YOUR CODE HERE #############\n",
        "learning_rate = 0.001 ######### YOUR CODE HERE #############\n",
        "dropout_keep_probability = 0.5 ######### YOUR CODE HERE #############\n",
        "max_len = 20 ######### YOUR CODE HERE #############\n",
        "\n",
        "# train_set = train_set[:1000]\n",
        "n_step = int(len(train_set) / batch_size)"
      ],
      "execution_count": 0,
      "outputs": []
    },
    {
      "metadata": {
        "id": "S4GbMWH0Oaq-",
        "colab_type": "text"
      },
      "cell_type": "markdown",
      "source": [
        "Finally, we are ready to run the training! A good indicator that everything works fine is decreasing loss during the training. You should account on the loss value equal to approximately 2.7 at the beginning of the training and near 1 after the 10th epoch."
      ]
    },
    {
      "metadata": {
        "scrolled": true,
        "id": "H5ifOfcfOaq_",
        "colab_type": "code",
        "colab": {
          "base_uri": "https://localhost:8080/",
          "height": 3145
        },
        "outputId": "d805490e-d71e-4f30-928d-2dc742413ead"
      },
      "cell_type": "code",
      "source": [
        "session = tf.Session()\n",
        "session.run(tf.global_variables_initializer())\n",
        "            \n",
        "invalid_number_prediction_counts = []\n",
        "all_model_predictions = []\n",
        "all_ground_truth = []\n",
        "\n",
        "print('Start training... \\n')\n",
        "for epoch in range(n_epochs):  \n",
        "    random.shuffle(train_set)\n",
        "    random.shuffle(test_set)\n",
        "    \n",
        "    print('Train: epoch', epoch + 1)\n",
        "    for n_iter, (X_batch, Y_batch) in enumerate(generate_batches(train_set, batch_size=batch_size)):\n",
        "        ######################################\n",
        "        ######### YOUR CODE HERE #############\n",
        "        ######################################\n",
        "        # prepare the data (X_batch and Y_batch) for training\n",
        "        # using function batch_to_ids\n",
        "        X, X_seq_len = batch_to_ids(X_batch, word2id, max_len)\n",
        "        Y, Y_seq_len = batch_to_ids(Y_batch, word2id, max_len)\n",
        "        predictions, loss = model.train_on_batch(session, X, X_seq_len, Y, Y_seq_len, learning_rate, dropout_keep_probability)######### YOUR CODE HERE #############\n",
        "        \n",
        "        if n_iter % 200 == 0:\n",
        "            print(\"Epoch: [%d/%d], step: [%d/%d], loss: %f\" % (epoch + 1, n_epochs, n_iter + 1, n_step, loss))\n",
        "                \n",
        "    X_sent, Y_sent = next(generate_batches(test_set, batch_size=batch_size))\n",
        "    ######################################\n",
        "    ######### YOUR CODE HERE #############\n",
        "    ######################################\n",
        "    # prepare test data (X_sent and Y_sent) for predicting \n",
        "    # quality and computing value of the loss function\n",
        "    # using function batch_to_ids\n",
        "    X_test, X_test_len = batch_to_ids(X_sent, word2id, max_len)\n",
        "    Y_test, Y_test_len = batch_to_ids(Y_sent, word2id, max_len)\n",
        "    \n",
        "    predictions, loss = model.predict_for_batch_with_loss(session, X_test, X_test_len, Y_test, Y_test_len) ######### YOUR CODE HERE #############\n",
        "    print('Test: epoch', epoch + 1, 'loss:', loss,)\n",
        "    for x, y, p  in list(zip(X, Y, predictions))[:3]:\n",
        "        print('X:',''.join(ids_to_sentence(x, id2word)))\n",
        "        print('Y:',''.join(ids_to_sentence(y, id2word)))\n",
        "        print('O:',''.join(ids_to_sentence(p, id2word)))\n",
        "        print('')\n",
        "\n",
        "    model_predictions = []\n",
        "    ground_truth = []\n",
        "    invalid_number_prediction_count = 0\n",
        "    # For the whole test set calculate ground-truth values (as integer numbers)\n",
        "    # and prediction values (also as integers) to calculate metrics.\n",
        "    # If generated by model number is not correct (e.g. '1-1'), \n",
        "    # increase invalid_number_prediction_count and don't append this and corresponding\n",
        "    # ground-truth value to the arrays.\n",
        "    for X_batch, Y_batch in generate_batches(test_set, batch_size=batch_size):\n",
        "        ######################################\n",
        "        ######### YOUR CODE HERE #############\n",
        "        ######################################\n",
        "        X, X_seq_len = batch_to_ids(X_batch, word2id, max_len)\n",
        "        Y, Y_seq_len = batch_to_ids(Y_batch, word2id, max_len)\n",
        "        predictions = model.predict_for_batch(session, X, X_seq_len)\n",
        "        for y, p in zip(Y, predictions):\n",
        "            valid_y = ''.join(ids_to_sentence(y, id2word))\n",
        "            valid_y = valid_y[:valid_y.find('$')]\n",
        "            valid_p = ''.join(ids_to_sentence(p, id2word))\n",
        "            valid_p = valid_p if -1 == valid_p.find('$') else valid_p[:valid_p.find('$')]\n",
        "            try:\n",
        "                po = int(valid_p)\n",
        "                py = int(valid_y)\n",
        "                model_predictions.append(po)\n",
        "                ground_truth.append(py)\n",
        "            except:\n",
        "                print(valid_y, valid_p)\n",
        "                invalid_number_prediction_count += 1\n",
        "                \n",
        "    all_model_predictions.append(model_predictions)\n",
        "    all_ground_truth.append(ground_truth)\n",
        "    invalid_number_prediction_counts.append(invalid_number_prediction_count)\n",
        "            \n",
        "print('\\n...training finished.')"
      ],
      "execution_count": 41,
      "outputs": [
        {
          "output_type": "stream",
          "text": [
            "Start training... \n",
            "\n",
            "Train: epoch 1\n",
            "Epoch: [1/10], step: [1/625], loss: 2.683417\n",
            "Epoch: [1/10], step: [201/625], loss: 1.493177\n",
            "Epoch: [1/10], step: [401/625], loss: 1.293491\n",
            "Epoch: [1/10], step: [601/625], loss: 1.166740\n",
            "Test: epoch 1 loss: 1.0693094\n",
            "X: 94-53$#\n",
            "Y: 41$#\n",
            "O: 100$\n",
            "\n",
            "X: 95-0$##\n",
            "Y: 95$#\n",
            "O: 43$#\n",
            "\n",
            "X: 4+73$##\n",
            "Y: 77$#\n",
            "O: 63$#\n",
            "\n",
            "Train: epoch 2\n",
            "Epoch: [2/10], step: [1/625], loss: 1.131657\n",
            "Epoch: [2/10], step: [201/625], loss: 1.037020\n",
            "Epoch: [2/10], step: [401/625], loss: 0.743811\n",
            "Epoch: [2/10], step: [601/625], loss: 0.610492\n",
            "Test: epoch 2 loss: 0.3545293\n",
            "X: 34+58$#\n",
            "Y: 92$#\n",
            "O: 18$#\n",
            "\n",
            "X: 62-31$#\n",
            "Y: 31$#\n",
            "O: 54$#\n",
            "\n",
            "X: 15-83$#\n",
            "Y: -68$\n",
            "O: 82$#\n",
            "\n",
            "Train: epoch 3\n",
            "Epoch: [3/10], step: [1/625], loss: 0.539962\n",
            "Epoch: [3/10], step: [201/625], loss: 0.403762\n",
            "Epoch: [3/10], step: [401/625], loss: 0.336130\n",
            "Epoch: [3/10], step: [601/625], loss: 0.229090\n",
            "Test: epoch 3 loss: 0.13924077\n",
            "X: 53+55$#\n",
            "Y: 108$\n",
            "O: 34$#\n",
            "\n",
            "X: 1-13$##\n",
            "Y: -12$\n",
            "O: 24$#\n",
            "\n",
            "X: 76+42$#\n",
            "Y: 118$\n",
            "O: 101$\n",
            "\n",
            "Train: epoch 4\n",
            "Epoch: [4/10], step: [1/625], loss: 0.255492\n",
            "Epoch: [4/10], step: [201/625], loss: 0.269139\n",
            "Epoch: [4/10], step: [401/625], loss: 0.177047\n",
            "Epoch: [4/10], step: [601/625], loss: 0.128962\n",
            "Test: epoch 4 loss: 0.054757554\n",
            "X: 35-28$#\n",
            "Y: 7$##\n",
            "O: -81$\n",
            "\n",
            "X: 84-98$#\n",
            "Y: -14$\n",
            "O: 115$\n",
            "\n",
            "X: 41-0$##\n",
            "Y: 41$#\n",
            "O: 35$#\n",
            "\n",
            "Train: epoch 5\n",
            "Epoch: [5/10], step: [1/625], loss: 0.124434\n",
            "Epoch: [5/10], step: [201/625], loss: 0.121785\n",
            "Epoch: [5/10], step: [401/625], loss: 0.096008\n",
            "Epoch: [5/10], step: [601/625], loss: 0.103672\n",
            "Test: epoch 5 loss: 0.04135173\n",
            "X: 78+23$#\n",
            "Y: 101$\n",
            "O: 104$\n",
            "\n",
            "X: 69+54$#\n",
            "Y: 123$\n",
            "O: 35$#\n",
            "\n",
            "X: 55+64$#\n",
            "Y: 119$\n",
            "O: 46$#\n",
            "\n",
            "Train: epoch 6\n",
            "Epoch: [6/10], step: [1/625], loss: 0.116766\n",
            "Epoch: [6/10], step: [201/625], loss: 0.079568\n",
            "Epoch: [6/10], step: [401/625], loss: 0.124497\n",
            "Epoch: [6/10], step: [601/625], loss: 0.095097\n",
            "Test: epoch 6 loss: 0.022695035\n",
            "X: 78+79$#\n",
            "Y: 157$\n",
            "O: -28$\n",
            "\n",
            "X: 65+18$#\n",
            "Y: 83$#\n",
            "O: 72$#\n",
            "\n",
            "X: 26+20$#\n",
            "Y: 46$#\n",
            "O: 173$\n",
            "\n",
            "Train: epoch 7\n",
            "Epoch: [7/10], step: [1/625], loss: 0.056570\n",
            "Epoch: [7/10], step: [201/625], loss: 0.074255\n",
            "Epoch: [7/10], step: [401/625], loss: 0.043897\n",
            "Epoch: [7/10], step: [601/625], loss: 0.084242\n",
            "Test: epoch 7 loss: 0.043127395\n",
            "X: 33+27$#\n",
            "Y: 60$#\n",
            "O: -39$\n",
            "\n",
            "X: 65-74$#\n",
            "Y: -9$#\n",
            "O: 22$#\n",
            "\n",
            "X: 40+51$#\n",
            "Y: 91$#\n",
            "O: 75$#\n",
            "\n",
            "Train: epoch 8\n",
            "Epoch: [8/10], step: [1/625], loss: 0.057869\n",
            "Epoch: [8/10], step: [201/625], loss: 0.034916\n",
            "Epoch: [8/10], step: [401/625], loss: 0.099266\n",
            "Epoch: [8/10], step: [601/625], loss: 0.038633\n",
            "Test: epoch 8 loss: 0.038711723\n",
            "X: 2-50$#\n",
            "Y: -48$\n",
            "O: -16$\n",
            "\n",
            "X: 91+95$\n",
            "Y: 186$\n",
            "O: 92$#\n",
            "\n",
            "X: 12+5$#\n",
            "Y: 17$#\n",
            "O: -50$\n",
            "\n",
            "Train: epoch 9\n",
            "Epoch: [9/10], step: [1/625], loss: 0.085806\n",
            "Epoch: [9/10], step: [201/625], loss: 0.033235\n",
            "Epoch: [9/10], step: [401/625], loss: 0.033824\n",
            "Epoch: [9/10], step: [601/625], loss: 0.052356\n",
            "Test: epoch 9 loss: 0.028046621\n",
            "X: 25+10$#\n",
            "Y: 35$#\n",
            "O: 86$#\n",
            "\n",
            "X: 36+66$#\n",
            "Y: 102$\n",
            "O: 73$#\n",
            "\n",
            "X: 2+86$##\n",
            "Y: 88$#\n",
            "O: 29$#\n",
            "\n",
            "Train: epoch 10\n",
            "Epoch: [10/10], step: [1/625], loss: 0.011707\n",
            "Epoch: [10/10], step: [201/625], loss: 0.049125\n",
            "Epoch: [10/10], step: [401/625], loss: 0.068009\n",
            "Epoch: [10/10], step: [601/625], loss: 0.058291\n",
            "Test: epoch 10 loss: 0.014537812\n",
            "X: 18-52$#\n",
            "Y: -34$\n",
            "O: -1$#\n",
            "\n",
            "X: 92+23$#\n",
            "Y: 115$\n",
            "O: -38$\n",
            "\n",
            "X: 72+54$#\n",
            "Y: 126$\n",
            "O: 95$#\n",
            "\n",
            "\n",
            "...training finished.\n"
          ],
          "name": "stdout"
        }
      ]
    },
    {
      "metadata": {
        "id": "6rdLI3rOOarB",
        "colab_type": "text"
      },
      "cell_type": "markdown",
      "source": [
        "## Evaluate results\n",
        "\n",
        "Because our task is simple and the output is straight-forward, we will use [MAE](https://en.wikipedia.org/wiki/Mean_absolute_error) metric to evaluate the trained model during the epochs. Compute the value of the metric for the output from each epoch."
      ]
    },
    {
      "metadata": {
        "id": "ZO4sOHEUOarB",
        "colab_type": "code",
        "colab": {}
      },
      "cell_type": "code",
      "source": [
        "from sklearn.metrics import mean_absolute_error"
      ],
      "execution_count": 0,
      "outputs": []
    },
    {
      "metadata": {
        "id": "kD383RvKOarE",
        "colab_type": "code",
        "colab": {
          "base_uri": "https://localhost:8080/",
          "height": 187
        },
        "outputId": "362ece3f-9878-45ef-f123-b0c62186ebfe"
      },
      "cell_type": "code",
      "source": [
        "for i, (gts, predictions, invalid_number_prediction_count) in enumerate(zip(all_ground_truth,\n",
        "                                                                            all_model_predictions,\n",
        "                                                                            invalid_number_prediction_counts), 1):\n",
        "    mae = mae = mean_absolute_error(gts, predictions)######### YOUR CODE HERE #############\n",
        "    print(\"Epoch: %i, MAE: %f, Invalid numbers: %i\" % (i, mae, invalid_number_prediction_count))"
      ],
      "execution_count": 43,
      "outputs": [
        {
          "output_type": "stream",
          "text": [
            "Epoch: 1, MAE: 5.802700, Invalid numbers: 0\n",
            "Epoch: 2, MAE: 2.393500, Invalid numbers: 0\n",
            "Epoch: 3, MAE: 1.149550, Invalid numbers: 0\n",
            "Epoch: 4, MAE: 0.190100, Invalid numbers: 0\n",
            "Epoch: 5, MAE: 0.359000, Invalid numbers: 0\n",
            "Epoch: 6, MAE: 0.190000, Invalid numbers: 0\n",
            "Epoch: 7, MAE: 0.500700, Invalid numbers: 0\n",
            "Epoch: 8, MAE: 0.174750, Invalid numbers: 0\n",
            "Epoch: 9, MAE: 0.063100, Invalid numbers: 0\n",
            "Epoch: 10, MAE: 0.128350, Invalid numbers: 0\n"
          ],
          "name": "stdout"
        }
      ]
    },
    {
      "metadata": {
        "id": "HkZmPbgkqG4T",
        "colab_type": "code",
        "colab": {}
      },
      "cell_type": "code",
      "source": [
        ""
      ],
      "execution_count": 0,
      "outputs": []
    },
    {
      "metadata": {
        "id": "0QRm2N3riYRs",
        "colab_type": "text"
      },
      "cell_type": "markdown",
      "source": [
        "**Traing With Different Learning Rates**"
      ]
    },
    {
      "metadata": {
        "id": "pqhK505lrsH7",
        "colab_type": "code",
        "colab": {
          "base_uri": "https://localhost:8080/",
          "height": 3417
        },
        "outputId": "c96d725a-3171-4f38-d197-7789f3626328"
      },
      "cell_type": "code",
      "source": [
        "tf.reset_default_graph()\n",
        "\n",
        "model = Seq2SeqModel(len(word2id), 20, 512, \n",
        "               7, word2id[start_symbol], word2id[end_symbol], word2id[padding_symbol])\n",
        "######### YOUR CODE HERE #############\n",
        "\n",
        "batch_size = 128 #128 ######### YOUR CODE HERE #############\n",
        "n_epochs = 10 ######### YOUR CODE HERE #############\n",
        "learning_rate = 0.01 ######### YOUR CODE HERE #############\n",
        "dropout_keep_probability = 0.5 ######### YOUR CODE HERE #############\n",
        "max_len = 20 ######### YOUR CODE HERE #############\n",
        "\n",
        "# train_set = train_set[:1000]\n",
        "n_step = int(len(train_set) / batch_size)\n",
        "session = tf.Session()\n",
        "session.run(tf.global_variables_initializer())\n",
        "            \n",
        "invalid_number_prediction_counts = []\n",
        "all_model_predictions = []\n",
        "all_ground_truth = []\n",
        "\n",
        "print('Start training... \\n')\n",
        "for epoch in range(n_epochs):  \n",
        "    random.shuffle(train_set)\n",
        "    random.shuffle(test_set)\n",
        "    \n",
        "    print('Train: epoch', epoch + 1)\n",
        "    for n_iter, (X_batch, Y_batch) in enumerate(generate_batches(train_set, batch_size=batch_size)):\n",
        "        ######################################\n",
        "        ######### YOUR CODE HERE #############\n",
        "        ######################################\n",
        "        # prepare the data (X_batch and Y_batch) for training\n",
        "        # using function batch_to_ids\n",
        "        X, X_seq_len = batch_to_ids(X_batch, word2id, max_len)\n",
        "        Y, Y_seq_len = batch_to_ids(Y_batch, word2id, max_len)\n",
        "        predictions, loss = model.train_on_batch(session, X, X_seq_len, Y, Y_seq_len, learning_rate, dropout_keep_probability)######### YOUR CODE HERE #############\n",
        "        \n",
        "        if n_iter % 200 == 0:\n",
        "            print(\"Epoch: [%d/%d], step: [%d/%d], loss: %f\" % (epoch + 1, n_epochs, n_iter + 1, n_step, loss))\n",
        "                \n",
        "    X_sent, Y_sent = next(generate_batches(test_set, batch_size=batch_size))\n",
        "    ######################################\n",
        "    ######### YOUR CODE HERE #############\n",
        "    ######################################\n",
        "    # prepare test data (X_sent and Y_sent) for predicting \n",
        "    # quality and computing value of the loss function\n",
        "    # using function batch_to_ids\n",
        "    X_test, X_test_len = batch_to_ids(X_sent, word2id, max_len)\n",
        "    Y_test, Y_test_len = batch_to_ids(Y_sent, word2id, max_len)\n",
        "    \n",
        "    predictions, loss = model.predict_for_batch_with_loss(session, X_test, X_test_len, Y_test, Y_test_len) ######### YOUR CODE HERE #############\n",
        "    print('Test: epoch', epoch + 1, 'loss:', loss,)\n",
        "    for x, y, p  in list(zip(X, Y, predictions))[:3]:\n",
        "        print('X:',''.join(ids_to_sentence(x, id2word)))\n",
        "        print('Y:',''.join(ids_to_sentence(y, id2word)))\n",
        "        print('O:',''.join(ids_to_sentence(p, id2word)))\n",
        "        print('')\n",
        "\n",
        "    model_predictions = []\n",
        "    ground_truth = []\n",
        "    invalid_number_prediction_count = 0\n",
        "    # For the whole test set calculate ground-truth values (as integer numbers)\n",
        "    # and prediction values (also as integers) to calculate metrics.\n",
        "    # If generated by model number is not correct (e.g. '1-1'), \n",
        "    # increase invalid_number_prediction_count and don't append this and corresponding\n",
        "    # ground-truth value to the arrays.\n",
        "    for X_batch, Y_batch in generate_batches(test_set, batch_size=batch_size):\n",
        "        ######################################\n",
        "        ######### YOUR CODE HERE #############\n",
        "        ######################################\n",
        "        X, X_seq_len = batch_to_ids(X_batch, word2id, max_len)\n",
        "        Y, Y_seq_len = batch_to_ids(Y_batch, word2id, max_len)\n",
        "        predictions = model.predict_for_batch(session, X, X_seq_len)\n",
        "        for y, p in zip(Y, predictions):\n",
        "            valid_y = ''.join(ids_to_sentence(y, id2word))\n",
        "            valid_y = valid_y[:valid_y.find('$')]\n",
        "            valid_p = ''.join(ids_to_sentence(p, id2word))\n",
        "            valid_p = valid_p if -1 == valid_p.find('$') else valid_p[:valid_p.find('$')]\n",
        "            try:\n",
        "                po = int(valid_p)\n",
        "                py = int(valid_y)\n",
        "                model_predictions.append(po)\n",
        "                ground_truth.append(py)\n",
        "            except:\n",
        "                print(valid_y, valid_p)\n",
        "                invalid_number_prediction_count += 1\n",
        "                \n",
        "    all_model_predictions.append(model_predictions)\n",
        "    all_ground_truth.append(ground_truth)\n",
        "    invalid_number_prediction_counts.append(invalid_number_prediction_count)\n",
        "            \n",
        "print('\\n...training finished.')\n",
        "for i, (gts, predictions, invalid_number_prediction_count) in enumerate(zip(all_ground_truth,\n",
        "                                                                            all_model_predictions,\n",
        "                                                                            invalid_number_prediction_counts), 1):\n",
        "    mae = mae = mean_absolute_error(gts, predictions)######### YOUR CODE HERE #############\n",
        "    print(\"Epoch: %i, MAE: %f, Invalid numbers: %i\" % (i, mae, invalid_number_prediction_count))"
      ],
      "execution_count": 44,
      "outputs": [
        {
          "output_type": "stream",
          "text": [
            "Start training... \n",
            "\n",
            "Train: epoch 1\n",
            "Epoch: [1/10], step: [1/625], loss: 2.735422\n",
            "Epoch: [1/10], step: [201/625], loss: 1.028713\n",
            "Epoch: [1/10], step: [401/625], loss: 0.896998\n",
            "Epoch: [1/10], step: [601/625], loss: 0.491172\n",
            "Test: epoch 1 loss: 0.41358706\n",
            "X: 77-50$#\n",
            "Y: 27$#\n",
            "O: 12$#\n",
            "\n",
            "X: 65-59$#\n",
            "Y: 6$##\n",
            "O: 156$\n",
            "\n",
            "X: 51+55$#\n",
            "Y: 106$\n",
            "O: -14$\n",
            "\n",
            "Train: epoch 2\n",
            "Epoch: [2/10], step: [1/625], loss: 0.521645\n",
            "Epoch: [2/10], step: [201/625], loss: 0.401194\n",
            "Epoch: [2/10], step: [401/625], loss: 0.380839\n",
            "Epoch: [2/10], step: [601/625], loss: 0.369457\n",
            "Test: epoch 2 loss: 0.15709253\n",
            "X: 96+74$#\n",
            "Y: 170$\n",
            "O: 144$\n",
            "\n",
            "X: 77-39$#\n",
            "Y: 38$#\n",
            "O: 96$#\n",
            "\n",
            "X: 1-68$##\n",
            "Y: -67$\n",
            "O: 127$\n",
            "\n",
            "Train: epoch 3\n",
            "Epoch: [3/10], step: [1/625], loss: 0.345010\n",
            "Epoch: [3/10], step: [201/625], loss: 0.225906\n",
            "Epoch: [3/10], step: [401/625], loss: 0.199092\n",
            "Epoch: [3/10], step: [601/625], loss: 0.257519\n",
            "Test: epoch 3 loss: 0.11047407\n",
            "X: 43-9$##\n",
            "Y: 34$#\n",
            "O: -45$\n",
            "\n",
            "X: 43+76$#\n",
            "Y: 119$\n",
            "O: 21$#\n",
            "\n",
            "X: 61-68$#\n",
            "Y: -7$#\n",
            "O: 137$\n",
            "\n",
            "Train: epoch 4\n",
            "Epoch: [4/10], step: [1/625], loss: 0.177605\n",
            "Epoch: [4/10], step: [201/625], loss: 0.265008\n",
            "Epoch: [4/10], step: [401/625], loss: 0.150252\n",
            "Epoch: [4/10], step: [601/625], loss: 0.169822\n",
            "Test: epoch 4 loss: 0.07099619\n",
            "X: 80+54$#\n",
            "Y: 134$\n",
            "O: -19$\n",
            "\n",
            "X: 52-64$#\n",
            "Y: -12$\n",
            "O: 11$#\n",
            "\n",
            "X: 55+40$#\n",
            "Y: 95$#\n",
            "O: 27$#\n",
            "\n",
            "4 \n",
            "4 \n",
            "4 \n",
            "Train: epoch 5\n",
            "Epoch: [5/10], step: [1/625], loss: 0.111566\n",
            "Epoch: [5/10], step: [201/625], loss: 0.202584\n",
            "Epoch: [5/10], step: [401/625], loss: 0.166345\n",
            "Epoch: [5/10], step: [601/625], loss: 0.167228\n",
            "Test: epoch 5 loss: 0.104321726\n",
            "X: 39-14$#\n",
            "Y: 25$#\n",
            "O: 27$#\n",
            "\n",
            "X: 31+75$#\n",
            "Y: 106$\n",
            "O: -70$\n",
            "\n",
            "X: 57+35$#\n",
            "Y: 92$#\n",
            "O: 120$\n",
            "\n",
            "1 \n",
            "Train: epoch 6\n",
            "Epoch: [6/10], step: [1/625], loss: 0.149647\n",
            "Epoch: [6/10], step: [201/625], loss: 0.165374\n",
            "Epoch: [6/10], step: [401/625], loss: 0.157570\n",
            "Epoch: [6/10], step: [601/625], loss: 0.203117\n",
            "Test: epoch 6 loss: 0.08416744\n",
            "X: 44-66$#\n",
            "Y: -22$\n",
            "O: 77$#\n",
            "\n",
            "X: 21-57$#\n",
            "Y: -36$\n",
            "O: -62$\n",
            "\n",
            "X: 40-61$#\n",
            "Y: -21$\n",
            "O: 52$#\n",
            "\n",
            "Train: epoch 7\n",
            "Epoch: [7/10], step: [1/625], loss: 0.102854\n",
            "Epoch: [7/10], step: [201/625], loss: 0.090217\n",
            "Epoch: [7/10], step: [401/625], loss: 0.151744\n",
            "Epoch: [7/10], step: [601/625], loss: 0.182908\n",
            "Test: epoch 7 loss: 0.0502066\n",
            "X: 19+91$#\n",
            "Y: 110$\n",
            "O: -31$\n",
            "\n",
            "X: 76-15$#\n",
            "Y: 61$#\n",
            "O: 144$\n",
            "\n",
            "X: 86-63$#\n",
            "Y: 23$#\n",
            "O: 26$#\n",
            "\n",
            "Train: epoch 8\n",
            "Epoch: [8/10], step: [1/625], loss: 0.117353\n",
            "Epoch: [8/10], step: [201/625], loss: 0.120446\n",
            "Epoch: [8/10], step: [401/625], loss: 0.085261\n",
            "Epoch: [8/10], step: [601/625], loss: 0.157042\n",
            "Test: epoch 8 loss: 0.04230684\n",
            "X: 0+2$###\n",
            "Y: 2$##\n",
            "O: 102$\n",
            "\n",
            "X: 13+97$#\n",
            "Y: 110$\n",
            "O: -39$\n",
            "\n",
            "X: 68+79$#\n",
            "Y: 147$\n",
            "O: 17$#\n",
            "\n",
            "Train: epoch 9\n",
            "Epoch: [9/10], step: [1/625], loss: 0.146670\n",
            "Epoch: [9/10], step: [201/625], loss: 0.134914\n",
            "Epoch: [9/10], step: [401/625], loss: 0.061906\n",
            "Epoch: [9/10], step: [601/625], loss: 0.114277\n",
            "Test: epoch 9 loss: 0.056586225\n",
            "X: 4+34$##\n",
            "Y: 38$#\n",
            "O: 82$#\n",
            "\n",
            "X: 59-59$#\n",
            "Y: 0$##\n",
            "O: 36$#\n",
            "\n",
            "X: 57-60$#\n",
            "Y: -3$#\n",
            "O: 30$#\n",
            "\n",
            "-1 \n",
            "Train: epoch 10\n",
            "Epoch: [10/10], step: [1/625], loss: 0.156530\n",
            "Epoch: [10/10], step: [201/625], loss: 0.128409\n",
            "Epoch: [10/10], step: [401/625], loss: 0.115358\n",
            "Epoch: [10/10], step: [601/625], loss: 0.130954\n",
            "Test: epoch 10 loss: 0.15249783\n",
            "X: 32+98$#\n",
            "Y: 130$\n",
            "O: -49$\n",
            "\n",
            "X: 97-6$##\n",
            "Y: 91$#\n",
            "O: 4$##\n",
            "\n",
            "X: 83+65$#\n",
            "Y: 148$\n",
            "O: -4$#\n",
            "\n",
            "-45 -4-\n",
            "\n",
            "...training finished.\n",
            "Epoch: 1, MAE: 2.021050, Invalid numbers: 0\n",
            "Epoch: 2, MAE: 1.133650, Invalid numbers: 0\n",
            "Epoch: 3, MAE: 0.482750, Invalid numbers: 0\n",
            "Epoch: 4, MAE: 0.509326, Invalid numbers: 3\n",
            "Epoch: 5, MAE: 0.475724, Invalid numbers: 1\n",
            "Epoch: 6, MAE: 0.366200, Invalid numbers: 0\n",
            "Epoch: 7, MAE: 0.326700, Invalid numbers: 0\n",
            "Epoch: 8, MAE: 0.416400, Invalid numbers: 0\n",
            "Epoch: 9, MAE: 0.292515, Invalid numbers: 1\n",
            "Epoch: 10, MAE: 0.793040, Invalid numbers: 1\n"
          ],
          "name": "stdout"
        }
      ]
    },
    {
      "metadata": {
        "id": "Kx-p7Qexivx5",
        "colab_type": "code",
        "colab": {
          "base_uri": "https://localhost:8080/",
          "height": 3366
        },
        "outputId": "e803dab8-1127-467d-cad6-05140eecc927"
      },
      "cell_type": "code",
      "source": [
        "tf.reset_default_graph()\n",
        "\n",
        "model = Seq2SeqModel(len(word2id), 20, 512, \n",
        "               7, word2id[start_symbol], word2id[end_symbol], word2id[padding_symbol])\n",
        "######### YOUR CODE HERE #############\n",
        "\n",
        "batch_size = 128 #128 ######### YOUR CODE HERE #############\n",
        "n_epochs = 10 ######### YOUR CODE HERE #############\n",
        "learning_rate = 0.05 ######### YOUR CODE HERE #############\n",
        "dropout_keep_probability = 0.5 ######### YOUR CODE HERE #############\n",
        "max_len = 20 ######### YOUR CODE HERE #############\n",
        "\n",
        "# train_set = train_set[:1000]\n",
        "n_step = int(len(train_set) / batch_size)\n",
        "session = tf.Session()\n",
        "session.run(tf.global_variables_initializer())\n",
        "            \n",
        "invalid_number_prediction_counts = []\n",
        "all_model_predictions = []\n",
        "all_ground_truth = []\n",
        "\n",
        "print('Start training... \\n')\n",
        "for epoch in range(n_epochs):  \n",
        "    random.shuffle(train_set)\n",
        "    random.shuffle(test_set)\n",
        "    \n",
        "    print('Train: epoch', epoch + 1)\n",
        "    for n_iter, (X_batch, Y_batch) in enumerate(generate_batches(train_set, batch_size=batch_size)):\n",
        "        ######################################\n",
        "        ######### YOUR CODE HERE #############\n",
        "        ######################################\n",
        "        # prepare the data (X_batch and Y_batch) for training\n",
        "        # using function batch_to_ids\n",
        "        X, X_seq_len = batch_to_ids(X_batch, word2id, max_len)\n",
        "        Y, Y_seq_len = batch_to_ids(Y_batch, word2id, max_len)\n",
        "        predictions, loss = model.train_on_batch(session, X, X_seq_len, Y, Y_seq_len, learning_rate, dropout_keep_probability)######### YOUR CODE HERE #############\n",
        "        \n",
        "        if n_iter % 200 == 0:\n",
        "            print(\"Epoch: [%d/%d], step: [%d/%d], loss: %f\" % (epoch + 1, n_epochs, n_iter + 1, n_step, loss))\n",
        "                \n",
        "    X_sent, Y_sent = next(generate_batches(test_set, batch_size=batch_size))\n",
        "    ######################################\n",
        "    ######### YOUR CODE HERE #############\n",
        "    ######################################\n",
        "    # prepare test data (X_sent and Y_sent) for predicting \n",
        "    # quality and computing value of the loss function\n",
        "    # using function batch_to_ids\n",
        "    X_test, X_test_len = batch_to_ids(X_sent, word2id, max_len)\n",
        "    Y_test, Y_test_len = batch_to_ids(Y_sent, word2id, max_len)\n",
        "    \n",
        "    predictions, loss = model.predict_for_batch_with_loss(session, X_test, X_test_len, Y_test, Y_test_len) ######### YOUR CODE HERE #############\n",
        "    print('Test: epoch', epoch + 1, 'loss:', loss,)\n",
        "    for x, y, p  in list(zip(X, Y, predictions))[:3]:\n",
        "        print('X:',''.join(ids_to_sentence(x, id2word)))\n",
        "        print('Y:',''.join(ids_to_sentence(y, id2word)))\n",
        "        print('O:',''.join(ids_to_sentence(p, id2word)))\n",
        "        print('')\n",
        "\n",
        "    model_predictions = []\n",
        "    ground_truth = []\n",
        "    invalid_number_prediction_count = 0\n",
        "    # For the whole test set calculate ground-truth values (as integer numbers)\n",
        "    # and prediction values (also as integers) to calculate metrics.\n",
        "    # If generated by model number is not correct (e.g. '1-1'), \n",
        "    # increase invalid_number_prediction_count and don't append this and corresponding\n",
        "    # ground-truth value to the arrays.\n",
        "    for X_batch, Y_batch in generate_batches(test_set, batch_size=batch_size):\n",
        "        ######################################\n",
        "        ######### YOUR CODE HERE #############\n",
        "        ######################################\n",
        "        X, X_seq_len = batch_to_ids(X_batch, word2id, max_len)\n",
        "        Y, Y_seq_len = batch_to_ids(Y_batch, word2id, max_len)\n",
        "        predictions = model.predict_for_batch(session, X, X_seq_len)\n",
        "        for y, p in zip(Y, predictions):\n",
        "            valid_y = ''.join(ids_to_sentence(y, id2word))\n",
        "            valid_y = valid_y[:valid_y.find('$')]\n",
        "            valid_p = ''.join(ids_to_sentence(p, id2word))\n",
        "            valid_p = valid_p if -1 == valid_p.find('$') else valid_p[:valid_p.find('$')]\n",
        "            try:\n",
        "                po = int(valid_p)\n",
        "                py = int(valid_y)\n",
        "                model_predictions.append(po)\n",
        "                ground_truth.append(py)\n",
        "            except:\n",
        "                print(valid_y, valid_p)\n",
        "                invalid_number_prediction_count += 1\n",
        "                \n",
        "    all_model_predictions.append(model_predictions)\n",
        "    all_ground_truth.append(ground_truth)\n",
        "    invalid_number_prediction_counts.append(invalid_number_prediction_count)\n",
        "            \n",
        "print('\\n...training finished.')\n",
        "for i, (gts, predictions, invalid_number_prediction_count) in enumerate(zip(all_ground_truth,\n",
        "                                                                            all_model_predictions,\n",
        "                                                                            invalid_number_prediction_counts), 1):\n",
        "    mae = mae = mean_absolute_error(gts, predictions)######### YOUR CODE HERE #############\n",
        "    print(\"Epoch: %i, MAE: %f, Invalid numbers: %i\" % (i, mae, invalid_number_prediction_count))"
      ],
      "execution_count": 45,
      "outputs": [
        {
          "output_type": "stream",
          "text": [
            "Start training... \n",
            "\n",
            "Train: epoch 1\n",
            "Epoch: [1/10], step: [1/625], loss: 2.713574\n",
            "Epoch: [1/10], step: [201/625], loss: 1.780208\n",
            "Epoch: [1/10], step: [401/625], loss: 1.654868\n",
            "Epoch: [1/10], step: [601/625], loss: 1.674109\n",
            "Test: epoch 1 loss: 1.6638732\n",
            "X: 14+6$##\n",
            "Y: 20$#\n",
            "O: 55$#\n",
            "\n",
            "X: 11+1$##\n",
            "Y: 12$#\n",
            "O: -55$\n",
            "\n",
            "X: 35+66$#\n",
            "Y: 101$\n",
            "O: 55$#\n",
            "\n",
            "Train: epoch 2\n",
            "Epoch: [2/10], step: [1/625], loss: 1.573528\n",
            "Epoch: [2/10], step: [201/625], loss: 1.856993\n",
            "Epoch: [2/10], step: [401/625], loss: 1.680367\n",
            "Epoch: [2/10], step: [601/625], loss: 1.618146\n",
            "Test: epoch 2 loss: 1.9642962\n",
            "X: 70+42$\n",
            "Y: 112$\n",
            "O: -10$\n",
            "\n",
            "X: 95+27$\n",
            "Y: 122$\n",
            "O: 100$\n",
            "\n",
            "X: 6+59$#\n",
            "Y: 65$#\n",
            "O: -10$\n",
            "\n",
            "Train: epoch 3\n",
            "Epoch: [3/10], step: [1/625], loss: 1.847173\n",
            "Epoch: [3/10], step: [201/625], loss: 1.468025\n",
            "Epoch: [3/10], step: [401/625], loss: 1.714617\n",
            "Epoch: [3/10], step: [601/625], loss: 2.312299\n",
            "Test: epoch 3 loss: 1.7647617\n",
            "X: 68+34$#\n",
            "Y: 102$\n",
            "O: 105$\n",
            "\n",
            "X: 14+16$#\n",
            "Y: 30$#\n",
            "O: 10$#\n",
            "\n",
            "X: 31-59$#\n",
            "Y: -28$\n",
            "O: -26$\n",
            "\n",
            "Train: epoch 4\n",
            "Epoch: [4/10], step: [1/625], loss: 2.051147\n",
            "Epoch: [4/10], step: [201/625], loss: 1.929474\n",
            "Epoch: [4/10], step: [401/625], loss: 2.232532\n",
            "Epoch: [4/10], step: [601/625], loss: 2.118062\n",
            "Test: epoch 4 loss: 1.7115175\n",
            "X: 27+63$#\n",
            "Y: 90$##\n",
            "O: -88$\n",
            "\n",
            "X: 98+13$#\n",
            "Y: 111$#\n",
            "O: -66$\n",
            "\n",
            "X: 45-89$#\n",
            "Y: -44$#\n",
            "O: -6$#\n",
            "\n",
            "Train: epoch 5\n",
            "Epoch: [5/10], step: [1/625], loss: 1.973900\n",
            "Epoch: [5/10], step: [201/625], loss: 1.870772\n",
            "Epoch: [5/10], step: [401/625], loss: 1.813039\n",
            "Epoch: [5/10], step: [601/625], loss: 1.665943\n",
            "Test: epoch 5 loss: 1.5597789\n",
            "X: 6+21$#\n",
            "Y: 27$#\n",
            "O: 10$#\n",
            "\n",
            "X: 41-44$\n",
            "Y: -3$#\n",
            "O: -33$\n",
            "\n",
            "X: 92-48$\n",
            "Y: 44$#\n",
            "O: 111$\n",
            "\n",
            "Train: epoch 6\n",
            "Epoch: [6/10], step: [1/625], loss: 1.740635\n",
            "Epoch: [6/10], step: [201/625], loss: 1.634869\n",
            "Epoch: [6/10], step: [401/625], loss: 1.710134\n",
            "Epoch: [6/10], step: [601/625], loss: 1.804729\n",
            "Test: epoch 6 loss: 1.6712809\n",
            "X: 64-45$#\n",
            "Y: 19$#\n",
            "O: -49$\n",
            "\n",
            "X: 98+78$#\n",
            "Y: 176$\n",
            "O: 59$#\n",
            "\n",
            "X: 74-8$##\n",
            "Y: 66$#\n",
            "O: 100$\n",
            "\n",
            "Train: epoch 7\n",
            "Epoch: [7/10], step: [1/625], loss: 1.709228\n",
            "Epoch: [7/10], step: [201/625], loss: 1.744876\n",
            "Epoch: [7/10], step: [401/625], loss: 1.733229\n",
            "Epoch: [7/10], step: [601/625], loss: 1.969575\n",
            "Test: epoch 7 loss: 1.5985996\n",
            "X: 50-81$#\n",
            "Y: -31$\n",
            "O: 111$\n",
            "\n",
            "X: 41-56$#\n",
            "Y: -15$\n",
            "O: 155$\n",
            "\n",
            "X: 52-24$#\n",
            "Y: 28$#\n",
            "O: -4$#\n",
            "\n",
            "Train: epoch 8\n",
            "Epoch: [8/10], step: [1/625], loss: 1.770126\n",
            "Epoch: [8/10], step: [201/625], loss: 2.203113\n",
            "Epoch: [8/10], step: [401/625], loss: 1.841176\n",
            "Epoch: [8/10], step: [601/625], loss: 1.754481\n",
            "Test: epoch 8 loss: 1.9110278\n",
            "X: 88-14$#\n",
            "Y: 74$#\n",
            "O: 111$#\n",
            "\n",
            "X: 53+9$##\n",
            "Y: 62$#\n",
            "O: 10$##\n",
            "\n",
            "X: 56+62$#\n",
            "Y: 118$\n",
            "O: 111$#\n",
            "\n",
            "Train: epoch 9\n",
            "Epoch: [9/10], step: [1/625], loss: 1.993504\n",
            "Epoch: [9/10], step: [201/625], loss: 1.815064\n",
            "Epoch: [9/10], step: [401/625], loss: 1.682551\n",
            "Epoch: [9/10], step: [601/625], loss: 1.762165\n",
            "Test: epoch 9 loss: 1.6277326\n",
            "X: 69+95$#\n",
            "Y: 164$\n",
            "O: 22$#\n",
            "\n",
            "X: 1-25$##\n",
            "Y: -24$\n",
            "O: 109$\n",
            "\n",
            "X: 68-8$##\n",
            "Y: 60$#\n",
            "O: -4$#\n",
            "\n",
            "Train: epoch 10\n",
            "Epoch: [10/10], step: [1/625], loss: 1.760326\n",
            "Epoch: [10/10], step: [201/625], loss: 1.691953\n",
            "Epoch: [10/10], step: [401/625], loss: 1.725968\n",
            "Epoch: [10/10], step: [601/625], loss: 1.906063\n",
            "Test: epoch 10 loss: 1.6544585\n",
            "X: 3+66$#\n",
            "Y: 69$#\n",
            "O: 11$#\n",
            "\n",
            "X: 41-34$\n",
            "Y: 7$##\n",
            "O: 10$#\n",
            "\n",
            "X: 57+23$\n",
            "Y: 80$#\n",
            "O: -4$#\n",
            "\n",
            "17 \n",
            "17 \n",
            "17 \n",
            "\n",
            "...training finished.\n",
            "Epoch: 1, MAE: 33.995450, Invalid numbers: 0\n",
            "Epoch: 2, MAE: 28.501350, Invalid numbers: 0\n",
            "Epoch: 3, MAE: 46.815550, Invalid numbers: 0\n",
            "Epoch: 4, MAE: 272.941500, Invalid numbers: 0\n",
            "Epoch: 5, MAE: 36.038900, Invalid numbers: 0\n",
            "Epoch: 6, MAE: 35.126350, Invalid numbers: 0\n",
            "Epoch: 7, MAE: 373.238300, Invalid numbers: 0\n",
            "Epoch: 8, MAE: 203.620800, Invalid numbers: 0\n",
            "Epoch: 9, MAE: 38.797550, Invalid numbers: 0\n",
            "Epoch: 10, MAE: 44.539831, Invalid numbers: 3\n"
          ],
          "name": "stdout"
        }
      ]
    },
    {
      "metadata": {
        "id": "SDtEoHBUi6Fb",
        "colab_type": "code",
        "colab": {}
      },
      "cell_type": "code",
      "source": [
        ""
      ],
      "execution_count": 0,
      "outputs": []
    },
    {
      "metadata": {
        "id": "elJXcmuxlCbE",
        "colab_type": "text"
      },
      "cell_type": "markdown",
      "source": [
        "**Testing With Different Dropout Probability**"
      ]
    },
    {
      "metadata": {
        "id": "YAUi6eITlNNf",
        "colab_type": "code",
        "colab": {
          "base_uri": "https://localhost:8080/",
          "height": 3315
        },
        "outputId": "1ea7e22d-2cdb-41a5-9a9d-8401702065a6"
      },
      "cell_type": "code",
      "source": [
        "tf.reset_default_graph()\n",
        "\n",
        "model = Seq2SeqModel(len(word2id), 20, 512, \n",
        "               7, word2id[start_symbol], word2id[end_symbol], word2id[padding_symbol])\n",
        "######### YOUR CODE HERE #############\n",
        "\n",
        "batch_size = 128 #128 ######### YOUR CODE HERE #############\n",
        "n_epochs = 10 ######### YOUR CODE HERE #############\n",
        "learning_rate = 0.001 ######### YOUR CODE HERE #############\n",
        "dropout_keep_probability = 0.3 ######### YOUR CODE HERE #############\n",
        "max_len = 20 ######### YOUR CODE HERE #############\n",
        "\n",
        "# train_set = train_set[:1000]\n",
        "n_step = int(len(train_set) / batch_size)\n",
        "session = tf.Session()\n",
        "session.run(tf.global_variables_initializer())\n",
        "            \n",
        "invalid_number_prediction_counts = []\n",
        "all_model_predictions = []\n",
        "all_ground_truth = []\n",
        "\n",
        "print('Start training... \\n')\n",
        "for epoch in range(n_epochs):  \n",
        "    random.shuffle(train_set)\n",
        "    random.shuffle(test_set)\n",
        "    \n",
        "    print('Train: epoch', epoch + 1)\n",
        "    for n_iter, (X_batch, Y_batch) in enumerate(generate_batches(train_set, batch_size=batch_size)):\n",
        "        ######################################\n",
        "        ######### YOUR CODE HERE #############\n",
        "        ######################################\n",
        "        # prepare the data (X_batch and Y_batch) for training\n",
        "        # using function batch_to_ids\n",
        "        X, X_seq_len = batch_to_ids(X_batch, word2id, max_len)\n",
        "        Y, Y_seq_len = batch_to_ids(Y_batch, word2id, max_len)\n",
        "        predictions, loss = model.train_on_batch(session, X, X_seq_len, Y, Y_seq_len, learning_rate, dropout_keep_probability)######### YOUR CODE HERE #############\n",
        "        \n",
        "        if n_iter % 200 == 0:\n",
        "            print(\"Epoch: [%d/%d], step: [%d/%d], loss: %f\" % (epoch + 1, n_epochs, n_iter + 1, n_step, loss))\n",
        "                \n",
        "    X_sent, Y_sent = next(generate_batches(test_set, batch_size=batch_size))\n",
        "    ######################################\n",
        "    ######### YOUR CODE HERE #############\n",
        "    ######################################\n",
        "    # prepare test data (X_sent and Y_sent) for predicting \n",
        "    # quality and computing value of the loss function\n",
        "    # using function batch_to_ids\n",
        "    X_test, X_test_len = batch_to_ids(X_sent, word2id, max_len)\n",
        "    Y_test, Y_test_len = batch_to_ids(Y_sent, word2id, max_len)\n",
        "    \n",
        "    predictions, loss = model.predict_for_batch_with_loss(session, X_test, X_test_len, Y_test, Y_test_len) ######### YOUR CODE HERE #############\n",
        "    print('Test: epoch', epoch + 1, 'loss:', loss,)\n",
        "    for x, y, p  in list(zip(X, Y, predictions))[:3]:\n",
        "        print('X:',''.join(ids_to_sentence(x, id2word)))\n",
        "        print('Y:',''.join(ids_to_sentence(y, id2word)))\n",
        "        print('O:',''.join(ids_to_sentence(p, id2word)))\n",
        "        print('')\n",
        "\n",
        "    model_predictions = []\n",
        "    ground_truth = []\n",
        "    invalid_number_prediction_count = 0\n",
        "    # For the whole test set calculate ground-truth values (as integer numbers)\n",
        "    # and prediction values (also as integers) to calculate metrics.\n",
        "    # If generated by model number is not correct (e.g. '1-1'), \n",
        "    # increase invalid_number_prediction_count and don't append this and corresponding\n",
        "    # ground-truth value to the arrays.\n",
        "    for X_batch, Y_batch in generate_batches(test_set, batch_size=batch_size):\n",
        "        ######################################\n",
        "        ######### YOUR CODE HERE #############\n",
        "        ######################################\n",
        "        X, X_seq_len = batch_to_ids(X_batch, word2id, max_len)\n",
        "        Y, Y_seq_len = batch_to_ids(Y_batch, word2id, max_len)\n",
        "        predictions = model.predict_for_batch(session, X, X_seq_len)\n",
        "        for y, p in zip(Y, predictions):\n",
        "            valid_y = ''.join(ids_to_sentence(y, id2word))\n",
        "            valid_y = valid_y[:valid_y.find('$')]\n",
        "            valid_p = ''.join(ids_to_sentence(p, id2word))\n",
        "            valid_p = valid_p if -1 == valid_p.find('$') else valid_p[:valid_p.find('$')]\n",
        "            try:\n",
        "                po = int(valid_p)\n",
        "                py = int(valid_y)\n",
        "                model_predictions.append(po)\n",
        "                ground_truth.append(py)\n",
        "            except:\n",
        "                print(valid_y, valid_p)\n",
        "                invalid_number_prediction_count += 1\n",
        "                \n",
        "    all_model_predictions.append(model_predictions)\n",
        "    all_ground_truth.append(ground_truth)\n",
        "    invalid_number_prediction_counts.append(invalid_number_prediction_count)\n",
        "            \n",
        "print('\\n...training finished.')\n",
        "for i, (gts, predictions, invalid_number_prediction_count) in enumerate(zip(all_ground_truth,\n",
        "                                                                            all_model_predictions,\n",
        "                                                                            invalid_number_prediction_counts), 1):\n",
        "    mae = mae = mean_absolute_error(gts, predictions)######### YOUR CODE HERE #############\n",
        "    print(\"Epoch: %i, MAE: %f, Invalid numbers: %i\" % (i, mae, invalid_number_prediction_count))"
      ],
      "execution_count": 46,
      "outputs": [
        {
          "output_type": "stream",
          "text": [
            "Start training... \n",
            "\n",
            "Train: epoch 1\n",
            "Epoch: [1/10], step: [1/625], loss: 2.729311\n",
            "Epoch: [1/10], step: [201/625], loss: 1.529887\n",
            "Epoch: [1/10], step: [401/625], loss: 1.364957\n",
            "Epoch: [1/10], step: [601/625], loss: 1.319183\n",
            "Test: epoch 1 loss: 1.1524833\n",
            "X: 15-6$##\n",
            "Y: 9$##\n",
            "O: 71$#\n",
            "\n",
            "X: 39+19$#\n",
            "Y: 58$#\n",
            "O: 21$#\n",
            "\n",
            "X: 35+36$#\n",
            "Y: 71$#\n",
            "O: 68$#\n",
            "\n",
            "Train: epoch 2\n",
            "Epoch: [2/10], step: [1/625], loss: 1.270054\n",
            "Epoch: [2/10], step: [201/625], loss: 1.164801\n",
            "Epoch: [2/10], step: [401/625], loss: 1.062302\n",
            "Epoch: [2/10], step: [601/625], loss: 0.850243\n",
            "Test: epoch 2 loss: 0.65160465\n",
            "X: 18-60$#\n",
            "Y: -42$\n",
            "O: -26$\n",
            "\n",
            "X: 3+47$##\n",
            "Y: 50$#\n",
            "O: 48$#\n",
            "\n",
            "X: 24+75$#\n",
            "Y: 99$#\n",
            "O: 52$#\n",
            "\n",
            "Train: epoch 3\n",
            "Epoch: [3/10], step: [1/625], loss: 0.861970\n",
            "Epoch: [3/10], step: [201/625], loss: 0.782082\n",
            "Epoch: [3/10], step: [401/625], loss: 0.636355\n",
            "Epoch: [3/10], step: [601/625], loss: 0.553648\n",
            "Test: epoch 3 loss: 0.3606953\n",
            "X: 67+35$#\n",
            "Y: 102$\n",
            "O: 77$#\n",
            "\n",
            "X: 81-6$##\n",
            "Y: 75$#\n",
            "O: 8$##\n",
            "\n",
            "X: 88-85$#\n",
            "Y: 3$##\n",
            "O: 87$#\n",
            "\n",
            "Train: epoch 4\n",
            "Epoch: [4/10], step: [1/625], loss: 0.558245\n",
            "Epoch: [4/10], step: [201/625], loss: 0.498420\n",
            "Epoch: [4/10], step: [401/625], loss: 0.475191\n",
            "Epoch: [4/10], step: [601/625], loss: 0.447996\n",
            "Test: epoch 4 loss: 0.49088323\n",
            "X: 96-76$#\n",
            "Y: 20$#\n",
            "O: 55$#\n",
            "\n",
            "X: 44+92$#\n",
            "Y: 136$\n",
            "O: -51$\n",
            "\n",
            "X: 27-18$#\n",
            "Y: 9$##\n",
            "O: 106$\n",
            "\n",
            "Train: epoch 5\n",
            "Epoch: [5/10], step: [1/625], loss: 0.395646\n",
            "Epoch: [5/10], step: [201/625], loss: 0.432300\n",
            "Epoch: [5/10], step: [401/625], loss: 0.289067\n",
            "Epoch: [5/10], step: [601/625], loss: 0.287044\n",
            "Test: epoch 5 loss: 0.5517647\n",
            "X: 69+78$#\n",
            "Y: 147$\n",
            "O: 116$\n",
            "\n",
            "X: 53+77$#\n",
            "Y: 130$\n",
            "O: 75$#\n",
            "\n",
            "X: 96+4$##\n",
            "Y: 100$\n",
            "O: -4$#\n",
            "\n",
            "Train: epoch 6\n",
            "Epoch: [6/10], step: [1/625], loss: 0.293383\n",
            "Epoch: [6/10], step: [201/625], loss: 0.302960\n",
            "Epoch: [6/10], step: [401/625], loss: 0.196586\n",
            "Epoch: [6/10], step: [601/625], loss: 0.282698\n",
            "Test: epoch 6 loss: 0.5737439\n",
            "X: 89-11$\n",
            "Y: 78$#\n",
            "O: -3$#\n",
            "\n",
            "X: 94+2$#\n",
            "Y: 96$#\n",
            "O: 88$#\n",
            "\n",
            "X: 26+44$\n",
            "Y: 70$#\n",
            "O: 10$#\n",
            "\n",
            "Train: epoch 7\n",
            "Epoch: [7/10], step: [1/625], loss: 0.319765\n",
            "Epoch: [7/10], step: [201/625], loss: 0.321166\n",
            "Epoch: [7/10], step: [401/625], loss: 0.281760\n",
            "Epoch: [7/10], step: [601/625], loss: 0.236214\n",
            "Test: epoch 7 loss: 0.71221465\n",
            "X: 52+40$#\n",
            "Y: 92$#\n",
            "O: -23$\n",
            "\n",
            "X: 5-11$##\n",
            "Y: -6$#\n",
            "O: 104$\n",
            "\n",
            "X: 94+16$#\n",
            "Y: 110$\n",
            "O: 162$\n",
            "\n",
            "Train: epoch 8\n",
            "Epoch: [8/10], step: [1/625], loss: 0.263012\n",
            "Epoch: [8/10], step: [201/625], loss: 0.239940\n",
            "Epoch: [8/10], step: [401/625], loss: 0.254568\n",
            "Epoch: [8/10], step: [601/625], loss: 0.157187\n",
            "Test: epoch 8 loss: 0.86307526\n",
            "X: 78+70$#\n",
            "Y: 148$\n",
            "O: -29$\n",
            "\n",
            "X: 68-67$#\n",
            "Y: 1$##\n",
            "O: -22$\n",
            "\n",
            "X: 45+66$#\n",
            "Y: 111$\n",
            "O: 36$#\n",
            "\n",
            "Train: epoch 9\n",
            "Epoch: [9/10], step: [1/625], loss: 0.236305\n",
            "Epoch: [9/10], step: [201/625], loss: 0.119810\n",
            "Epoch: [9/10], step: [401/625], loss: 0.141622\n",
            "Epoch: [9/10], step: [601/625], loss: 0.175029\n",
            "Test: epoch 9 loss: 1.0317991\n",
            "X: 78-1$##\n",
            "Y: 77$#\n",
            "O: 134$\n",
            "\n",
            "X: 51-89$#\n",
            "Y: -38$\n",
            "O: -40$\n",
            "\n",
            "X: 4+84$##\n",
            "Y: 88$#\n",
            "O: 7$##\n",
            "\n",
            "Train: epoch 10\n",
            "Epoch: [10/10], step: [1/625], loss: 0.168925\n",
            "Epoch: [10/10], step: [201/625], loss: 0.209146\n",
            "Epoch: [10/10], step: [401/625], loss: 0.167545\n",
            "Epoch: [10/10], step: [601/625], loss: 0.175567\n",
            "Test: epoch 10 loss: 1.2856381\n",
            "X: 82-91$#\n",
            "Y: -9$#\n",
            "O: -59$\n",
            "\n",
            "X: 50+29$#\n",
            "Y: 79$#\n",
            "O: 96$#\n",
            "\n",
            "X: 56+69$#\n",
            "Y: 125$\n",
            "O: -24$\n",
            "\n",
            "\n",
            "...training finished.\n",
            "Epoch: 1, MAE: 8.550300, Invalid numbers: 0\n",
            "Epoch: 2, MAE: 3.974150, Invalid numbers: 0\n",
            "Epoch: 3, MAE: 3.515950, Invalid numbers: 0\n",
            "Epoch: 4, MAE: 4.386950, Invalid numbers: 0\n",
            "Epoch: 5, MAE: 4.914200, Invalid numbers: 0\n",
            "Epoch: 6, MAE: 4.997200, Invalid numbers: 0\n",
            "Epoch: 7, MAE: 5.371150, Invalid numbers: 0\n",
            "Epoch: 8, MAE: 5.487550, Invalid numbers: 0\n",
            "Epoch: 9, MAE: 5.482950, Invalid numbers: 0\n",
            "Epoch: 10, MAE: 6.267050, Invalid numbers: 0\n"
          ],
          "name": "stdout"
        }
      ]
    },
    {
      "metadata": {
        "id": "oxW2-h5JlBqE",
        "colab_type": "text"
      },
      "cell_type": "markdown",
      "source": [
        ""
      ]
    }
  ]
}