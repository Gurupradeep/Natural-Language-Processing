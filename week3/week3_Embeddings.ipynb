{
 "cells": [
  {
   "cell_type": "markdown",
   "metadata": {
    "colab_type": "text",
    "id": "Y_FSx8AU1aE4"
   },
   "source": [
    "# Find duplicate questions on StackOverflow by their embeddings\n",
    "\n",
    "In this assignment you will learn how to calculate a similarity for pieces of text. Using this approach you will know how to find duplicate questions from [StackOverflow](https://stackoverflow.com)."
   ]
  },
  {
   "cell_type": "markdown",
   "metadata": {
    "colab_type": "text",
    "id": "9iKwFpPS1aE7"
   },
   "source": [
    "### Libraries\n",
    "\n",
    "In this task you will you will need the following libraries:\n",
    "- [StarSpace](https://github.com/facebookresearch/StarSpace) — a general-purpose model for efficient learning of entity embeddings from Facebook\n",
    "- [Gensim](https://radimrehurek.com/gensim/) — a tool for solving various NLP-related tasks (topic modeling, text representation, ...)\n",
    "- [Numpy](http://www.numpy.org) — a package for scientific computing.\n",
    "- [scikit-learn](http://scikit-learn.org/stable/index.html) — a tool for data mining and data analysis.\n",
    "- [Nltk](http://www.nltk.org) — a platform to work with human language data."
   ]
  },
  {
   "cell_type": "code",
   "execution_count": 2,
   "metadata": {
    "colab": {
     "base_uri": "https://localhost:8080/",
     "height": 204
    },
    "colab_type": "code",
    "id": "kpFyV2DP1iDu",
    "outputId": "7d9c0764-725a-4fcc-e2dc-c1793145032e"
   },
   "outputs": [
    {
     "name": "stdout",
     "output_type": "stream",
     "text": [
      "--2018-10-11 11:16:10--  https://raw.githubusercontent.com/hse-aml/natural-language-processing/master/setup_google_colab.py\n",
      "Resolving raw.githubusercontent.com (raw.githubusercontent.com)... 151.101.0.133, 151.101.64.133, 151.101.128.133, ...\n",
      "Connecting to raw.githubusercontent.com (raw.githubusercontent.com)|151.101.0.133|:443... connected.\n",
      "HTTP request sent, awaiting response... 200 OK\n",
      "Length: 2330 (2.3K) [text/plain]\n",
      "Saving to: ‘setup_google_colab.py’\n",
      "\n",
      "\r",
      "setup_google_colab.   0%[                    ]       0  --.-KB/s               \r",
      "setup_google_colab. 100%[===================>]   2.28K  --.-KB/s    in 0s      \n",
      "\n",
      "2018-10-11 11:16:11 (30.3 MB/s) - ‘setup_google_colab.py’ saved [2330/2330]\n",
      "\n"
     ]
    }
   ],
   "source": [
    "! wget https://raw.githubusercontent.com/hse-aml/natural-language-processing/master/setup_google_colab.py -O setup_google_colab.py\n",
    "import setup_google_colab\n",
    "# please, uncomment the week you're working on\n",
    "# setup_google_colab.setup_week1()  \n",
    "# setup_google_colab.setup_week2()\n",
    "setup_google_colab.setup_week3()\n",
    "# setup_google_colab.setup_week4()\n",
    "# setup_google_colab.setup_project()\n",
    "# setup_google_colab.setup_honor()"
   ]
  },
  {
   "cell_type": "markdown",
   "metadata": {
    "colab_type": "text",
    "id": "93aa0mmY1aE-"
   },
   "source": [
    "### Data\n",
    "\n",
    "The following cell will download all data required for this assignment into the folder `week3/data`."
   ]
  },
  {
   "cell_type": "code",
   "execution_count": 3,
   "metadata": {
    "colab": {
     "base_uri": "https://localhost:8080/",
     "height": 204
    },
    "colab_type": "code",
    "id": "qpm_f1Uh1aFA",
    "outputId": "15dbf963-a407-43a8-e264-b41d08b9c3af"
   },
   "outputs": [
    {
     "name": "stdout",
     "output_type": "stream",
     "text": [
      "**************************************************\n",
      "train.tsv\n",
      "**************************************************\n",
      "validation.tsv\n",
      "**************************************************\n",
      "test.tsv\n",
      "**************************************************\n",
      "test_embeddings.tsv\n",
      "Downloading GoogleNews-vectors-negative300.bin.gz (1.5G) for you, it will take a while...\n",
      "**************************************************\n",
      "GoogleNews-vectors-negative300.bin.gz\n"
     ]
    }
   ],
   "source": [
    "import sys\n",
    "sys.path.append(\"..\")\n",
    "from common.download_utils import download_week3_resources\n",
    "\n",
    "download_week3_resources()"
   ]
  },
  {
   "cell_type": "markdown",
   "metadata": {
    "colab_type": "text",
    "id": "QuqSNEcL1aFG"
   },
   "source": [
    "### Grading\n",
    "We will create a grader instace below and use it to collect your answers. Note that these outputs will be stored locally inside grader and will be uploaded to platform only after running submiting function in the last part of this assignment. If you want to make partial submission, you can run that cell any time you want."
   ]
  },
  {
   "cell_type": "code",
   "execution_count": 0,
   "metadata": {
    "colab": {},
    "colab_type": "code",
    "id": "0Sv4cky61aFI"
   },
   "outputs": [],
   "source": [
    "from grader import Grader"
   ]
  },
  {
   "cell_type": "code",
   "execution_count": 0,
   "metadata": {
    "colab": {},
    "colab_type": "code",
    "id": "00HfrH5B1aFM"
   },
   "outputs": [],
   "source": [
    "grader = Grader()"
   ]
  },
  {
   "cell_type": "markdown",
   "metadata": {
    "colab_type": "text",
    "id": "J5NXifIy1aFP"
   },
   "source": [
    "## Word embedding\n",
    "\n",
    "To solve the problem, you will use two different models of embeddings:\n",
    "\n",
    " - [Pre-trained word vectors](https://code.google.com/archive/p/word2vec/) from Google which were trained on a part of Google News dataset (about 100 billion words). The model contains 300-dimensional vectors for 3 million words and phrases. `GoogleNews-vectors-negative300.bin.gz` will be downloaded in `download_week3_resources()`.\n",
    " - Representations using StarSpace on StackOverflow data sample. You will need to train them from scratch."
   ]
  },
  {
   "cell_type": "markdown",
   "metadata": {
    "colab_type": "text",
    "id": "b1iE2YF81aFP"
   },
   "source": [
    "It's always easier to start with pre-trained embeddings. Unpack the pre-trained Goggle's vectors and upload them using the function [KeyedVectors.load_word2vec_format](https://radimrehurek.com/gensim/models/keyedvectors.html) from gensim library with the parameter *binary=True*. If the size of the embeddings is larger than the avaliable memory, you could load only a part of the embeddings by defining the parameter *limit* (recommended: 500000)."
   ]
  },
  {
   "cell_type": "code",
   "execution_count": 0,
   "metadata": {
    "colab": {},
    "colab_type": "code",
    "id": "HXBZ28ef1aFR"
   },
   "outputs": [],
   "source": [
    "import gensim"
   ]
  },
  {
   "cell_type": "code",
   "execution_count": 0,
   "metadata": {
    "colab": {},
    "colab_type": "code",
    "id": "DeJjADDU1aFU"
   },
   "outputs": [],
   "source": [
    "wv_embeddings = gensim.models.KeyedVectors.load_word2vec_format('GoogleNews-vectors-negative300.bin.gz', binary = True)######### YOUR CODE HERE #############"
   ]
  },
  {
   "cell_type": "markdown",
   "metadata": {
    "colab_type": "text",
    "id": "rkDgWTp_1aFa"
   },
   "source": [
    "### How to work with Google's word2vec embeddings?\n",
    "\n",
    "Once you have loaded the representations, make sure you can access them. First, you can check if the loaded embeddings contain a word:\n",
    "    \n",
    "    'word' in wv_embeddings\n",
    "    \n",
    "Second, to get the corresponding embedding you can use the square brackets:\n",
    "\n",
    "    wv_embeddings['word']\n",
    " \n",
    "### Checking that the embeddings are correct \n",
    " \n",
    "To prevent any errors during the first stage, we can check that the loaded embeddings are correct. You can call the function *check_embeddings*, implemented below, which runs 3 tests:\n",
    "1. Find the most similar word for provided \"positive\" and \"negative\" words.\n",
    "2. Find which word from the given list doesn’t go with the others.\n",
    "3. Find the most similar word for the provided one.\n",
    "\n",
    "In the right case the function will return the string *These embeddings look good*. Othervise, you need to validate the previous steps."
   ]
  },
  {
   "cell_type": "code",
   "execution_count": 0,
   "metadata": {
    "colab": {},
    "colab_type": "code",
    "id": "gq2zTp0J1aFa"
   },
   "outputs": [],
   "source": [
    "def check_embeddings(embeddings):\n",
    "    error_text = \"Something wrong with your embeddings ('%s test isn't correct).\"\n",
    "    most_similar = embeddings.most_similar(positive=['woman', 'king'], negative=['man'])\n",
    "    if len(most_similar) < 1 or most_similar[0][0] != 'queen':\n",
    "        return error_text % \"Most similar\"\n",
    "\n",
    "    doesnt_match = embeddings.doesnt_match(['breakfast', 'cereal', 'dinner', 'lunch'])\n",
    "    if doesnt_match != 'cereal':\n",
    "        return error_text % \"Doesn't match\"\n",
    "    \n",
    "    most_similar_to_given = embeddings.most_similar_to_given('music', ['water', 'sound', 'backpack', 'mouse'])\n",
    "    if most_similar_to_given != 'sound':\n",
    "        return error_text % \"Most similar to given\"\n",
    "    \n",
    "    return \"These embeddings look good.\""
   ]
  },
  {
   "cell_type": "code",
   "execution_count": 15,
   "metadata": {
    "colab": {
     "base_uri": "https://localhost:8080/",
     "height": 34
    },
    "colab_type": "code",
    "id": "m7ivn4V11aFg",
    "outputId": "3303f7e7-4fcf-449e-9fd6-41b6c8c84aec"
   },
   "outputs": [
    {
     "name": "stdout",
     "output_type": "stream",
     "text": [
      "These embeddings look good.\n"
     ]
    }
   ],
   "source": [
    "print(check_embeddings(wv_embeddings))"
   ]
  },
  {
   "cell_type": "markdown",
   "metadata": {
    "colab_type": "text",
    "id": "wBtnnCUb1aFj"
   },
   "source": [
    "## From word to text embeddings\n",
    "\n",
    "**Task 1 (Question2Vec).** Usually, we have word-based embeddings, but for the task we need to create a representation for the whole question. It could be done in different ways. In our case we will use a **mean** of all word vectors in the question. Now you need to implement the function *question_to_vec*, which calculates the question representation described above. This function should work with the input text as is without any preprocessing.\n",
    "\n",
    "Note that there could be words without the corresponding embeddings. In this case, you can just skip these words and don't take them into account during calculating the result. If the question doesn't contain any known word with embedding, the function should return a zero vector."
   ]
  },
  {
   "cell_type": "code",
   "execution_count": 0,
   "metadata": {
    "colab": {},
    "colab_type": "code",
    "id": "EJiiZora1aFk"
   },
   "outputs": [],
   "source": [
    "import numpy as np"
   ]
  },
  {
   "cell_type": "code",
   "execution_count": 0,
   "metadata": {
    "colab": {},
    "colab_type": "code",
    "id": "Xpr0Xlwq1aFo"
   },
   "outputs": [],
   "source": [
    "def question_to_vec(question, embeddings, dim=300):\n",
    "    \"\"\"\n",
    "        question: a string\n",
    "        embeddings: dict where the key is a word and a value is its' embedding\n",
    "        dim: size of the representation\n",
    "\n",
    "        result: vector representation for the question\n",
    "    \"\"\"\n",
    "    ######################################\n",
    "    ######### YOUR CODE HERE #############\n",
    "    ######################################\n",
    "    question_embedding = np.zeros((dim), dtype = np.float32)\n",
    "    count = 0\n",
    "    words = question.split()\n",
    "    for word in words :\n",
    "      if(word in embeddings) :\n",
    "        count += 1\n",
    "        question_embedding += embeddings[word]\n",
    "    \n",
    "    if(count == 0) :\n",
    "      return question_embedding\n",
    "    else :\n",
    "      return question_embedding/(count * 1.0000)"
   ]
  },
  {
   "cell_type": "markdown",
   "metadata": {
    "colab_type": "text",
    "id": "7SZMQg3R1aFq"
   },
   "source": [
    "To check the basic correctness of your implementation, run the function *question_to_vec_tests*."
   ]
  },
  {
   "cell_type": "code",
   "execution_count": 0,
   "metadata": {
    "colab": {},
    "colab_type": "code",
    "id": "NMvEb4J-1aFr"
   },
   "outputs": [],
   "source": [
    "def question_to_vec_tests():\n",
    "    if (np.zeros(300) != question_to_vec('', wv_embeddings)).any():\n",
    "        return \"You need to return zero vector for empty question.\"\n",
    "    if (np.zeros(300) != question_to_vec('thereisnosuchword', wv_embeddings)).any():\n",
    "        return \"You need to return zero vector for the question, which consists only unknown words.\"\n",
    "    if (wv_embeddings['word'] != question_to_vec('word', wv_embeddings)).any():\n",
    "        return \"You need to check the corectness of your function.\"\n",
    "    if ((wv_embeddings['I'] + wv_embeddings['am']) / 2 != question_to_vec('I am', wv_embeddings)).any():\n",
    "        return \"Your function should calculate a mean of word vectors.\"\n",
    "    if (wv_embeddings['word'] != question_to_vec('thereisnosuchword word', wv_embeddings)).any():\n",
    "        return \"You should not consider words which embeddings are unknown.\"\n",
    "    return \"Basic tests are passed.\""
   ]
  },
  {
   "cell_type": "code",
   "execution_count": 25,
   "metadata": {
    "colab": {
     "base_uri": "https://localhost:8080/",
     "height": 34
    },
    "colab_type": "code",
    "id": "dosuncVV1aFu",
    "outputId": "1253c152-cc2f-4274-e5e4-a21ba344bb59"
   },
   "outputs": [
    {
     "name": "stdout",
     "output_type": "stream",
     "text": [
      "Basic tests are passed.\n"
     ]
    }
   ],
   "source": [
    "print(question_to_vec_tests())"
   ]
  },
  {
   "cell_type": "markdown",
   "metadata": {
    "colab_type": "text",
    "id": "wLEEGht11aFw"
   },
   "source": [
    "You can submit embeddings for the questions from the file *test_embeddings.tsv* to earn the points. In this task you don't need to transform the text of a question somehow."
   ]
  },
  {
   "cell_type": "code",
   "execution_count": 26,
   "metadata": {
    "colab": {
     "base_uri": "https://localhost:8080/",
     "height": 51
    },
    "colab_type": "code",
    "id": "qw50leBb1aFx",
    "outputId": "cfada6be-3905-436d-ba5c-0f49501e8148"
   },
   "outputs": [
    {
     "name": "stdout",
     "output_type": "stream",
     "text": [
      "[nltk_data] Downloading package stopwords to /root/nltk_data...\n",
      "[nltk_data]   Unzipping corpora/stopwords.zip.\n"
     ]
    }
   ],
   "source": [
    "import nltk\n",
    "nltk.download('stopwords')\n",
    "from util import array_to_string"
   ]
  },
  {
   "cell_type": "code",
   "execution_count": 27,
   "metadata": {
    "colab": {
     "base_uri": "https://localhost:8080/",
     "height": 119
    },
    "colab_type": "code",
    "id": "jCczRuJN1aF1",
    "outputId": "55164bf6-9764-4921-fd82-77ea72f6fced"
   },
   "outputs": [
    {
     "name": "stdout",
     "output_type": "stream",
     "text": [
      "Current answer for task Question2Vec is: 0.01929389126598835\n",
      "-0.02872721292078495\n",
      "0.0460561104118824\n",
      "0.0852593332529068\n",
      "0.0243055559694767\n",
      "-0...\n"
     ]
    }
   ],
   "source": [
    "question2vec_result = []\n",
    "for question in open('data/test_embeddings.tsv'):\n",
    "    question = question.strip()\n",
    "    answer = question_to_vec(question, wv_embeddings)\n",
    "    question2vec_result = np.append(question2vec_result, answer)\n",
    "\n",
    "grader.submit_tag('Question2Vec', array_to_string(question2vec_result))"
   ]
  },
  {
   "cell_type": "markdown",
   "metadata": {
    "colab_type": "text",
    "id": "resSJfhn1aF5"
   },
   "source": [
    "Now we have a method to create a representation of any sentence and we are ready for the first evaluation. So, let's check how well our solution (Google's vectors + *question_to_vec*) will work.\n",
    "\n",
    "## Evaluation of text similarity\n",
    "\n",
    "We can imagine that if we use good embeddings, the cosine similarity between the duplicate sentences should be less than for the random ones. Overall, for each pair of duplicate sentences we can generate *R* random negative examples and find out the position of the correct duplicate.  \n",
    "\n",
    "For example, we have the question *\"Exceptions What really happens\"* and we are sure that another question *\"How does the catch keyword determine the type of exception that was thrown\"* is a duplicate. But our model doesn't know it and tries to find out the best option also among questions like *\"How Can I Make These Links Rotate in PHP\"*, *\"NSLog array description not memory address\"* and *\"PECL_HTTP not recognised php ubuntu\"*. The goal of the model is to rank all these 4 questions (1 *positive* and *R* = 3 *negative*) in the way that the correct one is in the first place.\n",
    "\n",
    "However, it is unnatural to count on that the best candidate will be always in the first place. So let us consider the place of the best candidate in the sorted list of candidates and formulate a metric based on it. We can fix some *K* — a reasonalble number of top-ranked elements and *N* — a number of queries (size of the sample).\n",
    "\n",
    "### Hits@K\n",
    "\n",
    "The first simple metric will be a number of correct hits for some *K*:\n",
    "$$ \\text{Hits@K} = \\frac{1}{N}\\sum_{i=1}^N \\, [dup_i \\in topK(q_i)]$$\n",
    "\n",
    "where $q_i$ is the i-th query, $dup_i$ is its duplicate, $topK(q_i)$ is the top K elements of the ranked sentences provided by our model and the operation $[dup_i \\in topK(q_i)]$ equals 1 if the condition is true and 0 otherwise (more details about this operation could be found [here](https://en.wikipedia.org/wiki/Iverson_bracket)).\n",
    "\n",
    "\n",
    "### DCG@K\n",
    "The second one is a simplified [DCG metric](https://en.wikipedia.org/wiki/Discounted_cumulative_gain):\n",
    "\n",
    "$$ \\text{DCG@K} = \\frac{1}{N} \\sum_{i=1}^N\\frac{1}{\\log_2(1+rank_{dup_i})}\\cdot[rank_{dup_i} \\le K] $$\n",
    "\n",
    "where $rank_{dup_i}$ is a position of the duplicate in the sorted list of the nearest sentences for the query $q_i$. According to this metric, the model gets a higher reward for a higher position of the correct answer. If the answer does not appear in topK at all, the reward is zero. "
   ]
  },
  {
   "cell_type": "markdown",
   "metadata": {
    "colab_type": "text",
    "id": "eMBYhvU_1aF6"
   },
   "source": [
    "### Evaluation examples\n",
    "\n",
    "Let's calculate the described metrics for the toy example introduced above. In this case $N$ = 1 and the correct candidate for $q_1$ is *\"How does the catch keyword determine the type of exception that was thrown\"*. Consider the following ranking of the candidates:\n",
    "1. *\"How Can I Make These Links Rotate in PHP\"*\n",
    "2. *\"How does the catch keyword determine the type of exception that was thrown\"*\n",
    "3. *\"NSLog array description not memory address\"*\n",
    "4. *\"PECL_HTTP not recognised php ubuntu\"*\n",
    "\n",
    "Using the ranking above, calculate *Hits@K* metric for *K = 1, 2, 4*: \n",
    " \n",
    "- [K = 1] $\\text{Hits@1} = \\frac{1}{1}\\sum_{i=1}^1 \\, [dup_i \\in top1(q_i)] = [dup_1 \\in top1(q_1)] = 0$ because the correct answer doesn't appear in the *top1* list.\n",
    "- [K = 2] $\\text{Hits@2} = \\frac{1}{1}\\sum_{i=1}^1 \\, [dup_i \\in top2(q_i)] = [dup_1 \\in top2(q_1)] = 1$ because $rank_{dup_1} = 2$.\n",
    "- [K = 4] $\\text{Hits@4} = \\frac{1}{1}\\sum_{i=1}^1 \\, [dup_i \\in top4(q_i)] = [dup_1 \\in top4(q_1)] = 1$\n",
    "\n",
    "Using the ranking above, calculate *DCG@K* metric for *K = 1, 2, 4*:\n",
    "\n",
    "- [K = 1] $\\text{DCG@1} = \\frac{1}{1} \\sum_{i=1}^1\\frac{1}{\\log_2(1+rank_{dup_i})}\\cdot[rank_{dup_i} \\le 1] = \\frac{1}{\\log_2(1+rank_{dup_i})}\\cdot[rank_{dup_i} \\le 1] = 0$ because the correct answer doesn't appear in the top1 list.\n",
    "- [K = 2] $\\text{DCG@2} = \\frac{1}{1} \\sum_{i=1}^1\\frac{1}{\\log_2(1+rank_{dup_i})}\\cdot[rank_{dup_i} \\le 2] = \\frac{1}{\\log_2{3}}$, because $rank_{dup_1} = 2$.\n",
    "- [K = 4] $\\text{DCG@4} = \\frac{1}{1} \\sum_{i=1}^1\\frac{1}{\\log_2(1+rank_{dup_i})}\\cdot[rank_{dup_i} \\le 4] = \\frac{1}{\\log_2{3}}$.\n"
   ]
  },
  {
   "cell_type": "markdown",
   "metadata": {
    "colab_type": "text",
    "id": "Ql9psfA61aF7"
   },
   "source": [
    "**Tasks 2 and 3 (HitsCount and DCGScore).** Implement the functions *hits_count* and *dcg_score* as described above. Each function has two arguments: *dup_ranks* and *k*. *dup_ranks* is a list which contains *values of ranks* of duplicates. For example, *dup_ranks* is *[2]* for the example provided above."
   ]
  },
  {
   "cell_type": "code",
   "execution_count": 0,
   "metadata": {
    "colab": {},
    "colab_type": "code",
    "id": "fnVbsh7J1aF9"
   },
   "outputs": [],
   "source": [
    "def hits_count(dup_ranks, k):\n",
    "    \"\"\"\n",
    "        dup_ranks: list of duplicates' ranks; one rank per question; \n",
    "                   length is a number of questions which we are looking for duplicates; \n",
    "                   rank is a number from 1 to len(candidates of the question); \n",
    "                   e.g. [2, 3] means that the first duplicate has the rank 2, the second one — 3.\n",
    "        k: number of top-ranked elements (k in Hits@k metric)\n",
    "\n",
    "        result: return Hits@k value for current ranking\n",
    "    \"\"\"\n",
    "    ######################################\n",
    "    ######### YOUR CODE HERE #############\n",
    "    ######################################\n",
    "    count = 0\n",
    "    for rank in dup_ranks :\n",
    "      if(rank <= k) :\n",
    "        count += 1\n",
    "    \n",
    "    return count/(len(dup_ranks)*1.0)\n",
    "    "
   ]
  },
  {
   "cell_type": "markdown",
   "metadata": {
    "colab_type": "text",
    "id": "Aqo94S701aF_"
   },
   "source": [
    "Test your code on the tiny examples:"
   ]
  },
  {
   "cell_type": "code",
   "execution_count": 0,
   "metadata": {
    "colab": {},
    "colab_type": "code",
    "id": "96I9pIl51aF_"
   },
   "outputs": [],
   "source": [
    "def test_hits():\n",
    "    # *Evaluation example*\n",
    "    # answers — dup_i\n",
    "    answers = [\"How does the catch keyword determine the type of exception that was thrown\"]\n",
    "    \n",
    "    # candidates_ranking — the ranked sentences provided by our model\n",
    "    candidates_ranking = [[\"How Can I Make These Links Rotate in PHP\", \n",
    "                           \"How does the catch keyword determine the type of exception that was thrown\",\n",
    "                           \"NSLog array description not memory address\",\n",
    "                           \"PECL_HTTP not recognised php ubuntu\"]]\n",
    "    # dup_ranks — position of the dup_i in the list of ranks +1\n",
    "    dup_ranks = [candidates_ranking[i].index(answers[i]) + 1 for i in range(len(answers))]\n",
    "    \n",
    "    # correct_answers — the expected values of the result for each k from 1 to 4\n",
    "    correct_answers = [0, 1, 1, 1]\n",
    "    for k, correct in enumerate(correct_answers, 1):\n",
    "        if not np.isclose(hits_count(dup_ranks, k), correct):\n",
    "            return \"Check the function.\"\n",
    "    \n",
    "    # Other tests\n",
    "    answers = [\"How does the catch keyword determine the type of exception that was thrown\", \n",
    "               \"Convert Google results object (pure js) to Python object\"]\n",
    "    \n",
    "    # The first test: both duplicates on the first position in ranked list\n",
    "    candidates_ranking = [[\"How does the catch keyword determine the type of exception that was thrown\",\n",
    "                           \"How Can I Make These Links Rotate in PHP\"], \n",
    "                          [\"Convert Google results object (pure js) to Python object\",\n",
    "                           \"WPF- How to update the changes in list item of a list\"]]\n",
    "    dup_ranks = [candidates_ranking[i].index(answers[i]) + 1 for i in range(len(answers))]\n",
    "    correct_answers = [1, 1]\n",
    "    for k, correct in enumerate(correct_answers, 1):\n",
    "        if not np.isclose(hits_count(dup_ranks, k), correct):\n",
    "            return \"Check the function (test: both duplicates on the first position in ranked list).\"\n",
    "        \n",
    "    # The second test: one candidate on the first position, another — on the second\n",
    "    candidates_ranking = [[\"How Can I Make These Links Rotate in PHP\", \n",
    "                           \"How does the catch keyword determine the type of exception that was thrown\"], \n",
    "                          [\"Convert Google results object (pure js) to Python object\",\n",
    "                           \"WPF- How to update the changes in list item of a list\"]]\n",
    "    dup_ranks = [candidates_ranking[i].index(answers[i]) + 1 for i in range(len(answers))]\n",
    "    correct_answers = [0.5, 1]\n",
    "    for k, correct in enumerate(correct_answers, 1):\n",
    "        if not np.isclose(hits_count(dup_ranks, k), correct):\n",
    "            return \"Check the function (test: one candidate on the first position, another — on the second).\"\n",
    "\n",
    "    # The third test: both candidates on the second position\n",
    "    candidates_ranking = [[\"How Can I Make These Links Rotate in PHP\", \n",
    "                           \"How does the catch keyword determine the type of exception that was thrown\"], \n",
    "                          [\"WPF- How to update the changes in list item of a list\",\n",
    "                           \"Convert Google results object (pure js) to Python object\"]]\n",
    "    dup_ranks = [candidates_ranking[i].index(answers[i]) + 1 for i in range(len(answers))]\n",
    "    correct_answers = [0, 1]\n",
    "    for k, correct in enumerate(correct_answers, 1):\n",
    "        if not np.isclose(hits_count(dup_ranks, k), correct):\n",
    "            return \"Check the function (test: both candidates on the second position).\"\n",
    "\n",
    "    return \"Basic test are passed.\""
   ]
  },
  {
   "cell_type": "code",
   "execution_count": 30,
   "metadata": {
    "colab": {
     "base_uri": "https://localhost:8080/",
     "height": 34
    },
    "colab_type": "code",
    "id": "igsf4uOE1aGD",
    "outputId": "b887a4db-c8f0-4b40-8ef8-7bc3585337be"
   },
   "outputs": [
    {
     "name": "stdout",
     "output_type": "stream",
     "text": [
      "Basic test are passed.\n"
     ]
    }
   ],
   "source": [
    "print(test_hits())"
   ]
  },
  {
   "cell_type": "code",
   "execution_count": 0,
   "metadata": {
    "colab": {},
    "colab_type": "code",
    "id": "TDz9OZLV1aGF"
   },
   "outputs": [],
   "source": [
    "def dcg_score(dup_ranks, k):\n",
    "    \"\"\"\n",
    "        dup_ranks: list of duplicates' ranks; one rank per question; \n",
    "                   length is a number of questions which we are looking for duplicates; \n",
    "                   rank is a number from 1 to len(candidates of the question); \n",
    "                   e.g. [2, 3] means that the first duplicate has the rank 2, the second one — 3.\n",
    "        k: number of top-ranked elements (k in DCG@k metric)\n",
    "\n",
    "        result: return DCG@k value for current ranking\n",
    "    \"\"\"\n",
    "    ######################################\n",
    "    ######### YOUR CODE HERE #############\n",
    "    ######################################\n",
    "    score = 0\n",
    "    for rank in dup_ranks :\n",
    "      if(rank <= k) :\n",
    "        score += 1/np.log2(1 + rank)\n",
    "    \n",
    "    return score/(len(dup_ranks)*1.0)"
   ]
  },
  {
   "cell_type": "code",
   "execution_count": 0,
   "metadata": {
    "colab": {},
    "colab_type": "code",
    "id": "b2FwhxYI1aGH"
   },
   "outputs": [],
   "source": [
    "def test_dcg():\n",
    "    # *Evaluation example*\n",
    "    # answers — dup_i\n",
    "    answers = [\"How does the catch keyword determine the type of exception that was thrown\"]\n",
    "    \n",
    "    # candidates_ranking — the ranked sentences provided by our model\n",
    "    candidates_ranking = [[\"How Can I Make These Links Rotate in PHP\", \n",
    "                           \"How does the catch keyword determine the type of exception that was thrown\",\n",
    "                           \"NSLog array description not memory address\",\n",
    "                           \"PECL_HTTP not recognised php ubuntu\"]]\n",
    "    # dup_ranks — position of the dup_i in the list of ranks +1\n",
    "    dup_ranks = [candidates_ranking[i].index(answers[i]) + 1 for i in range(len(answers))]\n",
    "    \n",
    "    # correct_answers — the expected values of the result for each k from 1 to 4\n",
    "    correct_answers = [0, 1 / (np.log2(3)), 1 / (np.log2(3)), 1 / (np.log2(3))]\n",
    "    for k, correct in enumerate(correct_answers, 1):\n",
    "        if not np.isclose(dcg_score(dup_ranks, k), correct):\n",
    "            return \"Check the function.\"\n",
    "    \n",
    "    # Other tests\n",
    "    answers = [\"How does the catch keyword determine the type of exception that was thrown\", \n",
    "               \"Convert Google results object (pure js) to Python object\"]\n",
    "\n",
    "    # The first test: both duplicates on the first position in ranked list\n",
    "    candidates_ranking = [[\"How does the catch keyword determine the type of exception that was thrown\",\n",
    "                           \"How Can I Make These Links Rotate in PHP\"], \n",
    "                          [\"Convert Google results object (pure js) to Python object\",\n",
    "                           \"WPF- How to update the changes in list item of a list\"]]\n",
    "    dup_ranks = [candidates_ranking[i].index(answers[i]) + 1 for i in range(len(answers))]\n",
    "    correct_answers = [1, 1]\n",
    "    for k, correct in enumerate(correct_answers, 1):\n",
    "        if not np.isclose(dcg_score(dup_ranks, k), correct):\n",
    "            return \"Check the function (test: both duplicates on the first position in ranked list).\"\n",
    "        \n",
    "    # The second test: one candidate on the first position, another — on the second\n",
    "    candidates_ranking = [[\"How Can I Make These Links Rotate in PHP\", \n",
    "                           \"How does the catch keyword determine the type of exception that was thrown\"], \n",
    "                          [\"Convert Google results object (pure js) to Python object\",\n",
    "                           \"WPF- How to update the changes in list item of a list\"]]\n",
    "    dup_ranks = [candidates_ranking[i].index(answers[i]) + 1 for i in range(len(answers))]\n",
    "    correct_answers = [0.5, (1 + (1 / (np.log2(3)))) / 2]\n",
    "    for k, correct in enumerate(correct_answers, 1):\n",
    "        if not np.isclose(dcg_score(dup_ranks, k), correct):\n",
    "            return \"Check the function (test: one candidate on the first position, another — on the second).\"\n",
    "        \n",
    "    # The third test: both candidates on the second position\n",
    "    candidates_ranking = [[\"How Can I Make These Links Rotate in PHP\",\n",
    "                           \"How does the catch keyword determine the type of exception that was thrown\"], \n",
    "                          [\"WPF- How to update the changes in list item of a list\",\n",
    "                           \"Convert Google results object (pure js) to Python object\"]]\n",
    "    dup_ranks = [candidates_ranking[i].index(answers[i]) + 1 for i in range(len(answers))]\n",
    "    correct_answers = [0, 1 / (np.log2(3))]\n",
    "    for k, correct in enumerate(correct_answers, 1):\n",
    "        if not np.isclose(dcg_score(dup_ranks, k), correct):\n",
    "            return \"Check the function (test: both candidates on the second position).\"\n",
    "\n",
    "    return \"Basic test are passed.\""
   ]
  },
  {
   "cell_type": "code",
   "execution_count": 33,
   "metadata": {
    "colab": {
     "base_uri": "https://localhost:8080/",
     "height": 34
    },
    "colab_type": "code",
    "id": "6yZgwPqD1aGJ",
    "outputId": "3773f7dd-a062-4452-d369-0e8a351cad60"
   },
   "outputs": [
    {
     "name": "stdout",
     "output_type": "stream",
     "text": [
      "Basic test are passed.\n"
     ]
    }
   ],
   "source": [
    "print(test_dcg())"
   ]
  },
  {
   "cell_type": "markdown",
   "metadata": {
    "colab_type": "text",
    "id": "LzjiYSK21aGO"
   },
   "source": [
    "Submit results of the functions *hits_count* and *dcg_score* for the following examples to earn the points."
   ]
  },
  {
   "cell_type": "code",
   "execution_count": 0,
   "metadata": {
    "colab": {},
    "colab_type": "code",
    "id": "6XHlsc2a1aGP"
   },
   "outputs": [],
   "source": [
    "test_examples = [\n",
    "    [1],\n",
    "    [1, 2],\n",
    "    [2, 1],\n",
    "    [1, 2, 3],\n",
    "    [1, 2, 3, 4, 5, 6, 7, 8, 9, 10],\n",
    "    [9, 5, 4, 2, 8, 10, 7, 6, 1, 3],\n",
    "    [4, 3, 5, 1, 9, 10, 7, 8, 2, 6],\n",
    "    [5, 1, 7, 6, 2, 3, 8, 9, 10, 4],\n",
    "    [6, 3, 1, 4, 7, 2, 9, 8, 10, 5],\n",
    "    [10, 9, 8, 7, 6, 5, 4, 3, 2, 1],\n",
    "]"
   ]
  },
  {
   "cell_type": "code",
   "execution_count": 35,
   "metadata": {
    "colab": {
     "base_uri": "https://localhost:8080/",
     "height": 323
    },
    "colab_type": "code",
    "id": "kD9Kdq2W1aGV",
    "outputId": "4f3c0b14-d296-4881-8a43-16e00f7b746a"
   },
   "outputs": [
    {
     "name": "stdout",
     "output_type": "stream",
     "text": [
      "Current answer for task HitsCount is: 1.0\n",
      "0.5\n",
      "1.0\n",
      "0.5\n",
      "1.0\n",
      "0.3333333333333333\n",
      "0.6666666666666666\n",
      "1.0\n",
      "0.1\n",
      "0.2\n",
      "0.3\n",
      "0.4\n",
      "0.5\n",
      "0.6\n",
      "0.7\n",
      "0.8\n",
      "0.9\n",
      "1....\n"
     ]
    }
   ],
   "source": [
    "hits_results = []\n",
    "for example in test_examples:\n",
    "    for k in range(len(example)):\n",
    "        hits_results.append(hits_count(example, k + 1))\n",
    "grader.submit_tag('HitsCount', array_to_string(hits_results))"
   ]
  },
  {
   "cell_type": "code",
   "execution_count": 36,
   "metadata": {
    "colab": {
     "base_uri": "https://localhost:8080/",
     "height": 153
    },
    "colab_type": "code",
    "id": "rqP_4K9w1aGb",
    "outputId": "af3a3409-96bb-43ce-c91c-82659e18f990"
   },
   "outputs": [
    {
     "name": "stdout",
     "output_type": "stream",
     "text": [
      "Current answer for task DCGScore is: 1.0\n",
      "0.5\n",
      "0.8154648767857288\n",
      "0.5\n",
      "0.8154648767857288\n",
      "0.3333333333333333\n",
      "0.5436432511904858\n",
      "0.7103099178...\n"
     ]
    }
   ],
   "source": [
    "dcg_results = []\n",
    "for example in test_examples:\n",
    "    for k in range(len(example)):\n",
    "        dcg_results.append(dcg_score(example, k + 1))\n",
    "grader.submit_tag('DCGScore', array_to_string(dcg_results))"
   ]
  },
  {
   "cell_type": "markdown",
   "metadata": {
    "colab_type": "text",
    "id": "MTYYlIEb1aGf"
   },
   "source": [
    "##  First solution: pre-trained embeddings"
   ]
  },
  {
   "cell_type": "markdown",
   "metadata": {
    "colab_type": "text",
    "id": "hJMCu2MF1aGg"
   },
   "source": [
    "We will work with predefined train, validation and test corpora. All the files are tab-separated, but have a different format:\n",
    " - *train* corpus contains similar sentences at the same row.\n",
    " - *validation* corpus contains the following columns: *question*, *similar question*, *negative example 1*, *negative example 2*, ... \n",
    " - *test* corpus contains the following columns: *question*, *example 1*, *example 2*, ...\n",
    "\n",
    "Validation corpus will be used for the intermediate validation of models. The test data will be necessary for submitting the quality of your model in the system."
   ]
  },
  {
   "cell_type": "markdown",
   "metadata": {
    "colab_type": "text",
    "id": "MVTeLuw71aGg"
   },
   "source": [
    "Now you should upload *validation* corpus to evaluate current solution."
   ]
  },
  {
   "cell_type": "code",
   "execution_count": 0,
   "metadata": {
    "colab": {},
    "colab_type": "code",
    "id": "M-H-14jt1aGi"
   },
   "outputs": [],
   "source": [
    "def read_corpus(filename):\n",
    "    data = []\n",
    "    for line in open(filename, encoding='utf-8'):\n",
    "        data.append(line.strip().split('\\t'))\n",
    "    return data"
   ]
  },
  {
   "cell_type": "code",
   "execution_count": 0,
   "metadata": {
    "colab": {},
    "colab_type": "code",
    "id": "wS5pl2rj1aGo"
   },
   "outputs": [],
   "source": [
    "validation = read_corpus('./data/validation.tsv')######### YOUR CODE HERE #############"
   ]
  },
  {
   "cell_type": "code",
   "execution_count": 0,
   "metadata": {
    "colab": {},
    "colab_type": "code",
    "id": "ht_3GN_x1aGq"
   },
   "outputs": [],
   "source": [
    "from sklearn.metrics.pairwise import cosine_similarity"
   ]
  },
  {
   "cell_type": "code",
   "execution_count": 40,
   "metadata": {
    "colab": {
     "base_uri": "https://localhost:8080/",
     "height": 612
    },
    "colab_type": "code",
    "id": "yaqS7CIS8fIL",
    "outputId": "a67d5159-c767-4db2-d882-b3606462557d"
   },
   "outputs": [
    {
     "name": "stdout",
     "output_type": "stream",
     "text": [
      "Help on function cosine_similarity in module sklearn.metrics.pairwise:\n",
      "\n",
      "cosine_similarity(X, Y=None, dense_output=True)\n",
      "    Compute cosine similarity between samples in X and Y.\n",
      "    \n",
      "    Cosine similarity, or the cosine kernel, computes similarity as the\n",
      "    normalized dot product of X and Y:\n",
      "    \n",
      "        K(X, Y) = <X, Y> / (||X||*||Y||)\n",
      "    \n",
      "    On L2-normalized data, this function is equivalent to linear_kernel.\n",
      "    \n",
      "    Read more in the :ref:`User Guide <cosine_similarity>`.\n",
      "    \n",
      "    Parameters\n",
      "    ----------\n",
      "    X : ndarray or sparse array, shape: (n_samples_X, n_features)\n",
      "        Input data.\n",
      "    \n",
      "    Y : ndarray or sparse array, shape: (n_samples_Y, n_features)\n",
      "        Input data. If ``None``, the output will be the pairwise\n",
      "        similarities between all samples in ``X``.\n",
      "    \n",
      "    dense_output : boolean (optional), default True\n",
      "        Whether to return dense output even when the input is sparse. If\n",
      "        ``False``, the output is sparse if both input arrays are sparse.\n",
      "    \n",
      "        .. versionadded:: 0.17\n",
      "           parameter ``dense_output`` for dense output.\n",
      "    \n",
      "    Returns\n",
      "    -------\n",
      "    kernel matrix : array\n",
      "        An array with shape (n_samples_X, n_samples_Y).\n",
      "\n"
     ]
    }
   ],
   "source": [
    "help(cosine_similarity)"
   ]
  },
  {
   "cell_type": "code",
   "execution_count": 41,
   "metadata": {
    "colab": {
     "base_uri": "https://localhost:8080/",
     "height": 1802
    },
    "colab_type": "code",
    "id": "CRPCxg2D9So5",
    "outputId": "2ee0c150-2e1b-4afe-b3bd-36bcc08a89cf"
   },
   "outputs": [
    {
     "name": "stdout",
     "output_type": "stream",
     "text": [
      "Help on built-in function array in module numpy.core.multiarray:\n",
      "\n",
      "array(...)\n",
      "    array(object, dtype=None, copy=True, order='K', subok=False, ndmin=0)\n",
      "    \n",
      "    Create an array.\n",
      "    \n",
      "    Parameters\n",
      "    ----------\n",
      "    object : array_like\n",
      "        An array, any object exposing the array interface, an object whose\n",
      "        __array__ method returns an array, or any (nested) sequence.\n",
      "    dtype : data-type, optional\n",
      "        The desired data-type for the array.  If not given, then the type will\n",
      "        be determined as the minimum type required to hold the objects in the\n",
      "        sequence.  This argument can only be used to 'upcast' the array.  For\n",
      "        downcasting, use the .astype(t) method.\n",
      "    copy : bool, optional\n",
      "        If true (default), then the object is copied.  Otherwise, a copy will\n",
      "        only be made if __array__ returns a copy, if obj is a nested sequence,\n",
      "        or if a copy is needed to satisfy any of the other requirements\n",
      "        (`dtype`, `order`, etc.).\n",
      "    order : {'K', 'A', 'C', 'F'}, optional\n",
      "        Specify the memory layout of the array. If object is not an array, the\n",
      "        newly created array will be in C order (row major) unless 'F' is\n",
      "        specified, in which case it will be in Fortran order (column major).\n",
      "        If object is an array the following holds.\n",
      "    \n",
      "        ===== ========= ===================================================\n",
      "        order  no copy                     copy=True\n",
      "        ===== ========= ===================================================\n",
      "        'K'   unchanged F & C order preserved, otherwise most similar order\n",
      "        'A'   unchanged F order if input is F and not C, otherwise C order\n",
      "        'C'   C order   C order\n",
      "        'F'   F order   F order\n",
      "        ===== ========= ===================================================\n",
      "    \n",
      "        When ``copy=False`` and a copy is made for other reasons, the result is\n",
      "        the same as if ``copy=True``, with some exceptions for `A`, see the\n",
      "        Notes section. The default order is 'K'.\n",
      "    subok : bool, optional\n",
      "        If True, then sub-classes will be passed-through, otherwise\n",
      "        the returned array will be forced to be a base-class array (default).\n",
      "    ndmin : int, optional\n",
      "        Specifies the minimum number of dimensions that the resulting\n",
      "        array should have.  Ones will be pre-pended to the shape as\n",
      "        needed to meet this requirement.\n",
      "    \n",
      "    Returns\n",
      "    -------\n",
      "    out : ndarray\n",
      "        An array object satisfying the specified requirements.\n",
      "    \n",
      "    See Also\n",
      "    --------\n",
      "    empty, empty_like, zeros, zeros_like, ones, ones_like, full, full_like\n",
      "    \n",
      "    Notes\n",
      "    -----\n",
      "    When order is 'A' and `object` is an array in neither 'C' nor 'F' order,\n",
      "    and a copy is forced by a change in dtype, then the order of the result is\n",
      "    not necessarily 'C' as expected. This is likely a bug.\n",
      "    \n",
      "    Examples\n",
      "    --------\n",
      "    >>> np.array([1, 2, 3])\n",
      "    array([1, 2, 3])\n",
      "    \n",
      "    Upcasting:\n",
      "    \n",
      "    >>> np.array([1, 2, 3.0])\n",
      "    array([ 1.,  2.,  3.])\n",
      "    \n",
      "    More than one dimension:\n",
      "    \n",
      "    >>> np.array([[1, 2], [3, 4]])\n",
      "    array([[1, 2],\n",
      "           [3, 4]])\n",
      "    \n",
      "    Minimum dimensions 2:\n",
      "    \n",
      "    >>> np.array([1, 2, 3], ndmin=2)\n",
      "    array([[1, 2, 3]])\n",
      "    \n",
      "    Type provided:\n",
      "    \n",
      "    >>> np.array([1, 2, 3], dtype=complex)\n",
      "    array([ 1.+0.j,  2.+0.j,  3.+0.j])\n",
      "    \n",
      "    Data-type consisting of more than one element:\n",
      "    \n",
      "    >>> x = np.array([(1,2),(3,4)],dtype=[('a','<i4'),('b','<i4')])\n",
      "    >>> x['a']\n",
      "    array([1, 3])\n",
      "    \n",
      "    Creating an array from sub-classes:\n",
      "    \n",
      "    >>> np.array(np.mat('1 2; 3 4'))\n",
      "    array([[1, 2],\n",
      "           [3, 4]])\n",
      "    \n",
      "    >>> np.array(np.mat('1 2; 3 4'), subok=True)\n",
      "    matrix([[1, 2],\n",
      "            [3, 4]])\n",
      "\n"
     ]
    }
   ],
   "source": [
    "help(np.array)"
   ]
  },
  {
   "cell_type": "markdown",
   "metadata": {
    "colab_type": "text",
    "id": "rlZ06qMj1aGu"
   },
   "source": [
    "We will use cosine distance to rank candidate questions which you need to implement in the function *rank_candidates*. The function should return a sorted list of pairs *(initial position in candidates list, candidate)*. Index of some pair corresponds to its rank (the first is the best). For example, if the list of candidates was *[a, b, c]* and the most similar is *c*, then *a* and *b*, the function should return a list *[(2, c), (0, a), (1, b)]*.\n",
    "\n",
    "Pay attention, if you use the function *cosine_similarity* from *sklearn.metrics.pairwise* to calculate similarity because it works in a different way: most similar objects has greatest similarity. It's preferable to use a vectorized version of *cosine_similarity* function. Try to compute similarity at once and not use list comprehension. It should speed up your computations significantly."
   ]
  },
  {
   "cell_type": "code",
   "execution_count": 0,
   "metadata": {
    "colab": {},
    "colab_type": "code",
    "id": "a2p9YzUa1aGv"
   },
   "outputs": [],
   "source": [
    "def rank_candidates(question, candidates, embeddings, dim=300):\n",
    "    \"\"\"\n",
    "        question: a string\n",
    "        candidates: a list of strings (candidates) which we want to rank\n",
    "        embeddings: some embeddings\n",
    "        dim: dimension of the current embeddings\n",
    "        \n",
    "        result: a list of pairs (initial position in the list, question)\n",
    "    \"\"\"\n",
    "    \n",
    "    \n",
    "    ######################################\n",
    "    ######### YOUR CODE HERE #############\n",
    "    ######################################\n",
    "    question_embedding = np.array([np.array(question_to_vec(question, embeddings, dim))])\n",
    "    candidates_embedding = np.array([np.array(question_to_vec(candidate, embeddings, dim)) for candidate in candidates])\n",
    "    similarity_scores = list(cosine_similarity(question_embedding, candidates_embedding)[0])\n",
    "    rankings = [(i, candidates[i], similarity_scores[i]) for i in range(len(candidates))]\n",
    "    sorted_rankings = sorted(rankings, key = lambda x : x[2], reverse = True)\n",
    "    return [(rank[0], rank[1]) for rank in sorted_rankings]"
   ]
  },
  {
   "cell_type": "markdown",
   "metadata": {
    "colab_type": "text",
    "id": "8GjSoDnM1aG1"
   },
   "source": [
    "Test your code on the tiny examples:"
   ]
  },
  {
   "cell_type": "code",
   "execution_count": 0,
   "metadata": {
    "colab": {},
    "colab_type": "code",
    "id": "pym8jMMY1aG3"
   },
   "outputs": [],
   "source": [
    "def test_rank_candidates():\n",
    "    questions = ['converting string to list', 'Sending array via Ajax fails']\n",
    "    candidates = [['Convert Google results object (pure js) to Python object', \n",
    "                   'C# create cookie from string and send it',\n",
    "                   'How to use jQuery AJAX for an outside domain?'], \n",
    "                  ['Getting all list items of an unordered list in PHP', \n",
    "                   'WPF- How to update the changes in list item of a list', \n",
    "                   'select2 not displaying search results']]\n",
    "    results = [[(1, 'C# create cookie from string and send it'), \n",
    "                (0, 'Convert Google results object (pure js) to Python object'), \n",
    "                (2, 'How to use jQuery AJAX for an outside domain?')],\n",
    "               [(0, 'Getting all list items of an unordered list in PHP'), \n",
    "                (2, 'select2 not displaying search results'), \n",
    "                (1, 'WPF- How to update the changes in list item of a list')]]\n",
    "    for question, q_candidates, result in zip(questions, candidates, results):\n",
    "        ranks = rank_candidates(question, q_candidates, wv_embeddings, 300)\n",
    "        if not np.all(ranks == result):\n",
    "            return \"Check the function.\"\n",
    "    return \"Basic tests are passed.\""
   ]
  },
  {
   "cell_type": "code",
   "execution_count": 44,
   "metadata": {
    "colab": {
     "base_uri": "https://localhost:8080/",
     "height": 34
    },
    "colab_type": "code",
    "id": "HlTIsxZO1aG6",
    "outputId": "aeb13d69-3b4d-44ba-ef21-03ac8ef6d770"
   },
   "outputs": [
    {
     "name": "stdout",
     "output_type": "stream",
     "text": [
      "Basic tests are passed.\n"
     ]
    }
   ],
   "source": [
    "print(test_rank_candidates())"
   ]
  },
  {
   "cell_type": "markdown",
   "metadata": {
    "colab_type": "text",
    "id": "Kk09ymEB1aG9"
   },
   "source": [
    "Now we can test the quality of the current approach. Run the next two cells to get the results. Pay attention that calculation of similarity between vectors takes time and this calculation is computed approximately in 10 minutes."
   ]
  },
  {
   "cell_type": "code",
   "execution_count": 0,
   "metadata": {
    "colab": {},
    "colab_type": "code",
    "id": "qpQzVKcA1aG9"
   },
   "outputs": [],
   "source": [
    "wv_ranking = []\n",
    "for line in validation:\n",
    "    q, *ex = line\n",
    "    ranks = rank_candidates(q, ex, wv_embeddings)\n",
    "    wv_ranking.append([r[0] for r in ranks].index(0) + 1)"
   ]
  },
  {
   "cell_type": "code",
   "execution_count": 46,
   "metadata": {
    "colab": {
     "base_uri": "https://localhost:8080/",
     "height": 119
    },
    "colab_type": "code",
    "id": "A70k6BYA1aG_",
    "outputId": "995a1548-d5e0-4703-a73e-489571a05151"
   },
   "outputs": [
    {
     "name": "stdout",
     "output_type": "stream",
     "text": [
      "DCG@   1: 0.217 | Hits@   1: 0.217\n",
      "DCG@   5: 0.271 | Hits@   5: 0.319\n",
      "DCG@  10: 0.288 | Hits@  10: 0.370\n",
      "DCG@ 100: 0.326 | Hits@ 100: 0.560\n",
      "DCG@ 500: 0.358 | Hits@ 500: 0.818\n",
      "DCG@1000: 0.378 | Hits@1000: 1.000\n"
     ]
    }
   ],
   "source": [
    "for k in [1, 5, 10, 100, 500, 1000]:\n",
    "    print(\"DCG@%4d: %.3f | Hits@%4d: %.3f\" % (k, dcg_score(wv_ranking, k), k, hits_count(wv_ranking, k)))"
   ]
  },
  {
   "cell_type": "markdown",
   "metadata": {
    "colab_type": "text",
    "id": "qEvE5eDF1aHD"
   },
   "source": [
    "If you did all the steps correctly, you should be frustrated by the received results. Let's try to understand why the quality is so low. First of all, when you work with some data it is necessary to have an idea how the data looks like. Print several questions from the data:"
   ]
  },
  {
   "cell_type": "code",
   "execution_count": 47,
   "metadata": {
    "colab": {
     "base_uri": "https://localhost:8080/",
     "height": 68
    },
    "colab_type": "code",
    "id": "GGk5V3Mo1aHE",
    "outputId": "13400ba4-51bd-4e71-d9b2-45908528ee30"
   },
   "outputs": [
    {
     "name": "stdout",
     "output_type": "stream",
     "text": [
      "How to print a binary heap tree without recursion? How do you best convert a recursive function to an iterative one? How can i use ng-model with directive in angular js flash: drawing and erasing\n",
      "How to start PhoneStateListener programmatically? PhoneStateListener and service Java cast object[] to model WCF and What does this mean?\n",
      "jQuery: Show a div2 when mousenter over div1 is over when hover on div1 depenting on if it is on div2 or not it should act differently How to run selenium in google app engine/cloud? Python Comparing two lists of strings for similarities\n"
     ]
    }
   ],
   "source": [
    "for line in validation[:3]:\n",
    "    q, *examples = line\n",
    "    print(q, *examples[:3])"
   ]
  },
  {
   "cell_type": "code",
   "execution_count": 49,
   "metadata": {
    "colab": {
     "base_uri": "https://localhost:8080/",
     "height": 88
    },
    "colab_type": "code",
    "id": "bqkf9nccG1Cw",
    "outputId": "f7a51dca-09a0-43b2-e870-d1cff87b31dc"
   },
   "outputs": [
    {
     "name": "stdout",
     "output_type": "stream",
     "text": [
      "['How to print a binary heap tree without recursion?', 'How do you best convert a recursive function to an iterative one?', 'How can i use ng-model with directive in angular js', 'flash: drawing and erasing', 'toggle react component using hide show classname', 'Use a usercontrol from another project to current webpage', '~ Paths resolved differently after upgrading to ASP.NET 4', 'Materialize datepicker - Rendering when an icon is clicked', 'Creating PyPi package - Could not find a version that satisfies the requirement iso8601', 'How can I analyze a confusion matrix?', 'How do I declare a C array in Swift?', 'Using rand() when flipping a coin and rolling a die', 'Handling a JSON field with a special character in its name in Java', 'React Native select row on ListView when push it', \"Get 'creation_time' of video using ffmpeg and regex\", 'Does row exist and multiple where', \"How to specify a classifier in a gradle dependency's dependency?\", 'Using $unwind on multiple documents', 'Visual Studio Code: Missing X509Certificate2UI', 'Developing Cordova plugins for Firefox OS', 'Update multiple rows for 2 columns in MySQL', 'Analyse format of alpha-numeric string', 'Dealing with large TIFF images C++/Magick/libtiff', 'What does Error: [$injector:unpr] Unknown provider: tProvider <- t <- myActiveLinkDirective mean?', 'AngularJS - Apply directive instantly, formating currency', 'Can I change the font color on a portion of a string?', \"Spring AOP does not intercept methods within Spring's container\", 'How to retrieve json in original nested form in apache solr?', \"Spatial autocorrelation using Moran's I or other spatial overlap index\", 'how to stop my php page from continuing when field is empty', 'Selecting all CheckBoxes in ListBox not displayed properly', \"PHP warning: Illegal string offset 'field'\", 'WebBrowser control crashes on Windows 10', 'Error while opening a modal in angular', 'Port 25 works when exe run manually but blocked when run as service', 'Why does 6.00 + (plus) 5.00 = \"5.006.00\"?', 'Count number of processes created using fork in a for loop', 'When should I use UIImagePickerControllerSourceTypePhotoLibrary instead of UIImagePickerControllerSourceTypeSavedPhotosAlbum?', 'Read File in Java, output the first comma delimited String', 'Simple recursive method', 'Ensure SQLite table only has one row', 'Why is there a method iterator() on java.util.Collection', 'Development for Cloudant using local CouchDB', 'Regex to find method calls', 'ASP.NET Menu rendering different from vs2008 to vs2010', 'Maven - Change jUnit Version in Quickstart Archetype', 'Writing sublists in a list of lists to separate text files', 'iPad: problems with table rows in popovercontrol', 'Retrieve multiple results set', 'pagination is not working in codeigniter :(', 'Angular NVD3 Change Colors In Legends Also', 'node.js server not responding while large file upload with express and busboy', 'Send request & Get Response in Windows Phone 8.1 WinRT', 'want to delete only empty folders from directory before last 30 days using batch', 'Creating X amount of threads that execute a task at the same time', 'Android Studio 2.2 update: aligned APK (zipAlign) not generated using the new Gradle Plugin 2.2.0', 'Entity Framework - adding the same entity twice in many-to-many relationships', 'Join two tables, only display unique values and maxium date', 'How to use absolute position relative to parent element', 'Search refinement for WebMatrix site', 'Maven project version as expression, not constant', 'Can I prevent App.g.i.cs to be generated?', 'Troubles converting XSD to Java using JAXB', 'Cannot run a jax rs web service with tomcat', 'make a password protected bash script resist/refuse \"bash -x\" when the password is given', 'Does youtube api play function trigger a view count?', 'Why is this Perl loop over strings then characters so slow?', 'How can I change the size of rgl plots in Shiny RMarkdown?', 'How do I programmatically disconnect clients which are connected to Solace appliance?', 'Rails before_filter (Correct_user OR Admin)', 'How to gitignore everything except hidden subdir?', 'Should I use weakSelf in nested blocks?', 'CSS background color not behaving as expected', 'Android app Listview cannot be scrolled to bottom to search a specific element using appium in java', 'Rails: Why \"has_many ..., :through => ...\" association results in \"NameError: uninitialized constant ...\"', 'How to send data between fragments when swiping tabs in ViewPager', 'Wordpress static pages: how to embed content into templates?', 'Troubles with importing classes from Angular 2 modules with Typescript 1.7', 'i am not able to get the images read in java for exporting it as JAR', 'How do I create a resource dll', 'error: linker command failed: ld: duplicate symbol _main', 'sql to find non-printable characters in a string', 'i want to generate payperiod for each month', 'Interactively enter headline under which to place an entry using capture', 'Querying the DNS service records to find the hostname and TCP/IP', 'Can I use setContentView outside the oncreate method?', 'Consolitate data from multible sheets ,re-arrange the data as per the column name', \"Why is my 'transparent' overlay view opaque?\", 'how can I run play framework with port=9001 under windows cmd not under play console?', 'Rails 3 - Ajax POSTS from a link click', 'Add html content to mysql die error?', 'Best way to run a Plack PSGI Perl application outside of Apache using FastCGI?', 'How to Call NSUserDefault Value To Another View Controller?', 'Does Qt have a way to get the font that the particular css resolves to?', 'How to update Parent component about the data that child component modified(angular 1.5)', '2d array, pushing to one array shows up in all arrays?', 'Get NSData from assets-library URL', 'How to specify image size in HTML Doxygen?', 'NSFetchedResultsControllerDelegate in a second view controller (not firing?)', 'Draggable divs getting mixed with another divs', 'creating MLP in python showing error', 'Create SharePoint 2010 ribbon button programmatically w/o feature XML', 'how can I use pyglet write a music player can play a music list', 'How can I efficiently debug loops consisting of a large number of iterations on Eclipse?', 'Passing a model object to a RedirectToAction without polluting the URL?', \"Automatically receiving mobile phone's SMS to hyperterminal\", 'Output \"System.out.println\" into Emacs Cider\\'s REPL (or other buffer)', 'Scoring regression model using PMML with Augustus in Python', 'Safari View Controller - send data back to app', 'Signalling a bash script running in the background in an infinite loop', 'How do I add in-app purchase to a published app in play store and test it before going into production?', 'FileNotFoundException in Windows 10 Universal App (UAP)', 'How to map one column with other columns in an avro file?', 'Retrieving all the cell data from a jQuery datatable on post', 'In Play! Frame work Can I Make classes In models package Singleton?', 'Binding events with Hammer.js and .on()', 'yii making user auto logged in on signup end (auto authentication after signup)', 'Unreal Engine 4: save rendered frame to memory', 'Building HelloWorld C++ Program in Linux with ncurses', 'Generating Checkbox Lists with MVC3 using a complex viewmodel and a cross table with Linq to SQL', 'CordovaWebView: TIMEOUT ERROR', 'Whats wrong in my xsd schema ? It gives type element is not declared on include of another xsd file', 'Angular and papaParse Integration', 'Setup a graylog2 server with elasticsearch in a vagrant machine', '(Solved-See my comment)How to make a password form on tumblr?', 'Javascript: Call a method inside another method', 'aws api gateway client-side ssl certificate verification with nginx', 'Kendo UI drop downs posting arrays', 'ServiceStack Identity on field other than PK - Insert fails', 'Redirection when rendering controller in twig SYMFONY 302', 'CSS Sprites Bottom repeating', 'How can I sort a table of Laravel Eloquent objects by a custom attribute?', 'Comparing elements in a generic list', 'Set minDate for Bootstrap DateTimePicker from another', 'What is the difference between :g and :%s commands in vim', 'Java: creating self extracting jar that can extract parts of itself out of the archive?', 'set html text color and size using javascript', 'Queue using Arrays', 'foreach loop when using Xml.XmlElement in remote scriptblock', 'How to print list of categories and click on each category one by one in selenium/appium?', 'Every now and then, ABCpdf runs out of memory', 'In Spring OAuth2, why is my resource still unprotected even though I have marked it in my resource server?', 'how to restart node application automatically on aws elastic-beanstalk', 'Unresolved external symbol LNK2019', 'Celltemplate in angular-ui-grid is not working properly', 'Escaping backslashes in method call stringByReplacingOccurrencesOfString Does not work in Objective C', 'APEX Data Loading - Add a column programatically', 'MySQL / MariaDB shuts down after exactly 1 minute 42 seconds', 'Mouse movement / mouseover and JavaScript evaluation in watir', 'Removing backslashes from a string in Python', 'Array manipulation (accessing specific bytes)', 'Rails: Does Application.css load all css.scss files?', 'LongListSelector cannot change ItemsSource', 'C# DateTime not recognising timezone change (BST)', 'deinit in child view controllers', 'How to send back to custom class which object of that class was clicked', 'delete from array returning self', 'MS Access Properties', 'UIWebView always add a parameter in url issue', 'comparing two spanned strings in edittext in android', 'Add prefix to control id and still have it bind MVC Razor', 'EXC_BAD_ACCESS when setting Integer to anything else than zero', ':hover CSS is not working?', 'Blowfish last block incomplete in decryption', \"Reading uploaded image: undefined method `file' for nil:NilClass\", 'How can I run IntelliJ IDEA on a remote desktop', 'How to get the JSONObject server response in Volley', 'Guide in organizing large Django projects', 'how to populate a dropdownlist based on another dropdownlist selected value in mvc 4?', 'Azure ServiceBus Token Expired', 'iBatis to MyBatis migration efforts?', 'Where should I look for the document generated using htp package', \"Tortoise SVN Error after update: 'The specified path has an unexpected status'\", 'Extract html data after logging into website from android app', 'Add key value to array without triggering an array', 'How to write this math equation into c++', 'Undefined index php mysql error', 'when text changed inputbox automatically updates next 6 text boxes', 'Unable to get email of facebook user', 'iphone: Facebook logout feature is not work in my app', 'how to force my app NOT to use the 3g data proxy setting', 'Unit Testing - What do you do when your code is pretty much just a calculation (GetHashCode for example)?', \"Status of CheckBox can't be detected\", 'Sort a list with multiple conditions Ruby on Rails', 'How to sharp the text in css3?', 'How to change the class of an object dynamically in C#?', 'Creating an Array with a Default Value,But the default value is changed', 'How to call a delegate\\'s function without getting the \"instance method not found\" warning in ios?', 'Android, background drawable appear black in genymotion but looks fine in intellij', 'Table has no columns using google charts', 'Dropdown list where options populate a second list js/php?', 'difference between <% and <%= ruby', 'How to remove the functionality of changelist filter appearing in django admin?', 'how to unpack stxetx data in python', 'Ansible: playbook calling Role in a directory that is in the roles directory', 'Setting up HTTPS redirects on Heroku Laravel Instance', \"Input helper valueBinding is deprecated - what's the alternative?\", 'Using MySQL.connector with Twisted Python to execute multiple queries', 'MySQL - 1 large table with 100 columns OR split into 5 tables and JOIN', \"neo4j load csv when field name has a '.' in it\", 'Mocha + React: navigator is not defined', 'semantic ui grid - display full width of column, after \"computer only\" columns is hidden', 'populating select menu options using javascript', 'Serializing MongoDB find() return into non-anonymous JSON array, using PyMongo', 'Geom tile white space issue when the x variable is spread unevenly accross facet grids', 'Moving files depending on the profile in a WAR', \"Check if it's the last record in sqldatareader\", 'Assigning to columns in NumPy?', 'Android Facebook ApiException: Invalid Application', 'Django: customizing the message after a successful form save', 'Custom TextBox with built-in Validator: server side validation not firing', 'How to embed mjpeg file on a webpage', 'php delete on jQuery doesnt work', \"AWK doesn't work in Bash Script\", 'Launch specific app when external accessory attached', 'Three Inputs in a Row - Bootstrap 3', 'How compiler like GCC implement acquire/release semantics for std::mutex', 'Framework search for upcoming project', 'Implementing a Web Service Server in Windows CE 2013', 'Why do I keep getting \"The digital signature of the object did not verify\" for Windows JavaEE installer', 'hide paging numbers in gridview?', 'How to remove sublayers from a view afer a touch', 'CUDA: Can i find out if i have global memory coalescence?', 'How to read a google chrome crash dump with windbg', 'jQuery targeting nested list', 'pass the column value when checkbox is clicked in wijmogrid column', \"How to normalize your database in hibernate? (Repeating values don't get saved again and again)\", 'how to stop validation on a particular textbox after hiding this textbox using angularjs', 'opencv imshow with waitKey too slow on Mac OS X 10.10.2 (using c++)', 'Setting an Input Box Background', 'IntelliJ IDEA: \"Element ignore is not allowed here\"', 'Slider does not work in the jQuery Tabs', 'Carrierwave getting image width and height and storing it in an hstore field', 'OpenProcess() succeeds, but EnumProcessModules() fails', 'Django + Forms: Dynamic choices for ChoiceField', 'using Url.Content to display the file content with .net mvc', 'PDO cannot able to fetch image from database', 'error in adding overlay in current location', 'Internal section link fails in beamer output of pandoc markdown', 'Adding ROW_NUMBER() to query loses DISTINCT, defeats the purpose of paged results attempt', 'android studio 135.1339820 launches wrong java version on openSuse 12.3', 'My Facebook object is empty', 'Java code reads UTF-8 text incorrectly', 'PHP session.cookie_secure does not actually set the cookie to secure', 'Using webapp2, how can I get the value of a form\\'s \"name\" attribute during a POST request?', 'Finding Uppercase Character then Adding Space', 'Table data pass into stored procedure as param and insert into another table in mysql', 'Inject entry point class in GWT with GIN', 'How to group by week of the year dates or day dates that start on Sundays in oracle 10?', 'What are the options Some and None SML?', 'Reversing a .mp3 programmatically', 'Convert Associative Array in PHP and insert it to database', 'Why is the \"map\" version of ThreeSum so slow?', 'ant keeps recompiling', 'HttpContext.Current.User.Identity.Name returns blank', 'UIWebView Javascript Window to Window Communication', 'Fluent NHibernate Exception: An association from the table X refers to an unmapped class: System.String', 'Are .NET memcache libraries production ready?', \"DB2 Can't connect to db with new user\", 'Django flatpages backup?', 'Trouble with Creating One-Time Calendar Event from Google Sheet row', 'The colored image turned to have no color and just a grey vector in drawable?', 'how to show pattern in asp-Repeater item template?', 'Fastest scripting language for Java?', 'Tried to reverse engineer my app, but got some weird-looking file tree', 'Startup for bundles placed in the deploy folder of Karaf', 'd3js force layout with hide/unhide on node click misplaces nodes after expanding', 'Unique column definition in SQL', 'Hash of a cell text in Google Spreadsheet', 'How to pin/unpin Microsoft Edge developer tools in Windows 10', 'Which editor can align tables in reStructuredText for Sphinx?', 'How to walk through a directory in c and print all files name and permissions', 'iOS KVC DRY mutation', \"IBM MobileFirst Platform iFix doesn't update the version displayed in Operations Console\", 'relative layout aligning images about right bottom corner', 'How to retrieve a PDF(document) from the Tridion File System and create a multimedia component out of it', 'HTML sends x y POST data with no inputs - how is this possible?', 'How can I view Azure logfiles when running locally?', 'is there a web service client code generator on iOS?', 'Get smallest type to include data range', 'Get dates as check if it is ending', 'Cordova brightness still returns -1', 'How to detect 3 keyboard buttons in Swing?', 'Python calculations in two groups', 'create array from mysql query php', 'TDD vs Defensive Programming', 'Display logo or image in the Ribbon using VSTO', 'How can I get a meaning of a jsp variable in java code on the same page?', 'Conversion of cloud data into 2d image using OpenCV', '[python-suds]Bug? One additional element is created when using Factory', 'Using clang to analyze C++ code', 'Login with email and password control not working', 'ansible: use different logging level for terminal and log file', 'Draggable window with pyqt4', 'dynamically adding edittext depending on the elements of json array', 'How to convert ftp.getModificationTime(file) to readable format', 'PHP Login Form using DashDB', 'Building a properties file to the top level of a WAR file, Spring-MVC/Maven', 'Enabling breakpoints in goclipse', 'error while including external JARs in ant script', 'Comparison of web widgets in flash and javascript', 'Why must I free this data? Am I the owner?', 'Optimizing a very huge mysql table (query or mysql)', 'tlbexp.exe outputs different tlb information on 2012 versus 2010', 'How to create a Facebook Like with a post/comment box', 'Codeigniter PDO integration', 'pass string array as parameter to asp.net mvc webapi method', 'Removing space in dataframe python', 'How to set application identity of an application pool using web administration module in powershell?', 'how to handle play database connection exceptions', 'querydsl 3.3.0 - using collection.any() with elementcollections in a query with N boolean arguments generates N \"exists\" sub-queries', 'Gson: Change the way Map-Keys are being serialized', 'Improving gnuplot 3d plots from data files with pm3d', 'Divide problem', 'Yii2: Using Kartik Depdrop Widget?', 'Can anyone post an example of how to enable SSL in Tsung?', 'MPI_Isend and MPI_Irecv seem to be causing a deadlock', 'Virtual Box port forwarding misery with Ruby Sinatra:4567 / Shotgun:9292', 'Enhancing regex to match more URLs', 'JavaScript classlist selector error', 'My IntelliJ IDEA 11.1.5 lost the ability to debug node.js applications after upgrading to windows 8.1', 'Scientific notation android java', 'How to make a JSON array case insensitive for Twitter Typeahead?', 'Membase can someone explain the idea behind their technology', 'Struts 2 + Dojo + Datetimepicker', 'Cannot retrieve data from find query', 'How long are resources used (file descriptor and memory) for Java temporary files (jar_cache####.tmp)?', 'how to pass a variable in WHERE IN clause of oracle sql?', 'How can I transform the coordinates of a Shapefile?', 'Mapping result of aggregate query to hibernate object', 'Drawing Application how to save drawing in android phone memory', 'Error while using npm install -g generator-jhipster', 'Get abs path from the currently edited file in Eclipse', 'Post form data to foreign aspx form', 'Logging in Azure web jobs', 'MTM with (automated) CodedUITest test-cases developed in VS2013 issues', 'How to print contents of an HTML element in MacGap?', 'ASP.NET Control not available in CodeBehind', 'How can I disable the IIViewDeck functionality momentarily?', 'Why would I create a struct with only a `PhantomData<()>` member?', 'Accessing masterpage properties from child pages in ASP.net VB', 'Bash read inside a loop reading a file', 'Random number between 1 and 20 excluding numbers already picked', 'Wordpress Navigation Label in Browser tab', 'Taking control of the soundCard with JAVA', 'STL containers and large amounts of data', 'Colour in Backorder Products dropdown based on stock in WooCommerce', 'Richfaces - <rich:autocomplete> not showing suggestions', 'How to select and enlarge a Masterpane in Zedgraph', 'react-native android publishing keystore', 'What is a good way to find a specific value in an XML document using C#?', 'Can i make my own Singleton Stateless Bean with EJB 3.0?', 'How does Google App Engine precompile Java?', 'Using dispose() method instead of close() method to a form', 'Spring Oauth2 \"Full authentication is required to access this resource\" with valid access token', 'Why is my code only displaying incorrect even if I have the right answer?', 'Forcing function in ODE', 'Get sum of column on last row, good practice?', 'Simple Karma + Typescript configuration - Reference Error: x is not defined', 'Error building Player because scripts have compile errors in the editor', 'Property Testers do not load despite forcePluginActivation. For popup menu enablement', 'Javascript regex to match last word regardless of specials characters', 'Develop multilangual system', \"angular-mock testing in Karma+Mocha can't find module\", 'How to append an element inside object using a common way', 'Generate random \"dark\" colours only in Java', 'Access element in list using indexes stored in another list', 'How to correctly use setq in elisp?', \"iOS - Today Extension 'show more' & 'show less' state incorrect. Collapsed says 'show less' - requiring multipule presses to fix\", 'how to get the position of the cursor in an editable div', 'flickering of image in SWT', 'Completely random identifier of a given length', 'Angular 2 Render Flat List from Hierarchal Data', 'Java RMI threads on client-side are executing sequentially or concurrently when calling the same remote object?', 'Variable-size buffer for receiving UDP packets', 'CreateSqlQuery on entity with formula property', 'Datepicker TIMESTAMP divide by 100', 'how to print out the whole table using anonymous block in pl sql?', 'In Sentora i will need to integrate a clamav Module', 'how do i set a value of a multiple <select> tag from the database', 'show decimal value in C#', 'Javascript: how to affect other element when hovering?', 'Creating new popup window when click button', 'How to Depict Either/Or Inheritance in a UML diagram?', 'Ajax post success data: Can you separate results?', 'Document.getElementById() not available for ChromiumWebBrowser in visual studio', 'target of assignment expands to non-language object', 'How do I configure distributed transactions for NServiceBus', 'How to combine an array of png images like layers using C#?', \"yii2 gii CRUD Generator error - Class 'Message' does not exist or has syntax error\", 'Get values of checkbox to other page', 'Session on subdomains still not working', 'How can I turn off host name resolutios?', 'syntax error, unexpected end-of-input', 'Erlang: \"extending\" an existing module with new functions', 'tcl string replacement', 'how to access directory in plesk (control panel )', 'Minimizing the sum of a special function over a list', 'VB.Net & Access - Set two foreign keys, that refer to the same table/field', 'Memory Monitoring Tool for Erlang Threads', 'Disable Spring Boot Security @Secured at runtime', 'Join two tables on the same date or closest date (before or after)', 'Power Point viewer asp.net mvc', 'Swift: Get an element from a tuple', 'images rotation to the right', 'Can I access the visual voicemail files on the iphone thru the SDK?', 'Proximity alert for locations saved at server', 'Tableviewcell button', 'Angularjs select does not mark matching model as selected', 'How can i use id to do action on an object of an android using Robotium tool?', 'How can i pass a value to constructors of collection of instances at runtime with simple injector?', 'Large binary shifts in 8086 assembly?', 'Directshow, format type change filter', 'How to open model window on option selection?', 'Update value in sqlite iphone sdk', 'Installing ADT plugin in Eclipse for Android development', 'Automating a ContextMenu with Watin', 'how to evaluate the performance of any cryptographic algorithm (say elliptic curve)?', 'Nth-child Selector with Prototype', 'Difference in performance of compiled accelerate code ran from ghci and shell', 'Database design for email messaging system', 'Java SE Development Kit 8u20 Install Options', 'Reading a file in chunks', 'Twitter style Web Application based on LAMP, Symfony2, Backbone : possible?', 'Regexp for C preprocessor command', 'Cmposition, I dont quite get this?', 'CakePHP form submits the \"array\"', 'Store feed forward network in mongodb', 'bash read strings and output as one key and multiple values', 'http client in python fails to recive', 'Dynamic languages - which one should I choose?', 'How to start an IntentService from a WakefulBroadcastReceiver', 'C++: Converting wstring to unsigned char', 'How to make echo interpret backslash escapes and not print a trailing newline?', 'AngularJS.. http.get working, when splitting into its own service module its no longer working', 'How do I determine the number of elements in an array reference?', '\"TypeError: \\'NoneType\\' object is not iterable\" on what should be a list', 'Replace random image on website', 'Rotation matrix between two camera system', 'Animated border which wraps around', 'cron job not picking up oracle query result', 'Formview and MS-Ajax UpdatePanel', 'How to update data with TreeStore or TreeEditor component?', 'Get kwargs passed to url_for in Flask view', 'how to reload the template when working with enlive without restar', 'Thread-safe get (accessor method)', 'How can I tell if \"inline\" worked?', 'calling some logic before user is logged out using spring security?', 'Java pattern to find two groups of two letters in `ABC`', 'MYSQL distincs entry of two columns even when switched', 'How Antlr creates tokens', 'Play Framework 2.4 - Java - Http header and cached response', 'List of Strings in a Grails domain class', 'Insert into MongoDB via Node.js', 'How to stop or pause Pandora and Spotify', 'Oracle Function: Replicate wm_concat', 'Return user to previous page after login (Rails)', 'Custom Layout Manager using predefined and developer-defined child view(s)', 'In Ruby, how do I specify a file in another directory as an input?', 'Unable to read View Bag value from controller to view', 'Parameters on time stamps in oracle sql developer', 'measuring the time to load a page - Python', 'Set height of child to height of parent', 'How can I find the element that caused another element to fire the focusout event?', 'How to get the latest created table in MySQL?', 'Better way to reference $scope in AngularJS', 'Sharing data between Elastic Beanstalk web and worker tiers', 'iOS certificate pinning with Swift and NSURLSession', 'Sharing UDP Data across apps (background/foreground or Split screen multitasking) in iOS', 'iPhone: Facebook logout feature does not working', 'AutoHotKey. Hotstrings and Auto-replace not working in Visual Studio 2008', 'Issue setting up Android SDK - Failed to Start Emulator', 'Why is the dismissable alert not being dismissed?', 'Error while executing change data capture sql query', 'multiple queries - Route.get() requires callback functions but got a [object Undefined]', 'How to attach custom element to shadow DOM in html web components in a secure way?', \"flash javascript don't work (Second try)\", 'How do EGit versions map to Git versions', 'How the ftp uploads works in PHP?', 'Sql XML to Delphi', 'Lookup table with the query with arbitrary length without using a for loop in R', 'C# XML deserialization XmlAttribute', 'CSS, JQuery: Animated transform from 3 lines menu to cross', 'Can m2e install an external jar file? Or do I need to install the maven command line tool?', 'Does gSOAP RESTful implementation require the definition of a WSDL', 'Automatically create an appointment in Outlook using message content', 'JSoup error: java.lang.IllegalArgumentException', 'Add Button to CMS_Page_Edit via Observer', 'How to do an XOR of the binary forms of all integer items in a list', 'How to add regularization in Scipy Linear Programming (Non-negative Least-Squares)', 'Highlight backgroung colors of some words in HTML Document in java', 'Is there a way to retrieve process stats using Perl or Python?', 'Excel NamedRange.Find Method with Regex pattern match in C#', 'cmake error when configuring', 'How to set first column to a constant value of an empty np.zeros numPy matrix?', 'Eclipse Plugin - get Launch Configurations Tree List in a Dialog.', 'What are the RESTful best practices on defining a query parameter with an or condition?', 'Extracting text from the input field - using Webdriver', 'One <hr> tag is working but not the other in Firefox. Why is that?', 'ajax request xml from php', 'Embedded Java server using Grizzly: How do you enable http2', 'Finding Minimum Completion Time of Scheduled Tasks with Topological Sort', 'How to set jQuery draggable min/max-left and min/max-right', 'semantic-ui modal size keeps extending to the height of a page', 'Is there any direct git command to push changes to another branch', 'How and is it worth to integrate Java Webapp + drools + Guvnor?', 'How to debug Error Messsage in Odoo', 'calculate differences between two numbers', 'Data constructor in template haskell', 'Tying composer.json to a specific Laravel 5 SHA', 'Django 1.7.1 requires a Default value for field - but no entry is in database. Why?', 'addEntriesFromDictionary: a true copy method?', 'Spring Boot OAuth2 with encrypted JWT access token', 'Wrap text if it is longer than max_characters', 'iptables: Duplicating/Forwarding ports', 'Multiple custom fields stored as meta_keys, how to connect with the post?', 'Android GridView crashes or is very slow on some devices (Samsung Galaxy S4, S3)', 'HTML/CSS: Input element weird indent ie7', 'What exactly does Double mean in java?', 'Most effective ways to extract Android Cursor (sqlite) into an array to be used in AlertDialog.Builder?', 'jenkins can not find android SDK', 'Can I open a new window and change the DOM of the calling window in JavaScript?', 'dynamically Change Itemized overlay draw circle using seek bar progress', 'How do I fix django.db.utils.IntegrityError: duplicate key value violates unique constraint?', 'Inno Setup not creating registry entry in Software/Microsoft/Windows/CurrentVersion/Uninstall', 'build from hadoop source code in centos', 'C# LinqToSql SubmitChanges() does not update, even though PK is set', 'How to read utf16 text file to string in golang?', 'Objective C ePub framework', 'Reducer output to different files based on keys', \"Is it possible for a Chrome Extension to get a user's full browsing history?\", 'Variable Number of Nested For Loops', 'Ordered http request parameters', 'Testing the Oracle to_date function', 'Getting the error of POST method from another PHP file', 'Multiple selection of worksheets into one workbook copy paste of content into one main sheet', 'Why do I keep getting \"developer inactive\" errors when calling the Beats Music API?', \"My select command doesn't work\", 'node js read files line by line', 'PHPStorm/Webstorm increase memory to more than 512MB', 'Want to open google.com at specific location and make it specific window size', 'Database not updating new row', 'Spring suite tools start error - spring boot', 'Slider in codenameone', 'Issue with $(this) and toggle() multiple classes', 'How to load file from dir using Racket?', 'Removing quotation mark using javascript does not remove single quotation marks', 'Firebase Android ChildEventListener Triggered onChildRemoved() before onChildAdded() When new data added', 'Python. Error using animation.FuncAnimation', 'How to make inline comments in Org-mode?', 'Find years with distinct digits - CCC 2013', 'Identify customer visits occurring after a given time period in mysql', 'Finding the distinct count from a cassandra column using Tableau', 'Prism : Change the active view', 'Get Color from int', 'Dynamic subversion repos via subdomains (in Apache)', 'How to multithread my for loop in Python', 'How to get recycler view list item count using Espresso', 'How to PIVOT and calculating column average', 'Fastest way to separate the digits of an int into an array in .NET?', 'Escaping special characters in SphinxSE', 'Importing sqlite file into r', 'Sort order of related products not working in Magento 1.6', \"Display 404 not found template for 'slugs' when publication returns empty cursor - Meteor - iron-router\", 'Is there a way to tell if an object has implemented ToString explicitly in c#', 'VFS: file-max limit 1231582 reached', 'Play 2.2 EssentialAction With Futures', 'AppBarLayout / CollapsingToolbarLayout expands indefinitely', 'how to deselect all Radio Button in Radio ButtonGroup on button click in flash as3?', 'numpy array creating with a sequence', 'Sed: Matching words with any permutation of two characters', 'Make Child element appear outside of parent', \"MobilePin createuserwizard doesn't work?\", 'Fit Image in canvas using WPF', 'Adding a fontawesome icon with border into form input', 'finding pixel location of Listview item seems to return wrong value', 'sails 0.9.8 not work, when created controller and lift it', 'Larave File not found at path but it does exist', 'RequiredFieldValidator causes validation on Server even if validator is disabled(CausesValidation=\"false\")', 'Retrieving HTML content from a page requiring authentication using PHP', 'How to generate linked-axis in matplotlib', 'Print % sign with string formatting', 'How to calculate the dimensions of the monitor in PyQt4/Windows/Linux?', 'VBA Outlook 2010 retrieving information from Active Directory', 'Modifying bootstrap thumbnails', \"ASP.Net: What's keeping old AppDomains alive?\", 'A library uses the same package as this project after importing Facebook SDK', 'Unable to run compiled .classes from the command line', 'Is it possible to partially decode and update JSON? (go)', 'How to use Apache-Commons DBCP with EclipseLink JPA and Tomcat 7.x', 'How to do batch geocoding using google-maps-services-java', 'Inserting an img into a text field (html, css)', 'NoClassDefFoundError during Tomcat graceful shutdown', 'Indesign (IDML file) Automation using HTML5 and Javascript', 'Writing to the ObjectOutputStream and getting rubbish back', 'How do I stop md-cards from stretching images to full vertical height?', 'SQL, missing end, but why?', 'SED - Search two pattern in a line and insert few word at the end of the line if pattern match is found', 'How to configure & run multiple websites with respective databases with single Laravel code instance', 'three.js CanvasRenderer - setting initial color for object together with transparency textures', 'IHTMLDocument2 - click button inside iframe', \"Resource 1 works, 2 doesn't\", 'how to show an image in an image field by a button click event in c# asp.net', 'How to use this for killing array of threads?', 'MVC scaffolding does not support Entity Framework 6 or later', 'Parse error using Remotipart', 'JAVA JAX-WS Deployment (JAVA Eclipse EE IDE)', 'kaminari and order_by', 'multisampling and fragment shader', 'C program- change char order in sentence', 'How to reload an IFrame every x seconds?', 'EF6 table per hierarchy, with unique index on derived property', 'Shell Script to add extension on file and directory', 'Absolute beginners guide to working with audio in C/C++?', 'Extract part of string', 'stopping toast android in other actvity', 'Client-side SSL not working with AWS API Gateway', 'Top Left Menu Bar Is Frozen when Main Window Shows Up', 'Category Axis Label Alignment for Multi Series bar chart in JAsper', 'Invalid Label - jQuery Ajax/Json request', 'Optimizing Haskell Recursive Lists', 'Symfony3: Service not able to get arguments', 'Reverse Geocoding not displaying info window on markers when clicked', 'How to restrict background click in Ionic confirmation popup', 'how to use CSPARQL-ReadyToGoPack-0.9 in a SBT project', 'How to sort UTF-8 lines in Vim?', 'How to handle NotFoundException elegantly in Neo4j 2.0?', 'Download multiple files simultaneously with PHP - Forking, Sockets', 'Submit form on one server, process it and then post results to another domain', 'Flyway Mysql multiline comment directive not parsed', 'Non-Blocking File Reads', 'ORACLE sql dynamic variables in stored procedure', 'nested ngFor with two data classes in angular2', 'Crossplatform webview in Qt5.6', 'Set the default encoding to UTF-8 for all JSPs without using @page directives', 'XSLT creating a table with varying amount of columns', 'how to send email with powershell', 'Asynchronous method using .Result', 'Is JENKINS Extensible Choice Parameter compatible with linux?', 'Starting Speech Recognition with CreateProcess() in C++', 'How do I animate adding subviews?', 'How can I change the default font for a Jekyll website', 'Impossible to compile Fortran code with include statement', 'Lazy loading images in Vue/Laravel', 'Web API read header value in controller constructor', 'Android wear WearableListView ImageView selector', 'Function pack() returns 0', 'Is it possible to have Firebase authentication via Facebook in a Phonegap App?', 'PHP Export MySQL to CSV - Results showing HTML', 'How to detect language preference in Laravel 5', 'VB WebBrowser click button', 'Reports using java collections', 'How to write all files Contain in the subfolders and in the folders in to a .txt file', 'Checking negative values from Google Forms', 'Libgdx reading json array values', 'Custom Buddypress Notification on Post Save', 'UITableView with UITextField - keep the data even after user scrolls', 'Visual Studio 2015 Update 1 automatically checks in files', 'Mobilefirst Failed synchronizing application from the administration service', 'Cannot execute for loop in vue.js', 'how to prevent duplicate item', 'Java Apache CLI OptionBuilder not working as Builder pattern', \"What's a proper way to turn off genymotion emulator?\", 'Jade select field populating data', \"Why is ' 2' > '10'?\", 'Mysql dump comments directives and simple comments', 'Cropping library not working on Nexus S', 'Create a segue and attach it between two view controllers through Swift?', 'Function to search recursively for patterns in vim', 'Integrating wordpress and laravel user management', 'Behaviour after takePicture() different on different devices/Android versions', 'Exporting Plone content: how to get the tarball created by quintagroup.transmogrifier.writer', 'Cassandra to Hive using Spark', 'Ruby on Rails :before_filter => :only_when_user_is_logged_in', 'How can I integrate Jacoco reports with SonarQube without using maven?', 'Can I use NSPredicate as key in a NSDictionary', 'Proxy Authentication Failed error', 'Could someone explain how to use the UpdateManager in TideSDK 1.3.1 Beta?', 'Properties - how to avoid code repetition', 'Pause/resume video recording using AVCaptureMovieFileOutput', 'Swift enum recursive associated value', 'How to grep particular string occurring multiple times', 'Hover map area sprite with jquery', 'Spark `LiveListenerBus` Exception is freaking me out', 'how to use pyplot.arrow or patches.Arrow in matplotlib?', 'Apache on Windows and Fiddler', 'how to pass the variable from api gateway to the url of another service running on EC2', 'Open link when doubleclicking on table row with jQuery', 'Wget span host only for images/stylesheets/javascript but not links', 'I am trying to show data using api . but data is not showing in custom listView . list is empty', \"Graphing sbt's incremental compilation logic\", 'how to get functionality of Long Press gesture in ios ver below 3.2', 'Change priority headings for a task with the api', 'Get values on a row based on two or more rows in Excel', 'Is using Silverlight a hindrance for Startups?', 'spotify session callback get_audio_buffer_stats', 'talend - specify jndi as datasource', 'Long data load time in Matlab', 'how can i change column width in base to content with vb.net and bootstrap?', 'Alternative to Microsoft.Practices.EnterpriseLibrary.Data', 'How to facet.pivot with spring-data-solr', 'Check empty output from fish function', 'pysolr update document with error', 'How to retrieve same column twice with different values of other column in same table', 'Updated: NodeJS - connect-keycloak middleware empty response error', 'Accordion open when page loads', \"Activity doesn't refresh after associated Broadcast Receiver's onReceive gets called.\", 'How do you detect DOCTYPE (Transitional or Strict) server-side in ASP.NET?', 'Firefox 9.0.1 Broke Internal Wiki Layout', 'onchange function in dropDownList yii2', 'play mp3 without default player', 'Convert SVG Data to SVG File that can be uploaded', 'Folder Picker for MS Word', \"Can't hide or close form after switching to another form\", 'How to ShellCode in linux with x64 processor.', 'How to set a specific timezone for windows CE By C#', 'Vagrant enters aborted state during apt-get update', \"attempting to make enter button 'clickable'\", 'ImageMagick Convert not generating correct color', 'Mybatis select with nested objects', \"My css height auto doesn't work\", 'D3 AngularJs Force Directed Graph', 'I want to add 30 days to mysql date row', 'How I can use FlexyPool with HikariCPFactory?', 'Wix installer: Verify that you have sufficient privileges to start system services', 'r, ts - error in stl, series has less than two periods (erroneous?)', 'typo3 - Adding content to the footer', 'Knockout re render template with new data model on change event of dropdown menu', '@ManyToMany relation not save', 'Downsampling of fMRI image with FSL', 'How to use Android AutoCompleteTextView on Xamarin.Forms', 'Why fstream::tellg() return value is enlarged by the number of newlines in the input text file, when file is formated for Windows (\\\\r\\\\n)?', 'Determine If Two Points Are Near', 'clicking logo on home page breaks navigation menu on mobile site', 'Use Iframe to embed csv and allow user to search from it', 'Install Chrome extension through windows registry', 'Display message on success does not work', 'jQuery masked input - format date as m/d/yyyy or m/dd/yyyy or mm/dd/yyyy or mm/d/yyyy', 'How to change spring session (redis) cookie name?', 'Any tool to suggest unit reference automatically for Delphi 2010?', 'Why does my method return a null password?', 'SQL Script - manipulate value based on previous non zero value', 'rotate image shows \"Out of memory\" exception', 'count button clicks', 'Joomla Custom Compoment Dev Env : Hot Deployment', 'Nexus 5 not showing on connected devices', 'How work the method TrueForAll? C# LINQ', 'PHP - Simplest Way to Post & Display', 'Update Temp Table with Group By', 'How to use Parse Push with Cordova, Appcelerator, etc', 'AS3 bitmapdata send to server picture is small in upperleft corner', 'How to set the Z order index for adorner in WPF', 'php microseconds', 'Creating a global database connection on an mdi form', 'Uncaught ReferenceError: React is not defined', 'VBA search column for strings and copy row to new worksheet', 'How can I record a test using Espresso without doing a clean install?', 'How can I char array in reverse order?', 'What kind of SCTP support is there on various Windows versions?', 'Saving changes to an EC2 instance without having to register an AMI each time?', 'Auto run Jetty on boot', 'How To Cache jQuery Template In Backbone View via Ajax?', 'Does this C++ static analysis rule make sense as is?', 'Same Ripple drawable(effect) appearing differently on ListView and RecyclerView', 'R ggplot2 assigning colours to a factor', 'Verifying a method was called without using IoC', \"What is 'seg cs' in bootsect.s\", 'setTimeout keeps firing', 'Formatting the way a string is entered into my database', 'Creating Jenkins Job using python API', 'python create single thread to do one task then quit', 'z order in issue in ConstraintLayout Android', 'Can I derive from a class that can only be created by a \"factory\"?', 'PHP OOP :: passing session key between classes', 'ASP.NET MVC 3, SQL Server', 'Recreating or deleting google services json', 'Probe problem when writing a I2C device driver', 'Jersey produce duplicate log messages', 'Exit / stop Array2D.initBased early', 'how to set array of date to fireDate in local notification at a time', 'alternative to async: false ajax', 'Oracle: how to get percent of total by a query?', 'How to match the recursive pattern `a(?R)b` including another string e.g. \"test{aaabbb}\"? (Regex)', 'How to disable GestureListener?', 'How to specify Code Style settings in a Qt Creator `.pro.shared` file?', 'cal extension template modification with .tmpl', 'Getting started with Groovy/Grails?', \"Opening a Ruby program's source file in the default editor\", 'How can I pass an array of Guid via Web API?', 'Backbone-Relational find or load?', \"what's the best way to format an xml string in ruby?\", 'Partial classes in Google Closure?', 'Add a repository in AccountController', 'Wikipedia API Autocomplete with Json', 'Apache Pig: unable to run my own pig.jar and pig-withouthadoop.jar', 'Optimizing list comprehension to find pairs of co-prime numbers', 'kivy access child id', 'Stucture values not staying, values changed to -858993460', 'Set toolbar title', 'How to add a row to a table using swt', 'jQuery ui selectmenu vertical position offset (relatively to buttons in this line)', 'SSIS : Warning: Failed to decrypt an encrypted XML node', 'gps not getting user location', 'Exporting a simple model with texture from Blender to three.js', 'Postman - Required MultipartFile parameter is not present - Spring, Java', 'Prevent akka actor from restarting child actor', 'UITableView not loaded', 'NTFS permission with modify date', 'QTreeView - how to tell if a drag/drop event is a reorder or a move between parents?', 'Prevent XUL notificationBox from closing when button is hit', 'Code not working. Notification that should go off once a day', 'Android Action Bar Button does not show up', '$.widget is not a function', 'jquery hide not taking parameter', \"How can i use a one form/table for multiple MVC's?\", 'MSTest: execution order of tests within the same TestClass', 'How to call jQuery function in HTML returned by AJAX', 'OAuth2 security considerations for client_id', 'Google Compute Instance 100% CPU Utilisation', 'Incompatible block pointer type when returning array?', 'Calling a REST api with an encrypted PEM client certificate', 'Select all objects in a list', 'Drag and insert div into another div', 'How to prevent firefox from scrolling to the bottom of the page when a large popup is opened', 'How to handle ((List<string>)Session.Add(\"\")', 'mysql inserting into 2 tables at once that have primary key and foreign key', \"What's the right way to remove multiple items from a QTableWidget?\", \"When MSTest fails in TestInitialize, why doesn't TestCleanup get executed?\", 'PHP CodeIgniter application not opening any page except default controller', 'Parsing JSON data without quotes with jQuery', 'Rewrite url in .htaccess', 'I/O error(socket error): [Errno 111] Connection refused', 'Git Error; RPC failed; result=22, HTTP code = 401', 'TFS 2010 - Set the State field to a certain value', 'ActionScript 3.0 How to create ProgressEvent instances in for loop with multiple files loaded from XML', 'how can i extract my query to find average', 'C# Windows Service - Default Arguments on Install', 'Upload large files with node js', 'Changing table headers in cakephp', 'hello world with JMS on Glassfish', 'Countdown timer using DateTime.Parse without defined date', \"Images in the 'drawable' folder are resized automatically?\", 'Find files with the same size and dellete all duplicates except the one has the shortest name using shell script', 'Writing Rules both in Firebase and in your Code', 'Search for words with specific starts and endings', 'Install Neo4j 3.0+ as a windows service', 'PHP convert 2 digit year to a 4 digit year', 'JSDoc auto-complete documentation in Eclipse is not working for Class.create()', 'Split a infix String to an array of String in java', 'Folder permissions in Azure web sites', 'Only have separators between UITableViewCells', 'Uncaught Syntax error, unrecognized expression: [object Object]', 'Need htaccess redirection', 'How to create this bootstrap carousel of iframes?', 'Doctrine2 - Get entity ID before flush', 'Xquery help sorted parent child relationship', 'How To Load Separate Pages In Android Gridview While Clicking Blocks or Items?', 'kineticjs rect fillText', 'is a query string with a / in it valid?', 'How to convert the BYTEARRAYS to NSString in objective -c', 'why is std::chrono::duration based on seconds', 'WCF REST Client Exception', 'Using UIBinder to create a Widget to go into a Dialog', 'OneDrive for Business :\"invalid_request\",\"error_description\":\"AADSTS90014: The request body must contain the following parameter: \\'grant_type', 'Are the any options for interfacing with the command prompt process from a .NET application other than the standard IO?', 'Adding data in the database using microsoft access and OleDb in C#', 'jQuery Ajax header not being passed', 'AngularJS: Multiple views with routing without losing scope', 'BackboneJS How to merge collections', 'Specflow :Could not load file or assembly TechTalk.SpecFlow, Version=2.2.0.0', 'Max byte calculated by System.Runtime.InteropServices.Marshal.SizeOf()', 'How can my application retrieve custom fields from a DocuSign transaction?', 'add active state to button in a button group', 'How to define clear range for pixel color', 'Roslyn VisualBasic.ScriptEngine doesnt recognize hostObject written on C#', \"Neither BindingResult nor plain target object for bean name 'categoryOptions' available as request attribute\", 'How to change Wicket behaviour on Page Expired', 'PHPUnit code coverage show 0% coverage', 'How to prove code correctness lemmas with the \"undefined\" constant', 'Visual Studio has insufficient privileges to debug this process. To debug this process, Visual Studio must be run as an administrator', 'WebApi EntitySetController using composite keys', 'How do I set up an OpenGL project using XCode 4.2 in C++?', 'Initialize static NSString at class level', 'Rich Text Editor inside Flux Form', 'Setting $PATH in xampp osx', 'How to extract data from html using PHP', 'How to get Current location using MapModule?', 'Excel VBA Syntax Errors & Compiling Issues', 'How to read Logback configuration file from path outside the war file?', 'jQuery ajax not getting every div elements', 'TCP Socket on JAVA - Any byte >= 128 is received as 65533', 'SqlBulkCopy keeps on throwing connection forcibly closed exception', 'Error sending to the following VALID addresses Jenkins', 'How to determine if a text has balanced delimiters?', 'How to flick through a deck of cards?', 'Selecting in SQLite Database Android', \"TSQL merge Incorrect syntax near ','\", 'Building Pocketsphinx On Android on Windows', 'Add background image in a div without empty space between div and footer', 'Include github project into wordpress plugin', 'django multivaluefield & multiwidget - compress and/or decompress not working', 'Android : Can i call my onresume() inside onpause().?', 'How to fit picture to absolute positioning modal window?', 'Redirect URL to PHP only if file does not exist with Nginx', 'Laravel 4 Exception: NotFoundHttpException', 'How To Start Using Kostache?', 'Assigned access application exits when Ctrl + Alt + Delete is pressed.', 'Circular dependency error when running migrations in Django 1.7c2', 'JavaFX setOnShown fires before window is visible', 'Flash Develop - Publishing', 'I want to use the variable I declared somewhere else but I cannot (simple sql query)', 'buttons are not displayed', 'Prevent Twitter responsive layout from collapsing when width < 320px', 'Show azure cost analysis data using Azure billing API/SDK', 'find the field names from a search query', 'OAuth 2.0 OpenID Connect Loopback and Keycloak', 'Windows Phone: How to retrieve the same photo from media library between application instances', 'Symfony2: determine if a controller is called from a development environment or from a production environment', 'When UITableView is fully reloaded', 'http.post(url, postData, options) does not set header', 'JSON stringify outputs empty object for not empty object', 'Display.syncExec not working inside Callable', 'XPath to first occurrence of element with text length >= 200 characters', 'Unable to push a docker image to local OpenShift Origin registry', 'SlideDown() using JavaScript not working as intended', 'Threading.Tasks Dispose meaning issue', 'VAL() function in JavaScript', 'Using php to send form to my email..Having an issue with 405 Not Allowed when form is submitted', 'Netty closeFuture().sync().channel(); blocks rest api', 'How to check if a specific button exists in Scrapy?', 'Remove logs from ORMLite Android', 'Language detection API/Library', 'Should I make 1 form for each upvote button or 1 form for all the buttons?', 'Eclipse GAE JDO 3.0', 'django-cms editors and HTML data attribute cleaned up', 'Xcode build error clang failed', 'setTimeout from a web worker', 'C# Populating a listview from a List', 'Javascript not working in django inline formset using urlify.js', 'PHP multi cURL performance worse than sequential file_get_contents', 'Converting PHP Contact Form to SMTP', 'How do I prevent the original method being called when mocking a class with PHPUnit?', 'Ensure footer will stick to bottom of page and flex with content', 'How to share files from any path using a FileProvider?', 'R: How to build sum of arrays third dimension containing NAs and returning a list?', 'Speeding up a strangely slow Rcpp function', 'How to create a service that sends/receives UDP broadcasts on multiple interfaces', 'Can someone tell me how to replace the following javascript code with a loop?', 'UIImageView layer border issue', 'COM object created by CComObject::CreateInstance not destroyed when pointer goes out of scope', 'Run 2 sql query with 1 query for save query result as .csv format', 'AWS Elastic Beanstalk Vs EC2 Container Service (ECS) - Docker', 'Connect to remote MongoDB instance from ASP.NET', 'Copying files with unicode names', \"ASP.NET Web application doesn't unload AppDomains after deploy\", 'Getting YouTube livestream URL', \"Can't use ToString() in LINQ to Entities query\", 'list comprehension to create list and for no-data value feed default value', \"JSX element type 'XXX' does not have any construct or call signatures\", 'Subroutine unexpectedly ends when a Workbook is closed', 'Creating a result set (using a select statement ) within a loop', 'Laravel 4.2 - Environment detection - homestead.yaml vs. start.php', 'Deploy a shell script with Ruby gem and install in bin directory', 'Change a string into an int', 'How do I stop a MySQL decimal field from being rounded?', \"Respecting argparse's privacy, vs. usability\", 'Very simple Web Service in Python', 'Emoji and UIWebView in iOS 5', 'Getting IOError: [Errno Invalid number of channels] -9998 when using mic with PyAudio on Raspberry Pi', 'Mono on Mac OS X - Parallel HTTP Downloads limited to 2', 'Delete files, directories and buckets in amazon s3 java', 'Android: Saving form data on a swipe rather than from a button', 'No description or item name on PayPal Payment Received email', 'Code igniter with data mapper giving in valid json', 'Where can I find official / canonical documentation for using JavaScript with \"classic\" ASP?', \"BroadcastReceiver isn't working\", 'Array compare and count which has similar values and which not', \"How to cancel 'viewWillAppear' after UIImagePickerController is dismissed\", 'In Scala, is it possible to write a script which refers to another script', \"after reload page IE is not retaining it's scroll position\", 'SpringBoot multiple authentication adapter', 'SMTP Contact Form blank screen on Submit', 'Destroy all sessions but one', 'C# WIndows CE Compact Framework 2.0 Set System Timezone', 'Appropriate representation of a 2D game board in Clojure', 'Ionic emulate ios shows black screen', 'How update APi with AngularJS?', 'Javascript based redirect: will it hurt SEO?', 'What is the difference between these two SOAP requests?', 'Microsoft Access Report - How to cycle through all pages of a report in print view?', \"What does Actor[akka:\\\\\\\\play\\\\deadLetters].tell() mean in a New Relic's trace of a Play Framework 2.0 web transaction?\", 'JRuby 1.7.0 will not install bundler given plenty of memory', 'solr multiple tokenizers for query', 'Is it possible to pass an EJS variable to an Angular ng-repeat filter?', 'How To Read Data using Ip Address', 'SSIS XML Decryption Message', 'Detecting selection change on a UITextView?', 'Different CSS background-image depending on month and year', \"What's the equivalent averageifs for standard deviation?\", 'Segmentation faults using f2py', 'Eclipse: Most useful refactorings']\n",
      "['How to start PhoneStateListener programmatically?', 'PhoneStateListener and service', 'Java cast object[] to model', 'WCF and What does this mean?', 'How to uncheck checkbox using jQuery Uniform library', 'Two projects with same code base', \"Can't read php file when upload image to server in titanium\", 'create pandas dataframe from dictionary of dictionaries', 'how to pass tkinter text to flex', 'runtime error project source code not found and invalid string null exception?', 'excel VBA new URL on existing IE', 'Howto immediately update TextBox after correction of bound property?', 'JAX-RS Jersey/Grizzly Define an interface resource', 'JSONConvert.DeserializeObject not handling child array with unnamed array items', 'Unexpected error while loading data', 'Cucumber Capybara Selenium race condition with expect(all())', 'How do I check if one vector is a subset of another?', 'Dropdown list where options populate a second list js/php?', 'Automated Email Sender', 'mysqldump --routines not including routines in created file', \"'Save As' image with src from PHP\", 'enable mouse scrolling but not mouse visual selection in vim?', \"Cucumber's AfterConfiguration can't access helper modules\", 'Doctrine 1.2: Can a model have two instances of the sluggabl behavior?', 'Should a custom find method on a Laravel Model be static?', \"Calling spring data rest repository method doesn't return links\", 'QML : Flippable issue', 'css: how to build centered div with minimum spacing on the left', 'Android OS Calling onActivityResult before picking up image from gallery', 'how to detect if is running the scan for new media files on Android (in background)', 'Undo in JTextField and setText', 'Swift: Create Reproducible NSView using Interface Builder', 'Is there a predefined webpart called CAPTCHA webpart?', 'fme datalist extension for alfresco community 4.0.c', 'How to read the call log on iPhone iOS 5 programmatically', 'Rendering partial views with Razor in MVC5', '$ is not a function errors', 'Get values on a row based on two or more rows in Excel', \"Python 3.3 can't import Crypt\", 'Why Hashmap is not displaying in order?', 'Keepalive time - cannot reduce below one minute in C++', 'ExecCommand not working on all systems', 'What are we doing wrong with git?', \"Database foreign key constraint doesn't work?\", 'Custom Partitioner : N number of keys to N different files', 'Behaviour of autoDestroy: false in Extjs4', 'Conditional extends in Blade', 'Get Word bookmark index to replace image inside bookmark from Excel', 'Set label text based on dropdown list selection from datasource', 'How do I refresh in Firefox and preserve breakpoints?', 'Closely coupled C# classes in one module, how to improve this design?', 'Jacobian and Hessian inputs in `scipy.optimize.minimize`', 'Force full calculation of entire workbook in Coldfusion / Apache POI', 'Adobe AIR lag on high resolution Android devices', 'magento product category not applying, but applying after manual \"save\"', 'how to get environment variables desktop path', 'Get few lines of HDFS data', 'JSP Redirect: Session Loss Issues', 'What does JPA EntityManager.getSingleResult() return for a COUNT query?', 'Limit Linq result columns for GridView', 'Unmarshalling, manipulating and then marshalling CVS data in Camel using Spring DSL', 'Sphinx Search Multiple Tables and Aggregate Results Using PHP API', 'What is a Sanity Suite?', 'In Spring OAuth2, why is my resource still unprotected even though I have marked it in my resource server?', \"Unable to run rails server: `require': cannot load such file -- net/ssh (LoadError)\", 'Building a Matrix of Combinations', 'Convert Perl Regular Expression into Java Regular Expression', \"Value of type 'String' has no member 'range' in Swift\", 'Using awk to remove spaces from a field', 'Executing a function on ring/compjure application startup after deploy', 'Does using compare on a nil NSNumber always return NSOrderedSame?', 'Sign on several sites', 'Finding entry of vector in PARI/GP?', 'How to draw line and font without D3DX9 in DirectX 9?', 'grep through colored text , e.g. gcc | colorgcc | grep regexp', 'Querying ignoring a time portion of TIMESTAMP fields along with JPA converter', 'refresh gridview after adding or deleting new record in c#', 'Move static data from db into code in rails 3', 'How to free memory after array in PHP? unset and = null seems to not working', 'CSS Sprites Bottom repeating', \"How can I workaround heroku's 30 sec timeout when executing long PLSQL procedure in Rails?\", 'java.lang.OutOfMemoryError - Very large SOAP response', 'Data binding access in xaml vs in code behind - Linq to XML?', 'Filter Array Content to a Query containing $concatArrays', 'IntelliJ IDEA: ClassNotFoundException if run Debug, execution/run does work', 'How to read events for a particular date from native calendar', 'PEAR and absolute paths', 'Ember, safe way to save models', 'Javascript Json Parser', 'How can I keep my initializer configuration from being lost in development mode?', 'Adding in-app purchase to existing published application and testing it without publishing', 'If statement in TableView Cell not working', 'SFML fails in multithreading', 'Is there a canonical way of passing options to a Go function?', 'Problems with limit method in Rails 3.2 and hash ordering', 'How can I choose the location where I want to save downloaded files?', 'Creating NSWindow programmatically in Mono using MonoMac.dll Ref', \"Can you use DataTable.Contains(object key) if your datatable's primary key is two columns?\", 'Linking two UIScrollViews so they follow each others touches', 'Unable to dump a relation in PIG', 'Error when TS audio stream over UDP', 'getting java.net.SocketException: Invalid argument:inside docker container', 'GIT - Fail to checkout to other branch when nothing to commit - when file is in gitignore', 'ASP.NET: How can I create a Login System using aspnet_regsql.exe?', 'Putting 2 divs on the same line', \"Interface's function clashes with Property's getter\", 'How do I make a table from a List MVC?', 'Ignore blur event if user choose address on google map autocomplete', 'RethinkDB update field inside nested array->obj', 'Authenticate users using cURL for my login system on my site?', 'Silverlight datagrid disable particular cell', 'Path configuration with sphinx', 'FileNotFoundError: [WinError 2] python 3.4', 'SVG click events not firing/bubbling when using <use> element', 'Visual Studio publish to azure existing apps error', \"angular javascript won't apply to ui-view inserted element\", 'Passing shake gesture event to the app delegate', 'How to display french letters?', 'Forbidden access Codeigniter URL', 'Calling Method in Android', \"Facebook Comment box inside UIWebView doesn't have the right height\", 'how can i get the object of a button created with storyboard', 'CodeIgniter Removing index.php using .htaccess file', 'ArgumentException: The specified structure must be blittable or have layout information', \"Event Viewer reporting my C# application crashed through 'System.Environment.FailFast()'\", 'Leaving equal width gap spacing before and between menu buttons', 'Get Button Value when click in Angularjs', 'Android map api-2 disable click', 'Can not add rows using datatable.js Ajax', 'Passing a simple IEnumerable to view and using foreach to loop through returns a blank screen?', 'Cordova brightness still returns -1', 'GDB/MI redirect stdin and stdout to files', 'how to clear devise session on browser close?', 'JsTree - Get Degree of Node', 'Swift type inference and type checking issue', 'How to call DocuSign Signer Information screen?', \"Getfield.SetValue doesn't work\", 'Why do we put \"#\" in front of myTempTableName?', 'Accessing SQL Server over an SSH tunnel', 'Deleting Li doesnot work for dynamic li', 'iOS 10 FBSDKAppInviteContent() not working anymore?', 'RoR: How to populate table from radio buttons?', 'I have a SQLite syntax error in DELETE statement', 'Cookies of domain are sent to subdomain, how to fix?', 'Why libuv use thread pool to run all file system operations', 'CSS button not styling', 'Error while creating Menu Dynamically with Xamarin Android', 'Why does my GradientDescentOptimizer produce NaN?', 'Dynamic table in html', 'Coq tutorial and/or book with exercises involving subset types', 'How to have a where clause on an insert or an update in Linq to Sql?', \"Aren't these two statements incompatible in N4140?\", 'how use tests written in Selenium and Cucumber-JVM with JMeter?', 'Why use Thread.currentThread().isInterrupted() instead of Thread.interrupted() when implementing Runnable?', 'How to preserve TwoWay binding of CurrentItem when databinding to CollectionViewSource in ComboBox', 'Android find if color is too close to black or white', 'Dynamic listview with jquery mobile', 'ClearCase Remote Client CLI?', 'Ajax Accordion issues in firefox/chrome', 'Running Webrick server in background?', 'Can I create my own command in sublime and how to associate python implementation to that command?', 'prepareForSegue not getting called when registering a custom cell', 'C# Xml Parsing from StringBuilder', 'Dynamically generate a list of available languages in Spring MVC', 'Recursively find subdirectories and files', 'Check key exists in NSDictionary', 'c++ for loop with decrement update causing infinite loop?', 'MySQL JOIN returns NULL fields', 'Need algorithm for angle of WPF line', 'How to get String value from a boolean value using MySQL query in Jasper Studio', 'What is the usage of global:: keyword in C#?', 'iOS Framework: All Functions Demanding Different Types of Parameters', 'How to print a binary heap tree without recursion?', 'JavaScript variable is undefined after being passed in a function', '\"preprocess current file\" addin for Visual Studio? (C++ )', 'Object Oriented Database Vs object Relational Database', 'run method onclick crash in android', 'Does Akka support in-process messaging without object serialization?', 'AWS Elastic Beanstalk - Increase Instance Disk Capacity', 'Inter Thread Communication in C', 'Do we have Reminders in windows 8', 'Make specific ListView item not clickable in Universal Windows Platform', 'Regex groups in python', 'Facebook Realtime Updates - Dispute - Response', 'Is empty struct defined by C++ standard?', 'Background Image disappearing in Microsoft Edge', 'Java getNodeName and namespaces', 'SpringBatch CommandLineJobRunner -next using old run.id', 'Apache camel soap request type conversion error', 'How to get mouse position in float or double with exact resolution?', 'Hive query output to file', 'Check if an object exists in JSON', 'PHP - Socket communication between servers', 'Windows Phone with XML file', 'Laravel 5.2 $fillable', 'Treeview - highlighting multiple items', 'OpenGL - Sweep Representations', 'Rstudio is.na(e2) error when sourcing r file of functions', \"Add subview to tableview which doesn't scroll\", 'readHTMLTable and UTF-8 encoding', '.htaccess block certain website', 'Use for WorkItemAttribute?', 'Foreach changes not being preserved on Linq item collection', 'Why/How is IntelliJ causing debug output in Netbeans?', 'TypeInitializationException when running Stanford.NLP.CoreNLP example', 'Cannot load MySQL JDBC driver', 'MySQL - Trying to count tickets sold for an event', \"A string with '-' character is not drawing properly in drawrect method in iOS\", 'tabBar:didSelectItem and popToRootViewControllerAnimated', 'APK loading workflow documentation', 'chosen allow_single_deselect is not working as expected', 'writing boost::archive to C# stream', 'Replacing directory with external results in \"working copy locked\" on `update`', 'Lm across many columns in a dataframe in R', 'Cassandra adding disks / increase storage volume without adding new nodes', 'How do I pass variables between methods in java?', 'Camera crash if called by other application', 'Trying to retrieve the most recent previous entry in a table', 'Watir wait_until_present times out instead of returning false', 'CentOS install mod_dav_svn', 'Facing issue with camera application', 'How to import data into neo4j (neo4j-community-2.0.0) in windows 7?', 'Trying to save my Django Model Formset, keep getting ManagementForm error?', 'UIToolbar on each page of UINavigationController', 'Non interactive samba user creation via ansible', \"Error while installing netCDF4 for Python, can't find HDF5\", \"Use Flexslider's selector property to skip some slides in DOM descending order\", 'carouFredSel Slider - prevent scroll to top on slides rolling', 'Structure a NoSQL database for a chat application (using FireBase)', 'How to change images in grid view as the position changes in android?', 'iOS6.1, iPod: Second video does not start at the beginning', 'Android Emulator Won\\'t Start in Eclipse \"reqested operation requires elevation', 'Test that app launches another app in Android', 'ZF2 detach listener from EventManager', 'PyScripter Rpyc', 'Cython: cimport and import numpy as (both) np', 'Access or download .csv file from dropbox using objective-c', 'Replacing an equation and embedding a math function plotter?', 'can you make an image button move in the same was as a bitmap in android', 'Dynamic name, password and ip in MySQL', 'AppleScript error \"Can’t make \\\\\"\" into type integer.\" number -1700', 'node (angular 2) updates the input field even on different PC or browser?', 'Restrict cipher suites on JRE level', 'Join tables hibernate + group by', 'Pulling prior year data', 'how to get rid of ArrayOfString classes from jax-ws client code', 'Get a worksheet name using Excel VBA', 'jQuery menu hover', 'Formation of Clusters in MATLAB', 'Use SQL to filter the results of a stored procedure', 'Java: How can I tell if one of my array String values is null?', 'Get log file name of database from .mdf file', 'Rename control methods in Windows Forms application', 'Spring Boot maven exec - unable to start class', 'Is IntentService appropriate for FileObserver', 'Add Button to CMS_Page_Edit via Observer', 'Using Nested Graphs in Sparql', 'asp.net mvc int property bind exception', 'Looping through AJAX and callbacks in jquery', 'Printing a Table from a Dictionary', 'Xcode 6, Yosemite Mac app help book: topic unavailable', 'There was no endpoint listening', 'NSString that contain lots of null termination?', 'BadTokenException - Unable to add window', 'Why is the getElementsByTagNameNS empty in java?', 'Ajax ModalPopup wrong display in IE8', 'Rescue all errors of a specific type inside a module', 'Setting svn:ignore property on files that are not version controlled', 'Is there a way to print to the console in an Android app?', 'Program exceeds a time limit, which seems impossible - buggy code', 'Reading values from one database and write it to another database', 'Visual Studio 201x: C# syntax highlighting for new object names', 'Calling a JAX-WS webservice from inside Matlab', 'How can I program a button in HTML to go to a link?', 'Rails 4, Ruby 2.0: Get PG Error when trying to get all records having a specified value in joined table', 'Add one \"day\" to date but let me choose what time', 'how to use jquery deferred with vktemplate / queuing ajax requests', 'Cant set text in TextView - android', 'Displaying image in MFC method that is not ONPaint', 'How to insert new row to database with AUTO_INCREMENT column without specifying column names?', 'Invalid Constraint Value', 'Magento not saving any data', \"Java Generics : Casting a raw type to any reifiable type doesn't generate unchecked cast warning\", 'Notifying user-mode as soon as a packet arrives', 'How to handle this type of events', \"Links don't work with jsp and jquery (How to link websiteurl in anchor tag in jsp page)\", 'how to populate a dropdownlist based on another dropdownlist selected value in mvc 4?', 'test driven asynch tasks', 'Log file not being generated while running a script via Windows Task Scheduler', 'How to know the discriminator value', \"Wrap two adjacent td's\", 'How do I get a Faye client given a client ID?', 'RoboGuice custom module application context', 'Memory leak in Python extension when array is created with PyArray_SimpleNewFromData() and returned', 'terminal command for running sublime text 3 from on ubuntu', 'Strange PHP 5.3 issue with date diff calculating difference in days', 'Why is my code making PDO return nested arrays?', 'Delphi TWebBrowser - how to use proxy with login/password?', \"Under iOS, does anyone know how UUID's are generated for executables and what information may be encoded therein?\", \"Can't create a Hadoop sequence file on a local file system\", 'hibernate ImprovedNamingStrategy overrides Table name in entity', 'Can I compare MysQL timestamp with datetime columns? is it bad?', 'JSON Safe Values from MySQL', 'SQL Select MIN in Subquery returns multiple records', 'How to update self based on reference of value from hashmap from self', 'Compile a Standalone Static Executable', 'Rally SDK App using Grid with collapsible tree of children stories', 'make a favorite list of job using PHP and MYSQL', \"Parent UIViewController Orientation Shouldn't Change After Dismissing the Child\", 'how to use jquery file upload angular version?', 'How do I fast foward branches without switching to them?', 'Managing database connectivity with ADO.NET', 'Repeat each value of an array two times (numpy)', 'Help me understand this C code (*(void(*) ()) scode) ()', 'Unity3D - Audio playing getting muted after getting any call/notification on Android', 'Can you set a tkinter background image without adding a new canvas element?', 'using tapply/dapply etc for t.tests', \"Binding a 'IsReadOnly' Dependency Property\", 'Meteor: Sharing/Passing Variable Between Controller and Helper (diff files)', 'Google Dart Simple Contact form', 'Loop invariant of linear search', 'How do I add an element to a list in Groovy?', 'DbAcl::check() - Failed ARO/ACO node lookup in permissions check.', 'Rotating coverflow effect', 'How to create multiple objects from a class with different variables?', 'How to store DbType.Time from c#', 'Custom keyboard clear button', 'Test class extending test class in dependency module', 'Error while making CLucene for Max OS X 10.10', 'Bind to docker socket on Windows', 'give type to anonymous type in linq query', 'Bigger image for first item of the gridview android', 'Form is submitting the Array instead of the wanted field in CakePHP', 'Proper groovy script for sum of fields in Elasticsearch documents', 'Monitor network usage of a process', 'PHP SCRIPT issue with passing the uploaded image to facebook->api function', 'Cocoon and has_one association', 'Bad performance (stuttering) with Windows Phone 7 Page Transitions', 'Datagridview enter key selects next cell from next row', 'Search and then delete depending on whether files contain a string', 'Beautifulsoup Exception list out of range', 'Footer. It overlaps on div', 'How to get the semantic orientation of String or adjectives by using SentiWordNet', 'Visual Basic Regular Expression Question', 'Jquery validate file ext on upload', 'CKEditor paragraph spacing issue', 'boost::shared_ptr and nullptr in default template function argument', \"Enemy Script Isn't working properly on my Tower Defense game c#\", 'TFS Build fails on Specifying Drop folder location', 'Formatting a numeric field to fixed length in crystal reports', 'Is there a framework/app for testing distributed systems or just network apps?', 'async/await for Worker', 'ComboBox bound to ICollectionView is displaying incorrect SelectedItem', 'How do I implement multiple argument generation using FsCheck?', 'Universal Analytics Custom Dimensions with Multiple Trackers - Old tracker recording User-Level Scope Dimension', 'SSLSetup on Amazon Linux: SSL Error, Multiple certificates provided', 'Firebird 2.5.6 romanian collation for UTF8 charset', 'How to implement builder pattern with fluent-interface with immutable results and extended interfaces?', 'Why did Rails Active Record migration generate COLLATE utf8_bin on varchar columns of mysql', 'Assign Topic in chm file', 'How do I get a stack trace using the ruby debugger?', \"ef7 unable to retrieve child collections' child object's properties\", 'C# JSON Post From JavaScript', 'simple sentiment analysis with java', 'dynamic allocation of more than 1 dimensional array', 'jQuery works on my page, but firebug says $ is not defined error. Why and how to avoid it?', 'How reliable is h2 database?', 'Scrapy How to check if certain class exists in a given element', 'Using Workflow Foundation to define flow of asp.net pages', 'Add precompiled dynamic library to APK when using QBS build system', 'Connecting mssql using php in linux server', '2 states roundable numeric text box with knockoutjs', 'a href in FT InfoWindow not working as I would like', 'How can I do point-to-point messaging in Bluemix using MQ Light?', 'My javascript web workers are dying silently at random places. How can I debug this?', 'Docker compose - secrets Additional property secrets is not allowed', \"NUnit - Loads ALL TestCaseSources even if they're not required by current test\", \"What's MySQL's string compare rule?\", 'Python: Using Excel CSV file to read only certain columns and rows', 'Creating a jump function', 'auto-increment using loopback.js and MongoDB', 'How to go to next screen of an app using appium?', 'CSS3 Rotate on animated element causing click event not to invoke', 'datagridview keypress event for adding new row', 'Subtypes vs Derived Types in C++', 'asmx service work regular but not async', 'Intellisense on wstring displays: npos = 18446744', 'After update from vs15 to vs17 660 errors appeared', 'Is there a better HTML escaping and unescaping tool than CGI for Ruby?', \"Can't add content on pages using webform template in Umbraco\", 'Xcode crashes when i run the app on my real device', 'How to set a custom UIToolBar always in the front and top of the application?', 'How can I use the mongolab add-on to Heroku from python?', \"I want to initialized every jtabbedpane's JTextarea with a new dynamic name?\", 'jquery: maskedinput plugin not playing nice with validation plugin', 'CSS Conditionals for WebKit Browsers', 'How to check if an NSMutableArray contains an object which contains certain text?', 'RxJS: Share() an Observable & Emit Last Value to each new subscriber', 'how to load unstructured non-queryset data with django-tables2', 'How to search a video using youtube api', 'div width height according text?', 'Jenkins node connection troubles', 'unexpected behavior in core.logic conjo goal', 'Calling an extension method on a member variable of type T of class<T>', 'Clear CSS menu hover state on click (page loaded via ajax)', \"Field 'x' doesn't have a default value\", 'Compatibility issues in swing drawing app OSX/Windows', 'glMapBufferRange() is slow and memcpy() of the mapped data is also slow on Android', 'Finding a control in TemplatedWizardStep', 'WPF how to easily chain animations in code behind?', 'Connect to remote MongoDB instance from ASP.NET', 'What does --net=host option in Docker command really do?', 'Inject database context into classes using interface', 'dojo tree custom icons', 'Add a choicefield to search_fields in django admin', 'iOS app is rejected as \"Spam\"', 'getElementsByTagName results in NullPointerException', 'Combining Parsley.js validation with the malsup jQuery form plugin', 'Laravel 5.2 - Updated and Route group Middleware now is no longer called', 'C# Component collection property not serialized when filled from property setter', 'How to enable bokeh tools in a pyqt QWebview', 'How to pass JavaScript value from View to Controller?', 'BlueZ version in Android Honeycomb', \"How do I ensure nicely formatted HTML when I 'view source' on the browser?\", 'C# Socket BeginReceive / EndReceive capturing multiple messages', 'Retrieve info from MongoDB using C#', 'Invalid read/write of size when alloc', 'Why is assigning a value to the variable \"let\" possible?', 'Is there any way to force https for some pages in spring-security?', \"zClip don't work - multiple copy to clipboard JS\", 'ArangoDB - Executing AQL using java driver 4.0.0 using filter returns null', 'How to add an attribute to a field a many-to many-field selected entry of a model which is inline in django 1.2?', 'ASP.NET oData patchValue received from Angular is nothing', 'Hard Code List of Years?', 'Is it possible to access the state of a trigger in Angular2?', \"JsonConvert throws a 'not a valid integer' exception when deserializing to a double\", 'Use a Gnuplot variable instead of Bash Variable in a bash script + gnuplot script', 'How to make a query linq check date is in month, quarter or a year', 'Android app installation: Unknown failure (Failure - not installed for 0)', 'How to include the GroupBy() elements in Select() in Linq to Sql query', 'Does iPhone OS 3.0.1 ruin your development phone?', 'htaccess Rewrite URL Without .php Extension To File', 'NodeJs receive UDP numbers in ugly binary format', \"Failed to execute 'importStylesheet' on 'XSLTProcessor': parameter 1 is not of type 'Node'\", 'ClickOnce Error, Cannot activate a deployment with earlier version', 'Dynamically creating checkboxes', 'Is Selenium 2.0 waiting for element / page to load?', 'Developing Cordova plugins for Firefox OS', 'Implementing a \"Singleton\" like feature using internal', 'CSS Right Margin Does Not Work Inside a Div With Overflow Scroll', 'sql query to get distinct rows in let table in simple two tables', 'Connecting my Android phone to the DDMS SDK utility', 'Google Charts - switch between table and chart view', 'MVC Restful routing and returning Views', 'WPF UpdateSourceTrigger', 'How to launch a LWUIT form from a LCDUI form?', 'How do I remove from the beginning to the 2nd specific character of a string?', 'Create dynamic checkbox in UIWebView', 'Azure-cli installation failed', 'Uncaught SyntaxError: Unexpected token < VM105:17Uncaught ReferenceError: System is not defined', 'org.hibernate.StaleStateException: Batch update returned unexpected row count from update [0]; actual row count: 0; expected: 1', 'Show div based on selected checkboxes', 'Fullcalendar week view has unrecognized character', 'How to visualize embedded derby database?', 'Hyperlink URL causing resource not found error', 'List view item having multiple buttons', 'Android AWS S3 video upload occasionally does not work', 'Soft keyboard \"del\" key fails in EditText on Gallery widget', 'Compare two List<string> and print the duplicates', 'Need to pass string with newline character from Unix shell script to sql query', 'Correct way to initialize a NULL-terminated array of strings in C', 'How can i run this program in parallel', 'Exporting order details magento', \"Bokeh's equivalent to matplotlib subplots\", 'TypeScript type checking on type rather than instance', 'componentdef error with ant', 'How to setup Quartz.NET for scheduling Emails', 'HTML <tr> on double click show new messagebox containing table format', 'Getting the name or ID of the User Name TextBox from an ASP.Net Login Control', 'Context Free Grammar for which a RegEx is impossible', \"How to remove entire substring from '<' to '>' in Java\", \"Red5 demos don't work\", 'How to change the background color of a non selected cell in JavaFx 8 table view', \"Android Bitmap setPixel doens't work correctly? (set value, then read a different value)\", 'Attach Database using Management studio points to the wrong file path for the log file', 'Growing memory usage in MATLAB', 'I have issue about the design view of windows phone 8 in blend&visual 2012', 'get Phone Number from Facebook', 'Error in SendGrid on Heroku cedar stack', 'Mac OSX PHP and XAMPP path issue', 'Sharing data between Elastic Beanstalk web and worker tiers', 'Reroute query string using friendlyUrl', 'Simultaneous events', 'Inserting a checkbox via jQuery stops the form to submit on webkit', 'Memory versus Speed in Javascript Web Applications', 'Missing \"libiconv.h\" when crosscompiling for Windows with mingw on Ubuntu', 'How to setup a JMX Notification Listener?', 'IllegalStateException: Cannot convert value of type to required type', 'HTML5 video background in Android showing black', 'CORONA: timer.cancel() returns \"Attempt to index a nil value\"', 'D3js code when called twice duplicates the graph instead of refreshing', 'What is the shortest way of converting any JavaScript value to a string?', 'how should I use the velX,velY information to get the displacement in X and Y between current frame and previous frame?', 'How to detect headset button double click in HTC phones with broadcast receiver?', '(Java) Check array for increasing elements', 'Toast notifications only pop up if the app is being activated', 'Add totals from rows that are otherwise identical', 'Auto select item on JavaFX ComboBox after KeyPress', 'Why is Ebean not loading field project from ZenTasks example application?', 'Compile error on serializing boost::unordered_set', 'C++ A method that returns the decimal value as an integer of a binary that is represented with a boolean array', 'Using SetThreadAffinityMask function imported from kernel32.dll in C # code', 'Change tab names in app', 'apache rewrite: force https and name of server, not IP', 'Is it possible to generate a global list of marked strings at compile time/runtime?', 'PHP Content-Length header not working', 'How do I tell if the ObjectDataSource OnSelected event was called for the selectmethod or selectcountmethod?', 'set background image in Jlabel (Label) box with dynamic text', 'Errors with json_decode, array and foreach', \"Action Script 3. Timer starts count when I'm in menu, but game not started\", \"How to download a file with it's name using curl (C++ or D)\", 'query error on search result of a xml file', 'What do they mean when they say LINQ is composable?', 'How to render a Javascript and CSS for desktop devices only with client side solution?', 'SqlAlchemy Oracle DataTime format', 'Keyword sorting algorithm', 'Writing to textbox in another process in Win32 (c++)', 'How to access spring jpa references in json', 'passing variables to sed command', 'How to send a data from arduino uno to a webpage through esp8266 wifi module?', 'enums inside a struct - C vs C++', 'Binary Tree type constructor in Haskell', 'How to add an error to a constraint in form?', 'Java - Take text from file and assign matching parameter text to matching object', 'negative integer/float decimal number to signed hex and octal in standard C code', 'Programmatically append Swagger operations to generated JSON', 'HTTP Error 500.19 - Internal Server Error', 'Can we return any class object to Interceptor from action class', 'Cannot find existing package', 'Displaying an ArrayList with and without sorting?', 'Foreach group and subgroup dynamic loop', 'Display Images from internet in a windows phone 7 app?', 'Garbage collection with a very large dictionary', 'PHP - Simplest Way to Post & Display', 'NSCoding crash on encode only on 64bit devices', 'highchart mysql jason with dropdown select value for where condition', 'WPF Data binding C# in xaml', 'Making a content div fill the space between a variable height header and fixed height footer', 'What are some viable alternatives to BizTalk Server?', 'Bluebird Promise.any() early reject?', 'How to make non-blocking raw_input when using eventlet.monkey_patch() and why it block everything, even when executed on another thread?', 'How Can I Make These Links Rotate in PHP?', \"I18n and Passwords that aren't US-ASCII, Latin1, or Win1252\", 'How to add a peridic timer callback in a linux kernel module', \"Hide all div's except one\", 'How can I calculate pi using Bash command', 'Gson with dynamic objects', 'Convert iOS project to 64 bit using ConvertCocoa64 script', 'Material 2 - autocomplete not showing options', 'Laravel Valet not working. 127.0.0.1 Connection Refused', 'How to check column is virtual in Oracle?', 'Search functionality result should be in the same page in Rails', 'Importing values from one window to another in MATLAB GUI', 'how to read sql server mdf header for log file information programmatically in c#', 'Display progress while restoring database in linqpad with reative extensions', 'How to invoke a remote REST service in NiFi', 'Using Ajax to render partial view, taking an object as parameter', 'PHP fread() Function Returning Extra Characters at the Front on UTF-8 Text Files', 'How can I call a webservice from C# with HTTP POST', 'Why is there a visible gap between adjacent DIVs on iOS Safari?', 'Doxygen and Objective-C categories', 'How to send personal message to my Facebook friends in iOS SDK', 'Slicing NumPy array with dictionary', 'Should a class constructor return a subclass?', 'How can I programmatically set column filters?', 'Stackoverflow exception in JSON.net', 'Xcopy to multiple folder into subdirectory', 'Retrieving the length of a list in MongoDB', 'Android Database Access Design Approach', 'parse XML Subfolders in to iphone', 'Is 1 Session Token enough for multiple Ajax Request?', 'LNK2005: \" already defined error', 'Get element width in px', 'StreamWriter 64512 character limitation', 'Fixed Header & Footer not working in JqueryMobile', 'call a function when the program is finished with ctrl c', \"when implementing a binary search in Java, is using ArrayList.sublist considered 'in place'?\", 'Google+ Domains API 404 Not Found error', 'File name matching with -e and regular expressions in perl', 'Issue setting up Android SDK - Failed to Start Emulator', 'How to read Logback configuration file from path outside the war file?', 'Display multiple tables in datagrid', 'Mocha + React: navigator is not defined', 'matlab: eigs appears to give out inconsistent results', 'Passing lxml output to BeautifulSoup', 'Pass an array of objects with function to directives', 'Cocoapods Completely Broke', 'Reading/editing IndexedDB data for IE11', 'css ie6 sprities image not showing using inline-block', 'why is 5 the default number of connections in the rails database connection pool?', 'How can I make my elements fade in and out as their display attributes are changed in Javascript?', 'Jaggies text when fillText in canvas in chrome', 'Window_Load event in MVVM', 'Use calc() in transform:rotate()', 'Speed of many regular expressions in python', 'Notification placement on website with notify.js', 'image size limit on iPad?', 'How to remove whitespace in a list', 'Generate a dynamic ul li List from DB', 'Shopping cart program', 'Error Importing Jar to Android Project', 'Convert Varied Text Fields of Duration to Seconds in Pandas', 'How to POST empty <select .. multiple> HTML elements if empty?', 'How does Erlang heart work?', 'Fix spurious rspec \"photo can\\'t be blank\" failures for Carrierwave', 'how have different background images for different times in the day', 'Creating a loading Arc in C# (WPF)', 'some clang-generated assembly not working in real mode (.COM, tiny memory model)', 'Handle tunneled custom routed event', 'Android app Listview cannot be scrolled to bottom to search a specific element using appium in java', 'How to use boto.manage.cmdshell with ssh-agent?', 'How to create URL Link outside UI Project?', 'Proximity searching phrases with root expanders in Solr or ElasticSearch (especially websolr or bonsai.io)?', 'What is localStorage?', 'The easiest way to replace white spaces with (underscores) _ in bash', 'Not Able To Add A New User To An Existing Account Using Management API', 'In Emacs, how do I display a message in the minibuffer with font face properties?', 'codeigniter validation should work only when array of email id is not empty', 'Why does Phalcon 2 raise \"undefined symbol: php_pdo_get_dbh_ce in Unknown on line 0\" warning?', \"How to solve undefined method `to_key' for #<Book::ActiveRecord_Relation:0x007fb709a6a8c0>?\", \"TypeScript 0.9.* VisualStudio TS5037: Cannot compile external modules unless the '--module' flag is provided\", 'Cannot get my bootstrap rows on the same line', 'RInside on Mac OS X', 'Communication between two modules in AngularJs', 'iframe scrolling on the iphone', 'TURN Server use https connection for the admin session', 'IOUtils.copy fails 2nd time', 'print copyright symbol in TextView', \"How does codeigniter's load work?\", 'How to create Windows Phone 7 SMS textbox', 'Mock GPS location and Chrome for Android', 'What was Tim Sweeney thinking? (How does this C++ parser work?)', 'Init a class with one argument using objc_msgSend', 'SQL Server Management Studio Schema View', 'C++11 for windows XP SP1', 'Invalid Cast DateTime?', 'How to implement clock frequency multiplier using VHDL', 'Send an email from an iPhone app containing an img tag', 'Regex which ignores comments', 'How to implement AVAudioPlayer Inside Singleton Method?', 'How do I get rid of the gap left by an relative positioned div in Firefox?', 'What is a good method of persisting application properties?', 'Simple way to hook registry access for specific process', 'ember.js show default nested route if none provided', 'Using transform() and calc() in firefox', 'twisted passing certificate to ssl handler', 'Processing items in SQS queue with a php script', 'Dirty Reads in SQL Server AlwaysOn', 'Looping through generic object properties', 'Why is Cocoapods complaining about the embedded content contains swift setting in the build settings?', 'Using PHP & cron how can i inform  a user that he has got 15 days more left to pay his amount?', 'MVC 5: Should I inherit my User from IdentityUser class?', 'Preserve the tab spacing and white spaces in attributes of XML', 'Is it possible to refresh a timer in a Today Widget?', 'Jenkins copy files between 2 Server', 'app is crashing when i try to release nsmutablestring please help on this', 'Custom UIView iboutlet not set', 'How can I achieve float left at bottom and float right at top with css flexbox?', 'shell_exec() returning null on \"ls\"', 'How to do an XOR of the binary forms of all integer items in a list', 'Passing Form OpenArgs errors as NULL?', 'Getting quoted string using ContentValues for insertOrThrow', \"is there an 'afterShow' on jQuery UI datepicker?\", 'cell computation for tablesorter', 'accumulation curve in R', 'php script running on apache', 'NSString to NSData Failing in Encoding', 'How to match a crash\\'s \"Fault offset\" to the source code?', 'How to get the total number of subscribers from start date to current date?', 'sbt unresolved dependency for spark-cassandra-connector 2.0.2', 'how to remove the save button in odoo 10?', 'Explicit instantiation of a templated class and dynamic_cast in a shared library', 'Restrict keypress in wpf textbox', 'Rails - how to send some information from one form to other controller', 'Using Filemerge how to you get to see the lower pane. The one with the results in?', 'web.go install error', 'How to update the different XML element simultaneously by multiple users in single XML file?', 'Bootstrap Carousel does not work', 'Formatting textfield based on currency style', 'TCL : what is the major drawbacks of source command over package command', 'How to Declare Complex Nested C# Type for Web Service', 'JmsTemplate - define concurrency per queue?', 'Debug+Unplug vs RUN Android', 'Get configured wifis with ADB', 'Errno::EPERM (Operation not permitted FILE_PATH) when uploading image with Rails, Carrierwave, Amazon EC2', 'how to change xcode app icon?', 'adding multiple columns to a data.table, where column names are held in a vector', 'Find the date difference in ElasticSearch', 'Yii2 has many or where', 'Compare array values with others values from the same array', \"Create appointment via Exchange Web Services, set extended property only on organizer's instance\", 'Bokeh - how to update ColumnDataSource to plot streaming line graph using periodic callback', 'how to get selected rows in QTableView', 'Delphi-XE4 understanding threads count', 'Visual Studio Report Designer: Embed font', 'Facebook like button statistics', 'SQL - One record per date', 'Passing Parameters between xaml window and usercontrol WPF', \"Password field <p:password> Value Won't Re-Appear In Form After Saved And Selecting That Row From Data Table\", 'Extjs:Assign value to hiiden field from store', 'Workaround for external API which does not have CORS enabled?', 'How to edit epub file content with PHP', 'How do you handle an aggregate root with a collection of child entities whose update frequency is different than the root?', 'Change Select value using GWT Uniform.js', 'Redirect to action passes null instead of object', 'Convert Begin and End Coordinates into Spatial Lines in R', 'Using the Windows.Media.Speechrecognition namespace in a Qt C++ application', 'Table View Cells \"jump\" when going back from View Controller to Table View Controller', 'Positioning Toolbars in Eclipse/RCP', 'Redirect simple url to https in php codeigniter', 'Chrome Extension with Database API interface', 'Testing a web based application on Iphone', 'RSA encryption AND decryption with JS AND PHP', 'Sort Options in a Select List with javascript/jQuery.. but not alphabetically', 'Output tabular data with IO.ANSI', 'Binding Attached Behaviour from code', 'Set zebra list after javascript filtering', 'Externalizing JPA Mappings Configuration', 'MemoryStream Seek, Needed After Instance Creation With Buffer?', 'Building QGIS source code on Windows 7 - Not working', 'How to add/remove many-to-many relation with entity framework by entity key?', 'Choosing cloud storage service with web API can FTP third party server', 'How to pass text with new line as parameter to a bat file?', 'How can I populate an associative array with a variable name in bash?', 'Using map in Python', 'unable to apply three.js texture to JSON model imported from blender', 'XPS Viewer will not open document created using .NET printer Graphics object?', 'Comparing value to that of previous row depending on different field', 'Anomaly in GNU Prolog `delete/3` predicate?', 'Zend Php ORA-02391', 'Stream a PDF to a web page failing', 'Counting the frequencies of bases using for loop and substr in perl', 'Angular slotted transclusion with attributes', 'Kerberos/SPNEGO : multiple SPNs for the same AD account', 'React es7 static childContextTypes unexpected token', 'Simultaneous HttpClient request using multiple AsyncTasks', 'PHP extension install - phpize error - on NGINX/PHP-FPM', 'Redirect only WordPress homepage with a 301 redirect', 'Convert unicode to string', 'Disabling specific cell edit in DataGrid', 'Python and Regular Expression Substring', 'Workflow for Using Django South with Multiple Code Branches', 'How to dynamically generate CSS file from database in ASP.NET MVC', 'CLLocationCoordinate2D without knowing how many will be in the array?', 'Castle Windsor: How to register by convention with delegate method?', 'How to apply segment using Google Analytics .NET client', 'Is there a way to redirect the browser from the bootstrap in Zend Framework?', \"GWT RPC can't instatiate class on server side\", 'Load website in iframe dialog, jquery', 'How to execute code when textField content changes?', 'Recursion in C confusion', 'Find Leaflet map object after initialisation', 'WM_GETREDRAW available?', 'Javascript: Round Time UP nearest 5 minutes', 'Fatal Error Msg', 'New line character in VB.Net?', 'Finding all indices for certain input', 'Call function on jQuery show()', 'Hex sum algorithm', 'Run PHP using AJAX in Laravel', 'Eclipse hangs when trying to debug clojure project', 'MVC2 how is <%: tag different to <%=', 'What is the default PHP configuration?', 'How to copy entire directory structure?', 'Laravel Error on Repopulating: htmlentities() expects parameter 1 to be string, array given in', \"Threaded Beans doesn't get Environment @Autowired to them in Spring when using JSR330 Provider\", 'Sorting and Limiting data in MySQL', \"Same versions of Office.js hosted on 'beta' and '/1/'?\", 'SAX2 (Xerces-C): How to get the line number of parsed tags?', 'LVM_GETITEMPOSITION', 'regex match string replace in new string (notepad )', 'Android ImageView drag and drop positioning', 'Where I can find a place id on google maps', 'categories is undefined - rails', 'backbone: better way to template?', \"Where's my stderr going?\", 'Java Spring - Redirect page to \"outage\" based on db cell value.', 'Is there a way to open the Duplicate Detection window in CRM using javascript and without saving the record?', 'Energy efficiency on CPU utilization', 'Using same hibernate mapping files across multiple projects', 'Linq to XML query not picking up any values', 'pyqt: controlling a border widget', 'I am searching for the PowerBuider Foundation Classes User Guide. Preferably PDF to download', 'CodeIgniter - get error messages', 'How to read logback configuration file from system environment in tomcat 7', \"jQuery Ajax file upload : Required MultipartFile parameter 'file' is not present\", 'read xml from jsp', 'Adding objects to an array and then showing in a table', 'How do you write an exception without revealing sensitive information?', 'Wordcount example using Apache pig', 'How to know the which activity is ruuning in windows phone 7?', 'how to get log messages from ios app', 'Formula to divide data from one cell equally into multiple cells', 'Multiply two int arrays', 'Connection string error using membership provider from WCF service', 'Java : How to access UNC location', 'Permission denied to access property \"invoke\"', 'MvvmCross services from another assembly, not MyApp.Core', 'Why we should always return values from a function?', 'Updating iTunesArtwork and screenshots for published app', 'How to pass a Javascript variable to Twig in this particular example', 'Zebra-striping nested lists with CSS', 'AngularJS - Create a login page with a totally different layout', 'How to drop rows by name pattern in R?', 'Summarizing rows in a Pandas DataFrame', 'Equivalent of Hibernate SEQUENCE in Sybase ASE 15.5', 'recreating iOS SMS/Facebook Messenger text bubble tail', 'Border Image Confusion', 'How to build a numpy array row by row in a for loop?', 'WPF validation not working as expected', 'Change Tab view after certain time interval received as response from Server request', \"Can all 'for' loops be replaced with a LINQ statement?\", 'Seconds into time elapsed in JS', \"can't override class file in module in prestashop\", 'MOMC error in xCode 6.2 beta', 'Using a fragment as a ListView header in only one orientation', 'How to use unapi for biliographic in drupal', 'WinForms Data Binding Entity Framework 6', 'String masking: Confoming text to a given mask', \"Removing rows which contain all 0's in r\", 'how to add 2 background images on the sides of the page', 'Beginning and end of the string in Emacs regexps', 'multiple gremlin commands combined as one', 'SQL join, sum, group-by and instead of null 0', 'How to check cursor is on newline or not in ckeditor 4.x', 'Filter array result with mechanize', 'How to remove � character while parsing xml file in android', 'LINQ to Json data retrieval from polymorphic json', 'Running native code on Azure', 'Bootstrap3 Navbar fill content', 'Does SQL Server Compact (CE) support a RequiresNew transaction scope inside another one?', 'How to redirect a URL containing smartquotes via .htaccess?', 'Accordion open when page loads', 'Zurb foundation more than one joyride', 'Is there something like $this->db->matched_rows() in CodeIgniter?', 'C# LinqToSql SubmitChanges() does not update, even though PK is set', 'How to completely remove vitualenv?', 'Java rotate an image in the center', 'why do `#!/usr/bin/env var=val command` gets into an infinite loop', 'OpenTBS - Strategy for dynamic number of row, column generation in excel template (used for chart data)', 'Error installing Frama-C with opam (Ubuntu 14.04 LTS)', 'How to configure jacoco for integration tests written in jersey test framework', 'Video chat application : Which technology to choose?', 'A strange error in java generic', 'Pandas Split Column', 'How to add dynamically created tables to SQLFORM in web2py', 'A separate thread freezes while sending HTTP sequests', 'converting javascript array to a dropdown - jquery', 'Spring jpa modifies column names', 'Country, state list for SQL Server', 'server side control in MVC', 'java not saving ints correctly', 'Size of menu dependent on screen resolution', 'Add PHP API documentation to vims balloonexpr', 'How best to access current_user devise helper in backbone', 'how do I generate histogram output from an array in Java?', 'Modify dynamically a rdlc report (c#)', 'Delphi XE4 64bit _TExitDllException', 'java.lang.IllegalArgumentException: Failed to find configured root that contains /storage/emulated/0/Pictures/', 'how to use CSPARQL-ReadyToGoPack-0.9 in a SBT project', 'ClassNotFound exception during deploy', 'Dictionary Help! Extracting values and making a table', 'Permission to provision new site collection through workflow', 'How to Retrive Apple App Store Rating Details', 'converting UTF-8 string to ASCII in pure LUA', 'Retrieve rails/devise current_user from Backbone', 'How to create dynamic dependent list in Excel VBA?', 'Mysqli query return empty results', 'Finding the shortest path between 2 points namely S and G?', 'Input to print output', 'NHibernate - Paging with ICriteria and optional ICriteria calls', 'Oracle adding trailing whitespace to my to_char(date)', 'variable passing -v in awk not working', 'Routes in DART, s server required?', 'Why does the Server need access to Kerberos?', 'JQuery > ScrollTo > highlighting the item that was scrolled to', 'How to get the package name from JNI to Android?', 'How to use or condition in serverspec?', '7-Segment display control using Microprocessor', 'Newly installed IIS. Aspx page not getting displayed', 'Finding string length without using strlen and using function in C', 'force LinqToSql to submit', 'makedepend missing?', 'Array implementation on FPGA using VHDL', 'Would you implement a lightweight XML parser with <regex>?', 'Differentiating division from regex when lexing gawk code', 'Mssql query exec returns error', 'C# ASP.NET SQL Data Source', 'Webpage Fitting To Every Screen Reslution', 'Find the path of a local file or directory in javascript', 'What is the recommended way to append to files on HDFS?', 'UML modelling tool for php', 'Jacoco.exec file not being picked up by Sonar in Jenkins', 'WPF : Is it impossible to UI load in background thread?', \"CodeIgniter doesn't see images (using file_exists)\", 'SQL Server real/float precision changing during SSIS import to MS-Access database', 'How can I easily maintain a cross-file JavaScript Library Development Environment', 'Passing arguments to execfile in python 2.7', 'Runtime error of Console()', 'Is android.view.View touched now?', 'Play MP3/WAV files without using libraries?', '@ManyToMany relation not save', 'How to have margin on extended page tablix with SSRS', 'Can we export multiple non-AMD functions from a module in requirejs?', 'Distribution of decreasing quantity over X number of days', 'Assistance with Nested Dictionary', '-[UIScrollView zoomToRect:animated:] weird behavior when contentSize < bounds.size', 'Appointment.Bind() and Mailbox', 'I want to pull out the number of special characters and the number of vowels in each sentence using a matlab command', 'Setting background color of android actionbar', 'Add an arrow under the active menu item in HTML+CSS', 'Delphi - XE2 code to Delphi7 needed. Using wininet to download a file', 'Carriage Return showing in notepad++ but not textpad?', 'Django SSL for some pages only', \"D3 - Uncaught TypeError: Cannot read property 'length' of undefined\", 'How to check for network reachability on iOS in a non-blocking manner?', 'How do you best convert a recursive function to an iterative one?', 'JQuery use .on() with not selector', 'How to run an application in background for windows mobile 6?', 'Swing GUI Development with Spring', 'Access Get parameter with a scriptlet', 'Exporting HBase table to mysql', 'R extension breaks connection to extensions directory in NetLogo', 'Google App Engine Deployment Failed, \"empty index configuration\"', 'CRON - chown and chgrp to a directory from root user to www-data', 'EaselJS object inspector', 'Applying jQuery Resizable on a dynamically generated html data table', 'Running magento on other port than default 80', 'Liferay: what is the default approach for logging in Liferay?', \"UICollectionVIew : How can i remove the space on top first cell's row\", 'Sort a Delphi dataset', 'Polygon object support in Backand with an external MySQL', 'Multiple JavaFX stages in fullscreen mode', 'matching form input to mysql database value', 'Firemonkey IFMXLoggingService Windows Event Log Location', 'tpl dataflow: fixed buffer size without throwing items away', 'bash- Redirection inside quotes after ssh', 'Fetch 5 Columns and their value from Mysql query and translate into PHP', 'IndexedDB - Dexie JS : Dynamically create stores', 'How to use PackageManager to check if an app is disabled in a method', 'How to show notification on top of screen?', 'Sqlalchemy: Undefined variable from import: metadata', 'ansible: use different logging level for terminal and log file', \"How do I refresh page automatically when partial refresh doesn't work?\", \"TFS - What security would allow me to 'Add files' in one project and not the other?\", 'PHP rest API authentication', 'Displaying or editing data readed from floppy', 'What does the slash denote in postgresql virtual transaction identifiers?', 'Is it possible to create a bubble polar chart with Highcharts?', 'Mako Filter in Chameleon?', 'how to do select all when selected a checkbox', 'ExtJS floating window focus lose detection', 'How to hide the paging row in the gridview when exporting in excel?', 'Error \"No recognizer is installed\" with recognition speech', 'embed json file within d3.js', 'is there any way to create a menu bar using glut?', 'How does waze change objects location with their localization?', 'how to call cross-domain web api using ajax?', 'Printing Entire Contents of WebView in Cocoa, Not Just Displayed', 'JSON arrays with duplicate items with Hamcrest and RestAssured', 'How can I return an array of Promises from a then clause', \"Can't get run my application after installation?\", 'How do websites like torrentz.eu collect their content?', 'how to include google-map in polymer#^2.0 as it was working in polymer 1.7', 'How to change the reference point of an html element?', 'Core data executeFetchRequest consumes huge amounts of memory', 'Daylight Saving Cause an issue on jQuery UI datepicker on Firefox', \"Why can't this macro execute?\", 'How to get linkedin profile follower count', 'How to call protected constructor in c#?', 'Excel VBA / SQL Union', 'Go, Golang : array type inside struct, missing type composite literal', 'Unable to install bower on Openshift', 'Combining jQuery .val() and .contains()', 'CNG, CryptoServiceProvider and Managed implementations of HashAlgorithm', 'NSString writeToFile with URL encoded string', 'Django: Access pre-save object with post-save signal?', 'Custom Merge Function in R', 'Assignment makes pointer without a cast', 'Weird Behaviors of time in Rails application', 'Python-mock: how to test if super() was called', 'setGraphic() not working correctly on recursively created TreeItems', 'Strange behaviour of sscanf with string', 'HTTP method for a WCF Restful Service', 'SubSonic .Filter() in memory filter', 'Does ASP.NET MVC use the regular toolbox controls?', 'How can I render a GSP as a String?', 'publishing ASP.Net MVC 4 Project', 'how to hyperlink to a TFS item from visual studio', 'mutex attribute PTHREAD_PROCESS_SHARED inverts logic?', 'Unable to call SOAP Webservice using jQuery']\n",
      "['jQuery: Show a div2 when mousenter over div1 is over', 'when hover on div1 depenting on if it is on div2 or not it should act differently', 'How to run selenium in google app engine/cloud?', 'Python Comparing two lists of strings for similarities', 'Hazelcast creates 3 nodes/members when configured as Hibernate L2 cache', 'JSON-LD framing single object arrays', 'Is there a way to print to the console in an Android app?', 'Run server-side code on html button press in Express?', 'Sorting an array by alphabetical order before it is selected by UIPickerView', 'Node - Prevent child process from going in to parent directory', 'No Empty Trash scheduled task in Sonatype Nexus OSS 3', 'Delphi XE7 - FMX Android - Entitlement List missing from Project Options', 'Codeigniter HMVC: Second child module not working', 'java Scanner declaring', 'SAS procedures Delete and Datasets', 'Showing Distinct Values with Aggregates', 'Creating a new Event with Objects', 'How to pass parameters via dsp:iframe to the iframe', 'isa is deprecation issue', 'Check if document exists in mongodb using es7 async/await', 'How to load dynamic contents to slider drawer in android?', 'Can you help me understand pointers and addresses?', 'How to return different strings from a Boolean type in MySQL?', 'Rails bug: accepts_nested_attributes_for is not updating my has_many association', 'Automatically Logout of Application when in Background?', '(ETW) EventSource in a common component', 'Understanding Chef::Config.http_proxy', 'Comparing byte[] in LINQ-to-SQL and in a unit test that uses mocking', 'Are HTTP accept extensions exclusive?', 'Breeze connection to Entity Framwork(DB first)', \"What's the safest way to launch an untrusted URL?\", 'MySQL column name standards / conventions', 'Openshift new-app from local Docker image', 'issue with fading in and out in jQuery', 'Java ProcessBuilder Cannot Find File Specified', 'AWK: Recursive Descent CSV Parser', 'Bar chart not displayed with chart.js. can some one help? code pasted below', 'Setting panel attributes dynamically in Sencha Touch 2', 'Add object on a tableViewController', 'PHP closes program when using AJAX', 'socket.error: [Errno 10054]', 'set a specific umask for only one user including ssh (and sshfs/sftp access)', 'Using Kentor.AuthServices.StubIdp as production IDP', \"'Property does not exist on type 'never'\", 'log in yii2 account using Alamofire', 'ruby on rails getting a 2-way friend relationship in active record?', 'Python and Regular Expression Substring', 'How to use checkstyle:check in a multi module project', 'IE 8 Canvas using excanvas polyfill: no errors, but animation is not running on IE 8', 'VB Script - Find Most recent folder, copy files to destination folder', 'Improve TSQL Stored Procedure for pairwise execution of procedure', 'Can you save a file on the local drive through RemoteApp instead of saving to server drives?', 'Add two times the same class on one element', 'Current way to download large files in rails', 'How can I download the examples from twitter bootstrap website', 'Java Web Services: Getting HTTP 400 with generated client code in simple app', 'scanForPeripheralsWithServices:options: unable to connect when specifying services', 'presenting modal views in a popover', \"Glimpse.EF.AlternateType.GlimpseDbProviderServices' not found\", \"Thread.Sleep(0) doesn't work as described?\", 'How to add text to textarea by pressing the enter key in javascript', 'Is there a way to retrieve the SQL results without using iterator? (using hibernate)', 'Is it safe to send sensitive data via Intent or Fragment.setArguments()?', 'Hadamard matrix code', 'EditText View returns null', 'Loading JNI Dll', 'Xcode 6/iOS 8 - Where is the .app file', \"My Ajax call isn't working - Trying to populate jstree via ajax php & mysql JSON\", 'how can I run play framework with port=9001 under windows cmd not under play console?', 'git add of unstaged file succeeds, but file is not staged', 'LINQ query to find Date difference?', 'How do I reduce the padding around text in Android xml layout?', 'How Can Users Select Days of the Week?', \"Skipping precaching: Cannot read property 'concat' of null`\", 'Karatsuba algorithm - Error in my implementation', 'Deleting entities non-destructively in Symfony2', 'When run \"sonar-runer\" throw exception :\"Caused by: Unknown database status: FRESH_INSTALL\"', 'Why the variable is out of scope?', 'Plot in matlab, using Latex interpreter', 'How to Rename SWIG Generated Proxy Java classes created from C enum types', 'How to get the default HIVE_HOME in cloudera quickstartVM -5.7.0?', 'Is there any way to programmatically add a startup script to the local group policy?', 'UISegmentedButton setting tint color using pattern', 'div width height according text?', 'SQL Server - I need to see correct date/time and not a number', 'Java -version shows 1.3 when I updated the classpath to c:\\\\java\\\\jdk1.6.0_20\\\\bin', 'xhttp GET request to an express.js server - nothing returned', 'positioning the cell in pdf using fpdf', 'Using RestSharp in Windows Phone 7', 'Dynamically select the columns to be used in a SELECT statement', 'Application Data Folder and Company Name With Underscores', 'Get Disk Number From Current Location', 'Finding matching string from javascript array', 'Unable to start activity ComponentInfo{...}: java.lang.NullPointerException', \"Trouble Using Apache's HttpClient with HTTPS in Web Containers\", 'Need to convert multiple Fusion Chart to image from code behind', 'What does \"0 skipped, 0 blacklisted\" mean in the Qt Unit Test framework?', 'No plot window shows up with matplotlib.pyplot run with Enthought Canopy python editor on MacOSX 10.8.5', 'buttons are not displayed', 'Linq query generator tools', 'Strict Standards: Non-static method Error in Joomla', 'Heroku ssl:endpoint with GlobalSign ExtendedSSL', 'Can I override a color on an DrawingBrush image loaded from a resource?', 'trying to get rid of a persistent log warning debugging on Huawei Ascend P6', 'Accessing Matrix Array Value in Json_encoded Array', \"Bind Control's Property to Variable, Bind Variable to Another Control\", 'To which C# data type does MS Access \"Number\" type correspond?', 'Generating dynamic html through plsql', 'Angular POST request to AWS Elastic Beanstalk returning \"Response for preflight has invalid HTTP status code 401\"', 'Create OCMOD xml', 'Assigning attributes to a join table in rails', 'Order by enum description', 'Android SDK installation (adt-bundle-windows-x86_64-20131030)', 'Import a CSV file into Access database from SharePoint Online Document Library', 'Excel Macro VBA- How to save as xlsm with a filename based on date and cell value', 'GKLocalPlayer runtime error for iOS 8.4 with Xcode 7 Beta 4', 'ClipboardInterop content changed fires twice', \"Error deploying WCF Client - 'system.servicemodel was not found in SQL Catalog'\", 'Generate a large random planar graph', 'Execute a sql statement when a connection is created', \"How to know if all the Thread Pool's thread are already done with its tasks?\", 'Synchronize between an MS Access (Jet / MADB) database and PostgreSQL DB, is this possible?', '\"This is test order, You will not be charged\" Error', 'Matlab error in ode45 or fourth-order Runge-Kutta method to solve a system of coupled ODEs', 'Multiple Command Binding', 'How can I display email formatted as \"FirstName LastName <FirstNameLastName@domain.com>\" in HTML?', 'How to encrypt data using KMS key in AWS Powershell script', 'How to set application identity of an application pool using web administration module in powershell?', 'Center aligned zoom in / out Image animation', 'CyVis 0.9 Ant task failing to generate html report', 'an error when choosing between two specific date in datagridview in VISUAL BASIC', 'How to upload second version of app on app store?', \"Active Directory Authentication Library (ADAL) won't install Visual Studio 2013 .NET v4\", 'WPF Memory Leak from Drag-Drop', 'How to create a table cell with a two-colour background?', 'React: How to animate the change of the component rendered?', 'Error Number 10170 in Verilog using If/Else and Case Statements', 'PHP Generate UL LI , UL LI', 'knapsack problem (classic)', 'Load More / Show Less issues using jquery', 'How to read utf16 text file to string in golang?', 'Microsoft Access Sub Form Write Conflict Troubles', 'Make changes to a git submodule and then add those into my main project', 'sscanf with pipes C', 'SQL pivot with dayValue [dealing with date in pivot-table] MYSQL-solution', 'Hide empty element on Bootstrap tab via jQuery', 'How to read a key pressed by the user and display it on the console?', 'Parsing a string into an table using oracle SQL', 'Applying array_agg / array_to_json to a query with modified columns', \"MongoDB.Driver.MongoCommandException: 'Command aggregate failed: '$group' is not supported.'\", 'give type to anonymous type in linq query', 'check if sorl-thumbnail has already cached an image', 'Powershell- convert CSV to XML', 'Magento and configurable product attributes', 'Programatically disable series on nvd3 Horizontal Multi-Bar Chart', 'dateutil parser without defaults', 'How to handle javax.faces.resource resource not found', 'How to compare 2 vectors and create a separate vector based on the comparison', \"Check for the google maps spelling of a location's name\", 'How to visualize only the descendants, ancestors, and self of a node in a hierarchy?', 'Bootstrap 3.1.0 modal remote content', 'How to pass Model Value through ActionLink', 'How to make cakePHP 2.x in sub directory appear in root (with mod_rewrite in htaccess)?', 'Twitter API: post on behalf of whom?', 'Function pack() returns 0', 'Drag/drop from ListBoxDragDropTarget to PanelDragDropTarget', 'Retrieve all content between a closing and opening html tag using Beautiful Soup', 'How to sort a vector containing const values', 'Lucene.NET in medium trust', 'Wrapping C++ functions with GNU linker', 'Wrong attribute of sequence parser', 'Cropping image based on background stripe colors with python', 'Simple 2 column layout', 'spring security 4 custom login page', 'Circumventing GPL Packaging of Non-Virally-Licensed Libraries for Debian or Ubuntu', 'How to open up an Ionic Modal upon click?', \"Alignin div's like pinterest\", 'how to access multipolygon coordinates in mysql', 'Delphi RTTI SetValue for Enumerations', 'Modifying Python code to use SSL for a REST call', 'How to edit page tab image? OAuthException: (#300)', 'Powerbuilder PFC : Where to start learning', 'Error Launching AptanaStudio3 in OS X El Capitan', 'Windows Azure Authentication Provider is not enabled', 'How to return correctly a NSMutableString from a method', 'Why is the lowest-ID row always returned when also returning a MAX value for a column?', 'How can I load optimized code in GHCI?', 'Ruby \"return unless nil\" idiom', 'html textarea injecting line breaks', 'R find value in multiple data frame columns', \"TypeError: can't multiply sequence by non-int of type 'float' : prblem with NumPy arrays\", 'Replace a word in text file with another word using macro', \"detecting a div's position based on it's attaribute\", 'System.ArgumentNullException in System.Threading.Monitor.Enter', 'Expose C++ buffer as Python 3 bytes', 'Advertised disk space vs actual disk space', 'Xcode: disable cocoa breakpoints', 'Which framework best to use for a cross-platform cross-devices platform with multiple apps', 'sending mail by android app using javamail api without user interaction', 'AngularJS - Render multiple strings and HTML files in a single tag', 'Add CSS to react created elements like data-reactroot', 'Does LINQ-to-SQL Support Composable Queries?', 'POSIX partial write()', 'Git extension does not work in Visual Studio 2017; Is it a known issue?', 'Cannot create new plotting window (device?) with par(new=T)', 'How to Add CAPTCHA ControlForm into page', \"Why the component react-native-typewriter doesn't work?\", 'Google Scripts Concatenating rather than adding', 'Passing quoted string arguments to a bash script', 'Query String generated by $.param() include square brackets for array', 'How to display hidden table rows with radio buttons using JQuery', \"Preventing CKEditor from adding 'data-cke-saved' and converting &lt\", 'knockout foreach binding not working when viewmodel used as a sub-view-model wizard style dialog', 'bootstrap textbox autocomplete', 'Visual Studio - migrating to new layout', 'Firebase authentication Iframe', 'Can I use Roslyn to accomplish this C# syntax transformation?', \"camera2's setVideoFramerate() doesn't have any effect\", 'How to mock methods with lambda as parameter', 'Add values to app.config and retrieve them', 'R extension breaks connection to extensions directory in NetLogo', 'UITableView and UILabel repeating', 'XOR neural network error stops decreasing during training', 'knit HTML does not save html in vignettes/', 'How to get a list of items when using cassandra', 'RXJS: Aggregated debounce', \"Rails + Emberjs: Can't verify CSRF token authenticity\", 'Thread.Sleep(0) is not working as expected', \"Any problems in using hibernate's session.connection() to run native sql\", 'Tkinter MessageBox Align', 'When to choose development of a PowerShell Module over PowerShell Script', 'XStream: How do I map xml mixed attributes and elements to POJOs?', 'Rails query interface where clause issue?', 'How to manage .NET Master Pages in Dreamweaver CS4?', 'Handle UnauthorizedAccessException When Directory.CreateDirectory() Run', 'WPF: How to make HeaderedContentControl.Content fit height?', 'Create a credential object in java SAML', 'Initializing a pthread mutex in shared memory', 'Generating TestNG reports', 'Hide dictionary path in autocomplete popup menu', 'AIR/Flash mobile/As3/ lowering resolution or upscaling for performance', 'How to run node app with sublime text', 'Django - How to add html attributes to forms on templates', 'How to test whether x is a member of a universal set?', 'PDO SQLite query zero result issue', 'Semantic UI form validation - validate certain form fields only if value is not empty', 'Use parentheses to disambiguate an expression like `liftM b ap c`', 'jQuery AJAX call, how to handle', 'onActivityResult return before pick up image', 'Adding third party vendor dependencies to mean.js', 'Fast Way to Use VIPS Image as a QImage', 'Doubly Linked List with different type of head', 'NoSQL Database for real-time, two-player Facebook Game', \"Threaded Beans doesn't get Environment @Autowired to them in Spring when using JSR330 Provider\", 'Does number of wildcard characters(specially %) matter in SQL Like Statement?', 'Ctrl+S (horizontal split) not working with Command-T in vim', 'homepage is different from any other page on website', 'Zoom toward mouse (eg. Google maps)', 'Fix progress report in this method that merge files', 'FFmpeg: How to control console output while reading from RTSP?', 'Can the PostMessage API be used to communicate with an Android WebView?', 'Redeploying Java EE applications immediately', 'Get host name without using HttpRequest', 'Generic parameter T could not be inferred. Factory methods', 'How to start new conversation in imessage using applescript', 'Error with svydesign using imputed data sets', 'How can I resolve a fatal SQL statement error?', 'Can we add custom keys in Tiff file or how to add temperature data in image properties of Tiff file', 'Eclipse PHP IDE - custom auto complete tags', 'How select json value in soapui property transfer from HTTP request?', 'In R, how to make dots transparent while using scale_size in ggplot2?', 'Tkinter pop-up window with check button, not able to get check button states', 'How to remove image and write text in a UIButton in Swift?', 'xCode4 Lua Syntax Highlight', 'Google Admin Directory API SDK User Last Logged In Not Fully Accurate', 'SELinux influences \"failed to open stream: Permission denied” PHP error', 'how to restart a git repository', 'PHP Max amount of inserts in one SQL query', \"Graph Facebook API giving cURL error when trying to post to a user's wall\", 'Spring Security HttpSecurity Configuration Testing', 'Dividing a CDialog in two areas with different backgrounds (picture of the objective inside)', 'To have AR support back after creating project with --skip-active-record option in rails 3', \"Counting 1's in an integer using mips assembly language (without any flow of control instructions)\", 'Aligning SCNText with SCNBox in iOS SceneKit with boundingBox?', 'How to hide the form assistant bar at the top of the keyboard?', 'Different behaviour with std::unordered_map container on Windows and Linux', 'Symfony 2.x shows broken layout with clean install', 'Facebook registration flow from Android', 'Apache Zeppelin AD users not binded to groups', 'embedded font flash.text.engine', \"GWT RPC can't instatiate class on server side\", \"Can't map route to action mvc3\", 'file download using RequestBuilder of gwt', 'what is the correct path to the iMovie Projects folder to use in an AppleScript', 'GlibC Double free or corruption (fclose)', 'Box API v2 uploading multiple files per single request is limited to 20', 'CSS3 Rotate on animated element causing click event not to invoke', 'JavaFx resize Window and preserve aspect ratio', 'Insert button is not inserting data into the Database and no errors are given at all', 'Position an UIImageView over another with scaling', '(window).load and (document).ready functions are conflicting', 'Django Paginated Comments .. is there any existing solutions?', 'Convert managed unsigned char* array into a jbyteArray', 'Get values on a row based on two or more rows in Excel', 'Java - How to apply a keyboard shortcut of 3 keys for a JButton?', 'In d3.js map, points are hidden behind other features', 'How do I hide certain rows in a ui-grid based on its values?', 'Seaborn countplot with normalized y axis per group', 'Matlab image display in specific old figures', 'How do I get the text set on a ListView item', 'protractor + cucumber - element not visible even though element is visible', 'How to get count in this query?', \"SetLabel doesn't work on a JPopupMenu\", 'iPhone Memory Leak from AudioToolbox when using MPMoviePlayerViewController iOS 4.2', \"Can't detect click function HighCharts plotLines & plotBands.events\", 'Print content of jquery dialog to a printer', 'position absolute.. anyway to stop this elements moving?', 'Accessing OS X keychain item from trusted application', 'UDP bind: Address already in use', 'Choosing and iterating specific sub-arrays in multidimensional arrays in Python', 'Image segmentation by background color - OpenCV Android', 'Which variable is minimized by scipy.optimize.minimize/How does it work?', 'How can I get rid of input border in chrome?', 'How do I associate a new rvm install with existing ruby versions?', 'Creating admin panel in Yii', 'Is File Watcher available in Windows Mobile', 'Rails 3 test fixtures with carrierwave?', 'How can I store and access a filehandle in a Perl class?', 'VBA to Paste format from original Workbook to new Workbook', 'Castle Windsor: How to register by convention with delegate method?', 'Angular2 authguards executing asynchronous functions fails', 'What is the best way to obtain the optimal number of topics for a LDA-Model using Gensim?', 'Does an Enum exist for Asc or Desc ordering in .NET?', 'Vue.js does not render correctly using template', 'nginx alias+location directive', 'how to fill each Column in datatable', 'MYSQL fetch 10 posts, each w/ vote count, sorted by vote count, limited by where clause on posts', 'iostream library not included in codeblocks', 'How do I use adb grant or adb revoke?', 'Handle enter key in EditText across different devices', 'Anomaly in GNU Prolog `delete/3` predicate?', 'Why does assigning a value to $? crash Powershell?', 'Apply formula to column through macro', 'How do I create a file with a user-supplied name in C++?', 'Visual Studio multi-project template different name for child project folder and csproj file', 'Unable to CREATE SQLite tables using JavaScript in for loop', 'How do I access Dictionary items?', 'Eclipse Kepler hangs when trying to debug Clojure project', 'AngularJS Access denied when loading partial in IE11', 'Update field inside fields_for with Cocoon and Jquery', 'Laravel valet not working', 'Haskell / GHC -- is there any infix tag / pragma for \"warn incomplete patterns\"', 'WPF- TimePicker is not updating', 'How to make a request', 'Mapping an array of objects to key/value pairs in CoffeeScript', 'Repository without Entity framework', 'nvd3: set background fill behind line chart', 'Apps and app updates submitted to the App Store must be built with Xcode 5.1.1 or later, and iOS 7 SDK', 'Where should I include apostrophe in regex?', 'django get_or_create not working as expected', 'Initializing multiset with custom comparison function in C++', 'Cannot create Ignite-project', 'Google Maps API v3.22 reverting to old controls', 'MFC Dll with COM Interface', 'Database connection error in Yii', 'Multiline Regex does not work with tabs', 'Javascript in a wordpress page', \"Raphael is adding a 'dy' attribute\", 'How to parse a string to add line feed and tab after a curly brace/square bracket in java', 'Increase resolution ggplot charts', 'IllegalStateException when migrating databases from SonarQube 5.3 to 5.6.2 (and 5.5)', 'jQuery UI Sortable + Draggable + Droppable on same elements', 'angular-ui: how to get data from \"resolve\" option when using $stateProvider.state', 'Objective-C - Overriding method in subclass', 'Automatically trimming CHAR data on insert into VARCHAR column', 'Form validation with AJAX, Jquery and PHP', 'By using a matcher function in Select2 plugin, no results found message is not appearing', 'If-else statement inside multi-line macro (C++)', 'find about about the type of function parameters', 'How to reduce Ipython parallel memory usage', 'Grails 2.1 SQL to Grails GORM Query', 'Change radius to MKCircle on MKMapView with UISlider', 'About string length, terminating NUL, etc', 'Sorting/Searching on a table is not working', 'code igniter :: send url as param?', 'Outlook GetGlobalAddressList.AddressEntries query takes 30+ minutes', 'Finding all numbers in a array with top frequency?', 'document.getElementById and Value', 'Can you use .getResource() to load a text file in an executable jar file?', 'Search for a packages by a particular author', \"Error while installing netCDF4 for Python, can't find HDF5\", \"Program (c#) Running Elevated, Still Can't Access Some Files\", 'Boost asio udp read optimization questions', 'Get abs path from the currently edited file in Eclipse', 'CKEDITOR, calling the FullScreen Action outside of the CKEDITOR', 'Autotools include path', 'Setting start levels & auto-start of Eclipse plug-ins: p2.inf vs product definition', 'Accessing all the methods and classes for VS Extension with Adornment', 'grails Find max value in table column', 'Iterative modulo by repeated subtraction?', 'Check the attribute of items in a directory in Objective-C', 'Separate Workspaces or Separate Workspace Mappings for different branches of code?', '@After ,@before not working in testcase', 'Detect if Cache Driver Supports Tags', 'how do strip column from grep in terminal', 'Runtime bugs due to case-sensitivity in (variable) names', 'How to save a dynamic dropdown list in MVC?', 'Not able to set permission in Android 7.0.0', 'PulseAudio recording and playback fails', 'rhive.connect() issue', 'geom_boxplot drawing error with precomputed values', \"No matter what I try the header won't change color\", 'PHP/Javascript passing message to another page', '.NET Terminating Threads in an orderly fashion', 'Why do I get javax.net.ssl.SSLPeerUnverifiedException: peer not authenticated only in production?', \"How do I access the root element of an MXML document if I can't set an id?\", 'When should overflow:hidden be used for a <div>?', 'Android / Huawei: java.io.FileNotFoundException: /data/cust/xml/hw_launcher_load_icon.xml: open failed: ENOENT (No such file or directory)', 'How do I fast foward branches without switching to them?', 'Qunit asyncTest that triggers an event passes when run alone but not when run after another test', 'Class filter_parameters method on controllers getting Hash instead of HashWithIndifferentAccess', \"What's the difference when putting header inside pch file?\", \"sound/soc/codec i2c driver won't probe\", 'how can i check if a compressed file(of all formats- zip/rar/tar/uue) is password protected, without extracting it in c#?', 'How to use awk to delete rows from one csv, some values in a column of which matche the other csv column?', 'Swagger validation issue - Not a valid parameter definition -', 'How can I get access to object of `QQmlApplicationEngine` inside a `QQuickItem` derived class?', 'C # Winform : Sending data from sql to web service', 'Devise allow access to protected url with link', 'URLLoader Event.Complete Not Triggering', 'How to import Google contacts in ASP.NET MVC (no third party please)', 'jQuery + Rails + ajaxForm + js.erb problem', 'Building iOS app, website, and backend', 'Is there an alternative to indexOf for jQuery?', 'Mocha + React: navigator is not defined', 'How do you prepend space in a string where Upper Case letter comes or where a space really needed', 'PivotViewer unable to display collection - only shows link to cxml file', 'How does Entity Framework handle interfaces?', 'List view item having multiple buttons', 'How list methods works in java', 'Can I get NHibernate to enforce that a string property is non-empty?', 'Can someone provide an example for the ImageCompare methods?', 'Two issues with WS_EX_NOACTIVATE and WinForms', 'xpages copy field value to another field from other datasource', 'Incorrect syntax near comma', 'How to integrate big data files into QT Project (Error: cc1plus.exe out of memory allocating xxx Bytes)?', 'How to ADD all files/directories except a hidden directory like .git in Dockerfile', 'Error (10170): Verilog HDL syntax error at TrafficLight.v(59) near text \"endcase\"; expecting \"end\"', 'Can we make these two loop combined means to run them parallel?', \"Ruby: 'bundle exec' throws error for all shell commands\", 'Webfont and width of the text issue inside jQuery plugin', 'Jenkins copy directories/files in a build', 'GSON deserialization : how to know the objects?', 'How to run an application in background for windows mobile 6?', 'too many characters in character literal in asp.net c#', 'Showing Interactions with @MockBean Annotated Mock', 'Using jQuery to perform a smooth scroll of a page using named anchors?', 'UrlEncode of link ids with ASP.NET MVC HtmlHelper extension methods', 'Is possible to read independently every stdout flushed string form a Child Process in node.js', 'how to load .scss files on demand via webpack', 'batch to copy third line of multiple text files into a new text file and append original filenames to each line', '<svg> element match child width and height', 'Using angular 1 module in angular 2 app', \"Can't get facebook checkins, data array always empty\", 'Memory issues with two dimensional array', 'Repository pattern design for multiple DbSets', 'what is the informix connection string to run a sql file through windows command prompt?', 'List of available cultures', 'how to count row1 from table1/count row1 from table2 returned result is group by day', 'Getting different data in ajax response froms second time', 'UITableViewCell returns null using objectForKey', 'Do i need a running website over internet in order to access Google analytics Data using Google API', 'vbscript - Replace all spaces', 'How to make git repo remember all remotes?', 'R distance matrix and clustering for mixed and large dataset?', 'Is it possible to setup a php app in one server and apache in another server?', 'Xamarin iOS app SIGSEGV', 'Porting a standalone JMS application to a web/app server', 'C++/CLI: Cannot explicitly implement interface member with different return type', 'Replacing directory with external results in \"working copy locked\" on `update`', 'Mapping predicates and propositions in DLV/Prolog', 'Android: Forcing UI refresh immediately', 'How to checkbox id to the modal box?', 'Unable to run logstash config file (permission denied)', 'Android REST API using PATCH method', 'Powershell - Creating Wide Tables', 'jQuery Effects work in jsfiddle but not in offline/online', 'What is the difference between Form5!ProgressBar.Max and Form5.ProgressBar.Max?', 'Move file from linux server to windows sharedrive with (i)python', 'KineticJS - Cannot add dynamic object', 'Django: How can I get a block from a template?', 'When can we say a design is completely RESTful?', \"String replace doesn't work when pass string through android webView JavascriptInterface\", 'Javascript private methods -- what is the memory impact?', \"can't find variable __fbbatchedbridge (<unknown file>: 1)\", 'socket.io upgraded from 0.9.6 to 1.3.5 sends wrong requests', 'AuthLogic UserSessions Controller Returning Nil', 'jQuery image slide show carousel when using ajax', 'java SimpleDateFormat pattern different with argument', 'jQuery find and delete string in array using same array', '$(shell [foo]) in windows', 'Hive query output to file', \"First wpdb insert to mySql new table isn't working\", 'boost::shared_ptr and nullptr in default template function argument', 'how to show api data in html view in Angular 2 get api', 'iOS sending audio file to web server', 'Where did extra space come from in html of Struts app?', 'Automatically set a property value for a new record in a Dynamic Data application', 'Symfony2 : how to remove request parameter?', 'Fluent NHibernate 3 and Oracle.DataAccess', 'How to check the type of a variable against another variable in Swift', 'How to avoid using asInstanceOf in Scala', 'Cursor visible on overlapping div which has higher z-index', 'flags for st_mode of stat system call', 'C# Getting sender address from UDP message', 'File upload working under Jetty but not under Tomcat', 'jQuery: getting/parsing content from different sites', 'Find parent keys in hierarchy in PHP', 'android path shifted once finger is removed', 'asp.net ajax like reorder list', 'Python: How to continue a nested for loop?', 'MVC3 Ajax.ActionLink', \"Will SCC pattern change if we reverse a graph(using Kosaraju's Algorithm)?\", 'Accessing css class from another file', 'sparkline R creating html table', 'multisampling and fragment shader', 'How to avoid reading comments in text file?', 'Redirect simple url to https in php codeigniter', 'Remote Validation Fails When Annotating Complex Types', 'how to display data in parse objects to recycler view in android', 'Set max_width , max_height 100% for Manifest nwjs', 'mysql UPDATE query does not run', 'PHP comet usleep blocking apache mpm?', 'Avoid .NET Native bugs', 'PCSC detect multiple smartcards', 'Proper usage of out parameter in C#', 'When using Grunt to build an app, how do you edit the HTML file script and style includes?', 'How do I perform this query using sailsjs ORM (waterline)', 'custom menu control in UIWebView', 'Display image and text inline', 'Canceling async httpwebrequests', 'complex sql statement to different rows', 'Remove weird border when ctrl click td in firefox', \"Catch isn't working\", 'How to fix java warning for \"The value of the local variable is not used \"', 'how to upload and read .csv file in jquery', 'pick photo from contacts', 'A workaround to get textAlignment to center in UITableViewCellStyleSubtitle', 'Time complexity analysis. while loop with inner for loop', \"Spotify Webplayer: Select Element 'Play' Button w/ Selenium\", 'Allow user to download external image PHP', 'django admin list page', \"How to configure NHibernate's Second Level Cache in NHibernate >= 3.2?\", \"Why doesn't the unix sort process grow as it consumes its input?\", 'Prevent another event from firing before a previous one is complete in jQuery?', 'Idiomatic expression simplification in Clojure', 'How to apply role-based security on struts2', 'Creating a CustomType in ng-admin fails silently', 'Need htaccess redirection', 'How to selectively delete messages from an AMQP (RabbitMQ) queue?', 'Online Java Thread dump analyzer', 'Save and access file from shared drive', 'Android: how to put TTS inside AsyncTask', 'Upload file using PHP from Compute Engine to Cloud Storage', 'Why no Circular Inheritance with same base and derived class names', 'OpenSSL binary distribution: meaning of the char at the end of version', 'Rails - How do I update multiple records via a form from the list action?', 'Fixed column size of FullCalendar', 'Get HttpResponse object as response from Volley api in android not jsonobject or string', 'Word counts in Python using regular expression', 'Why Iterator<E> iterator() is put in Collection, AbstractCollection when already in Iterable', 'Composition- could someone please clarify?', 'Visual Studio 2010 Improperly underlining code/comments with red error line when there is no error', 'How to set \"absolute\" area gradient?', 'Using INTEGER in SQL with CSV and Netbeans', 'C#/ASP.NET - Get thumbnail from PDF/DOC files', 'Adding a Random Item to a List for a Text-Based RPG', 'Error while decrypting file using KMS key in Amazon S3', 'Swift - How to find Largest value from an array and identify which array it came from', 'Rails Fragment Caching with nested Models', 'Eclipse Plugin - get Launch Configurations Tree List in a Dialog.', \"Why won't my multi-module Maven project install some of the modules?\", 'wsdl error: no proper separation of headers and document', 'Can we create TFS build definition of website without .proj file', 'jQuery select table cells with specific header', 'How to Edit a column (XtraGrid) only when adding a new row', 'Is Chrome and Firefox do not load the change in media source?', 'Redirect to Login if user not logged in Laravel', 'relations variable of content-type drupal 7', 'Change .eclipse folder in Linux', 'Calculate the width of a grouped tableview cell', 'How to get paginated results (async query) from bigquery python client?', 'How do I use OAuth2.0 to access gmail with Python over IMAP?', 'UIWebView stringByEvaluatingJavaScriptFromString Issue', 'Blurry text in WPF only when the program is ran', 'Getting YouTube livestream URL', 'Condition on numpy arrays', 'SHELLEXECUTEINFO UNICODE support?', 'Reading on QRCodes on iOS with AVCaptureSession -- alignment issues?', 'Using a function to handle AJAX errors, how can I pass additional parameters?', 'A control for choosing a number from a list', 'MATLAB: adding contour lines to points', 'Using Merge on a column and Index in Pandas', 'Rendering a OpenCV IplImage to a QGLWidget', 'Cakephp 3.x show me empty row with my custom query', 'SPuser to find group membership', 'Is there an easier way to do a macro to define a function with variable amount of arguments?', 'pickadate.js - disable dates in the past (including today) and also disable every sunday', 'React to classes added via Jquery', 'NMake macro definition on CLI which contains a space', 'How to send multiple http requests python', 'How to make greasemonkey click lots of links one by one?', 'Truncate given text to specific width, for a specific font', 'Fixed background image bug Chrome Mac', 'CSS: Semi-transparent background and an image', 'what is the equivalent of the \"literal\" tag in asp.net mvc', 'Database implementation details - per row header overhead', 'Set Custom Heigh Angular Material Autocomplete Dropdown', 'always use WIFI in Windows Mobile 6.5 C#', 'Does Google Analytics SDK 2.0 for iOS symbolicate crash reports?', 'Identifying different pickers in UIImagePickerController delegate', 'Excessive Memory Consumption in blank-ish WinForms application', 'Reset Status MariaDB', 'Insert HTML into OpenXML Word Document (.Net)', 'Install MVC on 2.0.NET Server with IIS6 without Admin Rights', 'Get distinct record from table using zend functions?', 'How To Start Using Kostache?', 'How do I read a Windows-1252 file using Rcpp?', 'Post form data to foreign aspx form', 'Need QR Code Assistance for getting an admission qr code ticket', 'when text changed inputbox automatically updates next 6 text boxes', 'Powershell - convert XML to CSV', \"Adding C++ DLL's to a C# project\", 'Cordova vibrate plugin is not working in ios', 'Thread not run immediately when using more than 4 BackgroundWorker', 'Rails 3 & Paperclip - Can I store images both on S3 & locally?', 'Get sum of column on last row, good practice?', 'Different makefiles produce different error outputs?', 'Change checkout steps order in Magento checkout', 'Time it takes to load data from prom', 'jQuery: Toggle Dropdown Menu Possibility', 'How can i get the siblings of an XML element in Java (using the DOM parser)?', 'How to set the viewport on a non-responsive mobile site?', 'Changing view or route after the request has been started in Pyramid', 'Swift: NSPopUpButtonCell in NSTableHeaderCell', 'stack ghci does not load local module but ghci does', 'How to retrieve data from three tables in SQL', 'How to call web service as part of uiviewcontroller in unit test?', 'how to retrieve the selected row of a QTableView?', 'Language detection API/Library', 'Type comparison in Haskell', 'Data is not populating in second level kartik depDrop in yii2. Gettin 0,1,2,3,4', 'iTextSharp - Use Colspan with PdfPRow', 'when to resize a hash table?', 'Panel is Invisible but children are databinding', 'What is the difference between the contracts in ABC of WCF and WCF Architecture?', 'Custom data annotation validation attribute with client side validation', 'tableHTML in shiny: show an image in a cell', 'Can you use Lambda expressions against ObjectSets in Entity Framework?', 'ajax call response not appending because of q-translate plugin', 'Amazon SNS configuration for Topics for iPhone/APNs integration', 'Use of fmin in python', 'Unable to successfully reject chained AJAX call?', 'How to set gif image as a launch image in xamarin forms', 'How to use Windows Key in my Application', 'Unexpected behavior when tracing index array in python', 'How to find object tag with param, and embed tag inside HTML using simple html DOM php', 'Maven GAE Failed to execute goal com.google.appengine:appengine-maven-plugin:1.9.12:devserver [...] NoSuchElementException', 'SaveFileDialog disables webpart buttons in Sharepoint using C#', 'How can I reshape a data.table (long into wide) without doing a function like sum or mean?', 'Writing post data from one java servlet to another', 'How can I only render certain html tags for my forum?', 'Android EditText Glitches', 'SpeechRecognitionEngine.InstalledRecognizers returns No recognizer installed', 'Convert.ToInt32(String) on String.Empty vs. Null', 'Crystal Report Not Showing Changes to Report', \"I'm looking to use Visual Studio to write and compile using the open source version of Qt4\", 'How to change sender name in Outlook ?', 'Setting the background color of statusbar in IOS app in XE8', \"Use of undefined constant CURLOPT_IPRESOLVE - assumed 'CURLOPT_IPRESOLVE'\", 'modal appears on page load', 'Make UIView stick to the top in a full width horizontal UIScrollView', 'lite-server pathing for local development', 'Masked Edit Extender Format Issue', 'Store mousedown locations', 'How to grab flash video and download video data with file_get_contents using PHP Simple HTML DOM Parser', 'what is the simpliest way to get jpg from bitmapData', 'XPath to first occurrence of element with text length >= 200 characters', 'grabbing image from folder based on size', 'Sails.js/waterline: groupBy + count', 'C# How to SELECT row n in EF6', 'F# NativePtr.stackalloc Unexpected Stack Overflow', 'Are blocks supported in iPhone OS 3.1.3?', 'Editing values during build via hooks', 'Kohana ORM - has many through models stored in parent model', 'Is there any performance difference in using .resx file and satellite assembly?', 'Using OSX Security-Scoped Bookmarks in a Firemonkey app', 'Passing function to another page in PHP', 'Could you confirm the existence or not of Matlab 64 bit?', 'Getting started reverse-engineering OS X?', 'TFS 2013 - no option to merge when resolving conflicts', 'Xcode window positions when switching from dual to single monitor', 'Running an artisan command forever with laravel forge?', 'How to auto update/refresh in grails view/site?', 'How to build docker image using Jenkins pipeline?', \"Adaptive Simpson's Method without Recursion\", 'What makes some programming languages more powerful than others?', 'PHP files downloading', 'Search posts based on multiple categories WordPress', 'Parent-Child one-to-one Relation same Table', 'How can use not embedded fonts for create new pdf file using itext in android', 'What is the correct pom dependency for the below java code?', 'Convert int64_t to double', \"Magnolia Mail Module Doesn't Work\", 'Error deleting tabs in envelope', 'Typo3 Content Elements not visible in own Fluid Template', 'Jquery easing effect', 'Sails fails to load when using remote Mongo DB', 'Fetch Gmail, Yahoo, Hotmail contacts with pagination using OmniContacts', 'Calling an extension method on a member variable of type T of class<T>', \"Why doesn't match_parent work when view is larger than viewport?\", 'Setting background color of android actionbar', 'How can I determine if a postal code is inside a defined area?', 'Check if GPS enabled on node.js + cordova + ionic app and if GPS disabled, notify the user and direct him to settings to switch on GPS', 'Warning: mysqli_real_escape_string() expects exactly 2 parameters, 1', 'Horizontally scale socket.io with redis', 'How to create CollectionView global object Which can be accessible from any controller?', 'Google app engine datastore testing no api environment is registered for this thread exception', \"android webview find element doesn't work before Kitkat version\", 'CMD & control keys swap in ubuntu', 'Django-tastypie pass request.user to custom save method', 'ioctl to block operation', 'Failed at AJAX POST request to the same page (with example)', 'Django TemplateSyntaxError: Error during template rendering', 'Return Value of Oracle.DataAccess execute non-query (stored proc)', 'How to make atomic updates to solr using pysolr?', 'Jquery datetimepicker in ASP.NET', 'Upgrading from SQL 2000 - 2008 - Log Shipping', 'How to support emojis with flourish?', 'how do I design intermittent via points for travel itinerary', \"Login-AzureRmAccount can't login to Azure using PSCredential\", \"Regex issue, restricting '*' character\", 'In Python, is there a way of saying \"if x == 2 or x == 3\" without repeating the \"x==\" part twice?', 'Probe problem when writing a I2C device driver', 'can we implement Spring Autowiring in Java Standalone Application (Swing)', 'The encoded file is not permissioned error', 'InvalidOperationException \"get_MetadataToken() cannot be used on the current platform\" when creating tables', 'In XAMPP numbers act different than real servers?', 'logging all properties of an object in c#. how to log inner object properties as well?', 'Optimal use of BitmapFactory.Options.inSampleSize for speed', 'What better tool than Sikuli to use for screen automation on Windows 7 (or preferably multi-platform)', 'Counting in XSL:FO', 'valums Ajax file uploader+406 not acceptable Error In Firbug', \"Icon's priority on action bar (keeping order of items)\", 'node.js form elements array', 'Testing private methods using RhinoMocks', 'pyscripter Rpyc error', 'CSS Vertical align middle', \"Why isn't a function declared as async of type types.CoroutineType?\", 'Remove space from columns while importing in SAS', 'nginx lua redis cookie not setting', 'Always gitlab 502 error on RaspberryPi', 'Populate a WPF Listbox Child Items with Dynamic content on Selection', 'how to find Sum(field) in condition ie \"select * from table where sum(field) < 150\"', 'UICollectionviewCell backgroundColor not Change when selected', 'How to dynamically change the background image in Meteor?', 'Abstracting gesture recognizer to two functions in Swift?', 'How to tell required version of PowerShell to run a command?', 'shouldReceiveTouch on UITableViewCellContentView', \"The conversion of type 'TimeSpan' to type 'Date' is not valid.vb.net\", 'Landscape Launch Images on Xcode 7 madness - [FIXED]', 'Old MediaWiki site broken in Chrome', '-Webkit-scroll bar + overflow + JQuery scrollTop returns always zero', 'reorder byte order in hex string (python)', 'Passport + Socket.io get logged user id', 'Background Image in Linearlayout', 'Autocomplete the input field(type=\"text\")', 'Using latex packages in MATLAB markup publish', 'Triggering Script VIA URL variable', 'Quickfix Which has higher priority: message header or sessionID?', 'Custom content type associated with Blog', 'Get log file name of database from .mdf file', 'Android wear Accelerometer/Gyro sensor', 'How to make a Nested Json Model in Vapor Swift Server , Below are the Code for the reference..?', 'Java compress/decompress large files (>1gb)', 'Why do core.async go blocks return a channel?', 'How can I change the size of rgl plots in Shiny RMarkdown?', 'PHP Zend_Db_Statement_DB2 returns null for static field', 'How to convert rows to columns in DataGridView', 'Best way to build/compile/deploy ReactJS to production', 'Dynamically set LESS variables from user settings', 'Is it possible to keep the Facebook session alive?', 'Python Tkinter after event OOPS implementation', 'Paypal IPN returning HTTP/1.1 200 OK', 'AWS Elastic Beanstalk Vs EC2 Container Service (ECS) - Docker', 'Dictionary Help! Extracting values and making a table', 'change the color of the Navigation item', 'What is document in JavaScript and what is its scope?', \"Error when I'm trying to create opportunity when converting lead to opportunity in my custom module in OpenERP\", 'Why does my dojo.domConstruct.create command not work?', 'How to fetch username of the user who is logged into AD domain on OSX using objective C', 'Sweep / chirp signal ends at incorrect frequency', 'Python tkinter scrollbar/graph scale slowing down scrolling', 'Expire session automatically and detect if the session has expired in Codeigniter', 'How to set an Alarm or Reminder events in Windows 8?', 'How to upload a Cordova picture to a Laravel 4 project by using an API', 'If only one object field is required in a method, what should be passed as a parameter - an object or a field value?', 'Populate fragment with Bundle arguments', 'Changing Source url of a XYZ layer and redrawing the layer/map?', 'Generate random polynomials with MATLAB', 'How can I display data in one table from different sql statement?', 'CSS with Google App Script', 'GSON issue with String', 'C# Annotation types in abcpdf', 'Clockwise Shifting a Matrix', 'Changing version of Azure Storage', 'Web Crawler not working in nested divs', 'How to restrict to input time for edittext in android', 'Orbeon 4 M11 + GlassFish 3.1.2 coused errors with HTTPURLConnection', 'Smart HTTP git client', 'Cover all blocks in this codeblock with unittesting', 'Add MVC to Existing Web Application with Empty Template', 'How to iterate nested objects and render inside jsx?', 'C# Component collection property not serialized when filled from property setter', 'matlab: eigs appears to give out inconsistent results', 'MYSQL Select Query where i want two row base on where condition', 'Cannot get current position of CALayer during animation', 'How to know if application is disabled in Android ICS', 'NSMutableDictionary not reading anything from plist', \"AngularJS post request doesn't get server response correctly\", 'Setting IBus Property in MVC Filter', 'a hover button in react.js', 'Fixed scrolling on a div', 'Write Text In A Already Existing Text File VB.NET', 'How to correctly deserialize a JSON string into the class that contains a nested List of another class', 'dynamic update to data for dygraph in R shiny', 'SignalR Updating TextArea realtime', 'Using MongoDB as our master database, should I use a separate graph database to implement relationships between entities?', 'Setting button to be visible', 'NSTextView : contents are gone when scrolling, and shown when on mouseover', 'IE is centering my svg', 'How to perform 0Auth2.0 authorization for Google Spreadsheet API for android?', 'Change the width of the cell content in java using PDFCell', 'php - If Pagerank Is Less Than 0 Output N/A', 'Google Maps: how to calculate the \"double\" the zoom level?', 'Scope inheritance fails with multiple-named views?', 'JSON validation with custom schema', 'Cakephp foreach', 'Dynamically change the response language of Google Maps API for iOS', 'Read output from external process', \"Marshalling DIDL-Lite with Go's xml package\", 'XAMPP apache Http server has stopped working', 'Dynamically populating Interface with for-loop in Shiny', 'Initializing UITextView based on the available text font size and font name', 'Outputing index of negative numbers in a list (using structural recursion)', 'use of built in forms and views like PasswordChangeForm in django1.3', 'How to get bundle identifier of application by context id or by mach port in iOS 7(Jailbroken)?', 'Java Play activator crashes after a minute', 'OnClick event for whole page except a div', 'Django Callback on Facebook Credits', 'how to create and download a file using play framework?', 'optimum OS,server, etc setup for rails production environment', 'MediaPlayer Error (1, -2147483648) android programing', 'quickfix create order and send to currenex', 'Git cleanup/garbage collection on remote VSO git repository', 'Azure Webjobs ignores CRON expression', 'Disable shortcuts in Google Chrome', \"Selenium Webdriver can't find elements on IE8\", 'How to add a marker to a MapBox GL JS map?', 'Spring message-driven-channel-adapter: handling connection refused error', 'Connection Error to connect Rhive to R', 'Stop GCC on error with multiple files compilation', 'does linux load program-pages on demand?', 'JavaFX Text in/on Polygon', \"Java Generics : Casting a raw type to any reifiable type doesn't generate unchecked cast warning\", 'Admin User and Password for Netbeans created Glassfish domains?', 'Digital frequency doubler with a dual edge triggered flip flop in VHDL', 'How to I save a PDFSharp object to multiple files?', 'how to set the fieldname using a template in angularjs', 'Create object from remote JSON', 'How to map one column with other columns in an avro file?', 'My game is flickering due to my painting directly in JFrame. How do I use JPanel?', 'Make an OR with ransack', 'How do I handle multipart/form-data from jsp in Spring controller', 'NoClassDefFoundError during Tomcat graceful shutdown', 'How to generate a predictable shuffling of a sequence without generating the whole sequence in advance?', 'How to add C++ files in iphone project', 'css different height div grid space', 'Spring Data JPA - insert a base class into the repository', 'Jquery UI Resizable with box-sizing: \"border-box\" issue', 'How to use a set of data to generate date list between two date for each ID in mysql', 'Widestring to string conversion in Delphi 7', 'Why is \"cabal build\" so slow compared with \"make\"?', 'Canvas.drawBitmap performance on Android 4.3', 'C# combine 2 events in one method', 'InAppPurchase stop receiving the productRequest response after deleting and reinstalling app', 'Cannot start under Java 1.7.0_55-b13: Java 1.8 or later is required', 'Any word on reified generics in Java?', 'Reopen Impression Class from Impressionist Gem in Rails 4', 'I want to show EditText record of first Custom ListView to second Custom ListView EditText', 'How to specify which start event should be called from a BPMN callActivity', 'Prevent ItemChecked event on a ListView from interfering with SubItemClicked using C#', 'Opening a pdf bytestring for reading', 'ASP.NET Partial Page Class Names Best Practices', 'How to triggered mail automatically for every 3 days up to 3 times', 'pyodbc returns SQL Server DATE fields as strings', 'EmberJS multiple inverses of the same model type', 'VueJS 2.0 v-model dynamic target inside v-for', 'Method Optimisation - C#', 'how to display linux partitions using python?', 'how to make pop-up image using css3?', 'how to get the excel workbook mathematical operators using apache poi 3.6?', 'How to sort ArrayList of integers without regardless of positive and negative values', 'How to create custom error page in spring boot', 'Update free space amount displayed in Windows Explorer', \"Error using ==> fprintf Function is not defined for 'sym' inputs\", 'How to make overflow menu like Chrome app?', \"TypeScript 0.9.* VisualStudio TS5037: Cannot compile external modules unless the '--module' flag is provided\", 'How to delete duplicated rows based in a column value?', 'FireBase Authentication Server Hosting Error', 'Hyperledger Fabric fabcar example chaincode in dev mode (peer-chaincodedev)', 'Spring @CacheEvict one key evicting', 'Cant get the zend loader to load classes only under wamp', 'Codeigniter Date format', 'how to parse data from Soap envelope object in android', 'Displaying NSDecimal values in XCode debugger', 'Convert Separate TableViewController and ViewController into UISplitView', 'how to mail dynamically generated dropdown fields values in PHP?', 'Partial inheritance - inheriting some functionality, minus a problematic method', 'Tipps for developing an ajax based wizard for mvc/razor', 'Observer not working in Ember?', 'Python: is there a C-like for loop available?', 'Powershell remove XML tags', 'Ruby HTTP POST - Errors', 'How to dynamically change image/div dimensions based on window size?', 'Animating multi-path polylines in Google Maps V3', 'Nested React <input> element loses focus on typing', 'get value of child <div> of a parent <div>', 'ODBC connection for 64 bit R and 64 bit MS access Database', 'Linking against clang-llvm', 'Wamp setup - CFIDE - Coldfusion mapping is not working', 'Jquery slow reaction time', 'How to limit rate of requests to web services in Python?', \"Google Drive/OAuth - Can't figure out how to get re-usable GoogleCredentials\", 'Return to Search result page', 'Facebook news feed reader on android', 'generating maven project inheritance/aggregation diagram', 'jinja2: building table by iterating down columns instead of across rows', 'Where do you put your dependencies?', 'Move item from one listBox to another listBox', 'Why does Perl\\'s IO::Socket on Windows complain about \"Resource Not Available\" after 64 connections?', 'Redirect to other html page and scrollTop: to a certain div', 'How to load php page with fancybox?', 'Visual Studio Code command \"dnx run\" not available', 'How to avoid \"‘main’ is not defined in module ‘Main’\" when using syntastic', 'Drawing a triangle with rounded bottom in CSS?', 'What framework does Windows Phone 7 and Windows Phone 8 support?', 'Single/sub pixel misalignment of divs on ipad and iphone safari', 'Count and Order By Where clause Matches', 'Firebase local server', 'Mean App, not crawling using google crawler', \"R's coreNLP::initCoreNLP() throws java.lang.OutOfMemoryError\", 'Android - aChartEngine getCurrentSeriesAndPoint() not working for disconnected graph', 'Minimize function selection and function call overhead?', 'Can a Scala script reference other uncompiled scala code in the same directory?', 'Read Call History from iPhone on iOS 5 and above', 'How can I send binary data from Sinatra?', 'Batch script to find a regex in a text file and write it line by line in another text file', 'draw polygon shape on canvas and allow tooltip on it', 'determine the root exception?', 'The task has more than one activity', 'Stream types in C++, how to read from IstringStream?', 'Dozer Boolean Mapping - Generic Method', 'Unable to add Impressionist model to Solr', 'Docker image for Spring/RabbitMQ tutorial results in connection refused', 'oozie sqoop action with hive import', 'Barcode detection using Hough Transform & Edge Detection', 'How can you solve equations in PHP?', 'unexpected indentation error with favicon_tag after migration to rails 5.0', 'Regex to split on whitespace but not escaped whitespace', 'QML TreeView not updating at runtime after adding new data to the model', 'How can I sort elements by new counted values in their child element. XSLT 1.0', 'VBA change instance variable from module (excel)', 'How many columns in MySQL table', 'Checking data in a csv file using python', 'MailChimp API 2.0 Batch Subscription PHP', 'C# Winforms FileInfo Error', 'Dealing with large TIFF images C++/Magick/libtiff', 'find common value of one matrix in another matrix', 'Performing async method in a loop in node.js and waiting for result', 'Module has no attribute error in python3', 'jpa Entity Metadata', 'How do you use the LaTeX blackboard font in MATLAB?', 'Python - Importing a global/site-packages module rather than the file of the same name in the local directory', 'ISCC passing a parameter in the Compiler IDE', 'IE8 ignores \"filter\" CSS styles', 'Is there a way to load a webpage in pieces using ASP.NET?', 'Requiring unknown module \"buffer\" in react-native-route-flux', 'Eclipse, where to change the current debug line background?', 'How to wait and get text from another form in multiple backgroundworker', 'HTML document width exceeds 100% when i increase the height to bigger than screen height']\n"
     ]
    }
   ],
   "source": [
    "for line in validation[:3]:\n",
    "  print(line)"
   ]
  },
  {
   "cell_type": "markdown",
   "metadata": {
    "colab_type": "text",
    "id": "WabJT-lN1aHF"
   },
   "source": [
    "As you can see, we deal with the raw data. It means that we have many punctuation marks, special characters and unlowercased letters. In our case, it could lead to the situation where we can't find some embeddings, e.g. for the word \"grid?\". \n",
    "\n",
    "To solve this problem you should use the functions *text_prepare* from the previous assignments to prepare the data."
   ]
  },
  {
   "cell_type": "code",
   "execution_count": 0,
   "metadata": {
    "colab": {},
    "colab_type": "code",
    "id": "g8Mnd-DV1aHF"
   },
   "outputs": [],
   "source": [
    "from util import text_prepare"
   ]
  },
  {
   "cell_type": "markdown",
   "metadata": {
    "colab_type": "text",
    "id": "mRN_-apX1aHH"
   },
   "source": [
    "Now transform all the questions from the validation set:"
   ]
  },
  {
   "cell_type": "code",
   "execution_count": 0,
   "metadata": {
    "colab": {},
    "colab_type": "code",
    "id": "jbB3GRdK1aHI"
   },
   "outputs": [],
   "source": [
    "prepared_validation = []\n",
    "for line in validation:\n",
    "    ######### YOUR CODE HERE #############\n",
    "    q, *ex = line\n",
    "    q = text_prepare(q)\n",
    "    for i,e in enumerate(ex):\n",
    "        ex[i] = text_prepare(e)\n",
    "    prepared_validation.append([q,*ex])"
   ]
  },
  {
   "cell_type": "markdown",
   "metadata": {
    "colab_type": "text",
    "id": "TMTmlYk41aHL"
   },
   "source": [
    "Let's evaluate the approach again after the preparation:"
   ]
  },
  {
   "cell_type": "code",
   "execution_count": 0,
   "metadata": {
    "colab": {},
    "colab_type": "code",
    "id": "O1LFI7s31aHM"
   },
   "outputs": [],
   "source": [
    "wv_prepared_ranking = []\n",
    "for line in prepared_validation:\n",
    "    q, *ex = line\n",
    "    ranks = rank_candidates(q, ex, wv_embeddings)\n",
    "    wv_prepared_ranking.append([r[0] for r in ranks].index(0) + 1)"
   ]
  },
  {
   "cell_type": "code",
   "execution_count": 52,
   "metadata": {
    "colab": {
     "base_uri": "https://localhost:8080/",
     "height": 119
    },
    "colab_type": "code",
    "id": "wVdqXIF21aHT",
    "outputId": "e8d1d750-83bd-4e5f-9f23-6676dc981407"
   },
   "outputs": [
    {
     "name": "stdout",
     "output_type": "stream",
     "text": [
      "DCG@   1: 0.320 | Hits@   1: 0.320\n",
      "DCG@   5: 0.387 | Hits@   5: 0.448\n",
      "DCG@  10: 0.404 | Hits@  10: 0.500\n",
      "DCG@ 100: 0.438 | Hits@ 100: 0.669\n",
      "DCG@ 500: 0.460 | Hits@ 500: 0.844\n",
      "DCG@1000: 0.477 | Hits@1000: 1.000\n"
     ]
    }
   ],
   "source": [
    "for k in [1, 5, 10, 100, 500, 1000]:\n",
    "    print(\"DCG@%4d: %.3f | Hits@%4d: %.3f\" % (k, dcg_score(wv_prepared_ranking, k), \n",
    "                                              k, hits_count(wv_prepared_ranking, k)))"
   ]
  },
  {
   "cell_type": "markdown",
   "metadata": {
    "colab_type": "text",
    "id": "BQtQ_Wh31aHX"
   },
   "source": [
    "Now, prepare also train and test data, because you will need it in the future:"
   ]
  },
  {
   "cell_type": "code",
   "execution_count": 0,
   "metadata": {
    "colab": {},
    "colab_type": "code",
    "id": "B-7XJDKh1aHZ"
   },
   "outputs": [],
   "source": [
    "def prepare_file(in_, out_):\n",
    "    out = open(out_, 'w')\n",
    "    for line in open(in_, encoding='utf8'):\n",
    "        line = line.strip().split('\\t')\n",
    "        new_line = [text_prepare(q) for q in line]\n",
    "        print(*new_line, sep='\\t', file=out)\n",
    "    out.close()"
   ]
  },
  {
   "cell_type": "code",
   "execution_count": 0,
   "metadata": {
    "colab": {},
    "colab_type": "code",
    "id": "zrl2qpWZ1aHb"
   },
   "outputs": [],
   "source": [
    "######################################\n",
    "######### YOUR CODE HERE #############\n",
    "######################################\n",
    "prepare_file('./data/validation.tsv', './data/prepared_validation.tsv')\n",
    "prepare_file('./data/test.tsv', './data/prepared_test.tsv')\n",
    "prepare_file('./data/train.tsv', './data/prepared_train.tsv')"
   ]
  },
  {
   "cell_type": "markdown",
   "metadata": {
    "colab_type": "text",
    "id": "NyYrZ6_c1aHe"
   },
   "source": [
    "**Task 4 (W2VTokenizedRanks).** For each question from prepared *test.tsv* submit the ranks of the candidates to earn the points. The calculations should take about 3-5 minutes. Pay attention that the function *rank_candidates* returns a ranking, while in this case you should find a position in this ranking. Ranks should start with 1."
   ]
  },
  {
   "cell_type": "code",
   "execution_count": 0,
   "metadata": {
    "colab": {},
    "colab_type": "code",
    "id": "u2O783UN1aHe"
   },
   "outputs": [],
   "source": [
    "from util import matrix_to_string"
   ]
  },
  {
   "cell_type": "code",
   "execution_count": 58,
   "metadata": {
    "colab": {
     "base_uri": "https://localhost:8080/",
     "height": 54
    },
    "colab_type": "code",
    "id": "KetgPHSp1aHg",
    "outputId": "29c0c920-c44a-4bd1-d3d5-29d58110429e"
   },
   "outputs": [
    {
     "name": "stdout",
     "output_type": "stream",
     "text": [
      "Current answer for task W2VTokenizedRanks is: 95\t94\t7\t9\t64\t37\t32\t93\t24\t100\t98\t17\t60\t6\t97\t49\t70\t38\t42\t96\t30\t21\t2\t65\t67\t45\t27\t26\t57\t62\t11\t88\t56\t66\t7...\n"
     ]
    }
   ],
   "source": [
    "w2v_ranks_results = []\n",
    "prepared_test_data = './data/prepared_test.tsv'######### YOUR CODE HERE #############\n",
    "for line in open(prepared_test_data):\n",
    "    q, *ex = line.strip().split('\\t')\n",
    "    ranks = rank_candidates(q, ex, wv_embeddings, 300)\n",
    "    ranked_candidates = [r[0] for r in ranks]\n",
    "    w2v_ranks_results.append([ranked_candidates.index(i) + 1 for i in range(len(ranked_candidates))])\n",
    "    \n",
    "grader.submit_tag('W2VTokenizedRanks', matrix_to_string(w2v_ranks_results))"
   ]
  },
  {
   "cell_type": "markdown",
   "metadata": {
    "colab_type": "text",
    "id": "4eTK0LjZ1aHi"
   },
   "source": [
    "## Advanced solution: StarSpace embeddings\n",
    "\n",
    "Now you are ready to train your own word embeddings! In particular, you need to train embeddings specially for our task of duplicates detection. Unfortunately, StarSpace cannot be run on Windows and we recommend to use provided\n",
    "[docker container](https://github.com/hse-aml/natural-language-processing/blob/master/Docker-tutorial.md) or other alternatives. Don't delete results of this task because you will need it in the final project.\n",
    "\n",
    "### How it works and what's the main difference with word2vec?\n",
    "The main point in this section is that StarSpace can be trained specifically for some tasks. In contrast to word2vec model, which tries to train similar embeddings for words in similar contexts, StarSpace uses embeddings for the whole sentence (just as a sum of embeddings of words and phrases). Despite the fact that in both cases we get word embeddings as a result of the training, StarSpace embeddings are trained using some supervised data, e.g. a set of similar sentence pairs, and thus they can better suit the task.\n",
    "\n",
    "In our case, StarSpace should use two types of sentence pairs for training: \"positive\" and \"negative\". \"Positive\" examples are extracted from the train sample (duplicates, high similarity) and the \"negative\" examples are generated randomly (low similarity assumed). \n",
    "\n",
    "### How to choose the best params for the model?\n",
    "Normally, you would start with some default choice and then run extensive experiments to compare different strategies. However, we have some recommendations ready for you to save your time:\n",
    "- Be careful with choosing the suitable training mode. In this task we want to explore texts similarity which corresponds to *trainMode = 3*.\n",
    "- Use adagrad optimization (parameter *adagrad = true*).\n",
    "- Set the length of phrase equal to 1 (parameter *ngrams*), because we need embeddings only for words.\n",
    "- Don't use a large number of *epochs* (we think that 5 should be enough).\n",
    "- Try dimension *dim* equal to 100.\n",
    "- To compare embeddings usually *cosine* *similarity* is used.\n",
    "- Set *minCount* greater than 1 (for example, 2) if you don't want to get embeddings for extremely rare words.\n",
    "- Parameter *verbose = true* could show you the progress of the training process.\n",
    "- Set parameter *fileFormat* equals *labelDoc*.\n",
    "- Parameter *negSearchLimit* is responsible for a number of negative examples which is used during the training. We think that 10 will be enought for this task.\n",
    "- To increase a speed of training we recommend to set *learning rate* to 0.05."
   ]
  },
  {
   "cell_type": "markdown",
   "metadata": {
    "colab_type": "text",
    "id": "mC6O1vyE1aHi"
   },
   "source": [
    "Train StarSpace embeddings for unigrams on the train dataset. You don't need to change the format of the input data. Just don't forget to use prepared version of the training data. \n",
    "\n",
    "If you follow the instruction, the training process will take about 1 hour. The size of the embeddings' dictionary should be approximately 100 000 (number of lines in the result file). If you got significantly more than this number, try to check all the instructions above."
   ]
  },
  {
   "cell_type": "code",
   "execution_count": 61,
   "metadata": {
    "colab": {
     "base_uri": "https://localhost:8080/",
     "height": 867
    },
    "colab_type": "code",
    "id": "DEpHZXww1aHk",
    "outputId": "60b32e38-58e7-408d-99a9-a4fedc6a5e96"
   },
   "outputs": [
    {
     "name": "stdout",
     "output_type": "stream",
     "text": [
      "Arguments: \n",
      "lr: 0.05\n",
      "dim: 100\n",
      "epoch: 5\n",
      "maxTrainTime: 8640000\n",
      "validationPatience: 10\n",
      "saveEveryEpoch: 0\n",
      "loss: hinge\n",
      "margin: 0.05\n",
      "similarity: cosine\n",
      "maxNegSamples: 10\n",
      "negSearchLimit: 10\n",
      "thread: 10\n",
      "minCount: 2\n",
      "minCountLabel: 1\n",
      "label: __label__\n",
      "ngrams: 1\n",
      "bucket: 2000000\n",
      "adagrad: 1\n",
      "trainMode: 3\n",
      "fileFormat: labelDoc\n",
      "normalizeText: 0\n",
      "dropoutLHS: 0\n",
      "dropoutRHS: 0\n",
      "Start to initialize starspace model.\n",
      "Build dict from input file : ./data/prepared_train.tsv\n",
      "Read 12M words\n",
      "Number of words in dictionary:  95058\n",
      "Number of labels in dictionary: 0\n",
      "Loading data from file : ./data/prepared_train.tsv\n",
      "Total number of examples loaded : 999740\n",
      "Initialized model weights. Model size :\n",
      "matrix : 95058 100\n",
      "Training epoch 0: 0.05 0.01\n",
      "Epoch: 100.0%  lr: 0.040030  loss: 0.009041  eta: 0h34m  tot: 0h8m37s  (20.0%)\n",
      " ---+++                Epoch    0 Train error : 0.00899277 +++--- ☃\n",
      "Training epoch 1: 0.04 0.01\n",
      "Epoch: 100.0%  lr: 0.030040  loss: 0.002637  eta: 0h24m  tot: 0h16m58s  (40.0%)\n",
      " ---+++                Epoch    1 Train error : 0.00266345 +++--- ☃\n",
      "Training epoch 2: 0.03 0.01\n",
      "Epoch: 100.0%  lr: 0.020110  loss: 0.001914  eta: 0h16m  tot: 0h25m13s  (60.0%)\n",
      " ---+++                Epoch    2 Train error : 0.00188731 +++--- ☃\n",
      "Training epoch 3: 0.02 0.01\n",
      "Epoch: 100.0%  lr: 0.010070  loss: 0.001552  eta: 0h8m  tot: 0h33m25s  (80.0%)\n",
      " ---+++                Epoch    3 Train error : 0.00155371 +++--- ☃\n",
      "Training epoch 4: 0.01 0.01\n",
      "Epoch: 100.0%  lr: 0.000010  loss: 0.001345  eta: <1min   tot: 0h41m37s  (100.0%)\n",
      " ---+++                Epoch    4 Train error : 0.00136604 +++--- ☃\n",
      "Saving model to file : sodd\n",
      "Saving model in tsv format : sodd.tsv\n"
     ]
    }
   ],
   "source": [
    "######### TRAINING HAPPENING HERE #############\n",
    "!Starspace/starspace train -trainFile './data/prepared_train.tsv' -model \"sodd\" -trainMode 3 \\\n",
    "    -adagrad true -ngrams 1 -epoch 5 -dim 100 -minCount 2 -verbose true -fileFormat \"labelDoc\" \\\n",
    "    -negSearchLimit 10 -similarity \"cosine\" -lr 0.05"
   ]
  },
  {
   "cell_type": "markdown",
   "metadata": {
    "colab_type": "text",
    "collapsed": true,
    "id": "fE2V1lxP1aHm"
   },
   "source": [
    "And now we can compare the new embeddings with the previous ones. You can find trained word vectors in the file *[model_file_name].tsv*. Upload the embeddings from StarSpace into a dict. "
   ]
  },
  {
   "cell_type": "code",
   "execution_count": 0,
   "metadata": {
    "colab": {},
    "colab_type": "code",
    "id": "p7V4Svgi1aHm"
   },
   "outputs": [],
   "source": [
    "starspace_embeddings = {}\n",
    "for line in open('./sodd.tsv'):\n",
    "    word,*vec = line.strip().split()\n",
    "    vf = []\n",
    "    for v in vec:\n",
    "        vf.append(float(v))\n",
    "    starspace_embeddings[word] = np.array(vf)######### YOUR CODE HERE #############"
   ]
  },
  {
   "cell_type": "code",
   "execution_count": 0,
   "metadata": {
    "colab": {},
    "colab_type": "code",
    "id": "JoYMWQnm1aHo"
   },
   "outputs": [],
   "source": [
    "ss_prepared_ranking = []\n",
    "for line in prepared_validation:\n",
    "    q, *ex = line\n",
    "    ranks = rank_candidates(q, ex, starspace_embeddings, 100)\n",
    "    ss_prepared_ranking.append([r[0] for r in ranks].index(0) + 1)"
   ]
  },
  {
   "cell_type": "code",
   "execution_count": 64,
   "metadata": {
    "colab": {
     "base_uri": "https://localhost:8080/",
     "height": 119
    },
    "colab_type": "code",
    "id": "3BcEK9Bw1aHr",
    "outputId": "3cfc27d6-2788-46b0-ad60-8253a81bbeed"
   },
   "outputs": [
    {
     "name": "stdout",
     "output_type": "stream",
     "text": [
      "DCG@   1: 0.513 | Hits@   1: 0.513\n",
      "DCG@   5: 0.611 | Hits@   5: 0.694\n",
      "DCG@  10: 0.630 | Hits@  10: 0.755\n",
      "DCG@ 100: 0.661 | Hits@ 100: 0.904\n",
      "DCG@ 500: 0.672 | Hits@ 500: 0.983\n",
      "DCG@1000: 0.673 | Hits@1000: 1.000\n"
     ]
    }
   ],
   "source": [
    "for k in [1, 5, 10, 100, 500, 1000]:\n",
    "    print(\"DCG@%4d: %.3f | Hits@%4d: %.3f\" % (k, dcg_score(ss_prepared_ranking, k), \n",
    "                                               k, hits_count(ss_prepared_ranking, k)))"
   ]
  },
  {
   "cell_type": "markdown",
   "metadata": {
    "colab_type": "text",
    "id": "ASwR--Zv1aHs"
   },
   "source": [
    "Due to training for the particular task with the supervised data, you should expect to obtain a higher quality than for the previous approach. In additiion, despite the fact that StarSpace's trained vectors have a smaller dimension than word2vec's, it provides better results in this task."
   ]
  },
  {
   "cell_type": "markdown",
   "metadata": {
    "colab_type": "text",
    "id": "BJKkuCcB1aHt"
   },
   "source": [
    "**Task 5 (StarSpaceRanks).** For each question from prepared *test.tsv* submit the ranks of the candidates for trained representation."
   ]
  },
  {
   "cell_type": "code",
   "execution_count": 66,
   "metadata": {
    "colab": {
     "base_uri": "https://localhost:8080/",
     "height": 54
    },
    "colab_type": "code",
    "id": "i0WQ-Wgm1aHu",
    "outputId": "a0d9584d-1442-4949-ea49-c85b16d20042"
   },
   "outputs": [
    {
     "name": "stdout",
     "output_type": "stream",
     "text": [
      "Current answer for task StarSpaceRanks is: 94\t42\t89\t20\t8\t65\t56\t53\t45\t62\t24\t29\t1\t40\t79\t30\t7\t43\t13\t61\t75\t57\t92\t67\t90\t12\t80\t97\t52\t10\t41\t85\t58\t19\t5...\n"
     ]
    }
   ],
   "source": [
    "starspace_ranks_results = []\n",
    "prepared_test_data = './data/prepared_test.tsv'######### YOUR CODE HERE #############\n",
    "for line in open(prepared_test_data):\n",
    "    q, *ex = line.strip().split('\\t')\n",
    "    ranks = rank_candidates(q, ex, starspace_embeddings, 100)\n",
    "    ranked_candidates = [r[0] for r in ranks]\n",
    "    starspace_ranks_results.append([ranked_candidates.index(i) + 1 for i in range(len(ranked_candidates))])\n",
    "    \n",
    "grader.submit_tag('StarSpaceRanks', matrix_to_string(starspace_ranks_results))"
   ]
  },
  {
   "cell_type": "markdown",
   "metadata": {
    "colab_type": "text",
    "id": "6lVSJNdW1aHv"
   },
   "source": [
    "Please, **don't remove** the file with these embeddings because you will need them in the final project."
   ]
  },
  {
   "cell_type": "markdown",
   "metadata": {
    "colab_type": "text",
    "id": "LH1m2Vmm1aHv"
   },
   "source": [
    "### Authorization & Submission\n",
    "To submit assignment parts to Cousera platform, please, enter your e-mail and token into variables below. You can generate token on this programming assignment page. <b>Note:</b> Token expires 30 minutes after generation."
   ]
  },
  {
   "cell_type": "code",
   "execution_count": 67,
   "metadata": {
    "colab": {
     "base_uri": "https://localhost:8080/",
     "height": 612
    },
    "colab_type": "code",
    "id": "3nX2cBCP1aHv",
    "outputId": "5aafd022-3d71-4253-b61b-5426e123c181"
   },
   "outputs": [
    {
     "name": "stdout",
     "output_type": "stream",
     "text": [
      "You want to submit these parts:\n",
      "Task Question2Vec: 0.01929389126598835\n",
      "-0.02872721292078495\n",
      "0.0460561104118824\n",
      "0.0852593332529068\n",
      "0.0243055559694767\n",
      "-0...\n",
      "Task HitsCount: 1.0\n",
      "0.5\n",
      "1.0\n",
      "0.5\n",
      "1.0\n",
      "0.3333333333333333\n",
      "0.6666666666666666\n",
      "1.0\n",
      "0.1\n",
      "0.2\n",
      "0.3\n",
      "0.4\n",
      "0.5\n",
      "0.6\n",
      "0.7\n",
      "0.8\n",
      "0.9\n",
      "1....\n",
      "Task DCGScore: 1.0\n",
      "0.5\n",
      "0.8154648767857288\n",
      "0.5\n",
      "0.8154648767857288\n",
      "0.3333333333333333\n",
      "0.5436432511904858\n",
      "0.7103099178...\n",
      "Task W2VTokenizedRanks: 95\t94\t7\t9\t64\t37\t32\t93\t24\t100\t98\t17\t60\t6\t97\t49\t70\t38\t42\t96\t30\t21\t2\t65\t67\t45\t27\t26\t57\t62\t11\t88\t56\t66\t7...\n",
      "Task StarSpaceRanks: 94\t42\t89\t20\t8\t65\t56\t53\t45\t62\t24\t29\t1\t40\t79\t30\t7\t43\t13\t61\t75\t57\t92\t67\t90\t12\t80\t97\t52\t10\t41\t85\t58\t19\t5...\n"
     ]
    }
   ],
   "source": [
    "STUDENT_EMAIL = \"gureddy@microsoft.com\"# EMAIL \n",
    "STUDENT_TOKEN = \"TF9ffDoTBMkWflS8\" # TOKEN \n",
    "grader.status()"
   ]
  },
  {
   "cell_type": "markdown",
   "metadata": {
    "colab_type": "text",
    "id": "OIcSE8p41aHy"
   },
   "source": [
    "If you want to submit these answers, run cell below"
   ]
  },
  {
   "cell_type": "code",
   "execution_count": 68,
   "metadata": {
    "colab": {
     "base_uri": "https://localhost:8080/",
     "height": 34
    },
    "colab_type": "code",
    "id": "MWOYUrp-1aHz",
    "outputId": "e4035db2-45ad-40ea-c7cf-3b7ba1bc7f90"
   },
   "outputs": [
    {
     "name": "stdout",
     "output_type": "stream",
     "text": [
      "Submitted to Coursera platform. See results on assignment page!\n"
     ]
    }
   ],
   "source": [
    "grader.submit(STUDENT_EMAIL, STUDENT_TOKEN)"
   ]
  },
  {
   "cell_type": "code",
   "execution_count": 0,
   "metadata": {
    "colab": {},
    "colab_type": "code",
    "id": "9925c0Z2l44r"
   },
   "outputs": [],
   "source": []
  }
 ],
 "metadata": {
  "accelerator": "GPU",
  "colab": {
   "name": "week3-Embeddings.ipynb",
   "provenance": [],
   "version": "0.3.2"
  },
  "kernelspec": {
   "display_name": "Python 3",
   "language": "python",
   "name": "python3"
  },
  "language_info": {
   "codemirror_mode": {
    "name": "ipython",
    "version": 3
   },
   "file_extension": ".py",
   "mimetype": "text/x-python",
   "name": "python",
   "nbconvert_exporter": "python",
   "pygments_lexer": "ipython3",
   "version": "3.6.5"
  }
 },
 "nbformat": 4,
 "nbformat_minor": 1
}
